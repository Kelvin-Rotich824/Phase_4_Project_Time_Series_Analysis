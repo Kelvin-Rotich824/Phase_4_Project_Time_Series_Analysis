{
 "cells": [
  {
   "cell_type": "markdown",
   "metadata": {},
   "source": [
    "## PHASE 4 PROJECT : GROUP 10.\n",
    "## Project Title: Time Series Modelling of Real Estate Prices."
   ]
  },
  {
   "cell_type": "markdown",
   "metadata": {},
   "source": [
    "## Team Members\n",
    "1. Celiajoy Omiah\n",
    "2. Crystal Wanjiru\n",
    "3. Kelvin Rotich\n",
    "4. Miriam Nguru\n",
    "5. Paul Mbugua\n",
    "6. Stephen Butiya\n",
    "\n"
   ]
  },
  {
   "cell_type": "markdown",
   "metadata": {},
   "source": [
    "## Introduction\n",
    "This project aims to construct a time series model leveraging Zillow's dataset to assist real estate investors in making well-informed investment decisions.\n"
   ]
  },
  {
   "cell_type": "markdown",
   "metadata": {},
   "source": [
    "## Overview\n",
    "In this project we aim to do the following:\n",
    "\n",
    "1. Loading the dataset.\n",
    "2. Gaining a comprehensive understanding of the dataset.\n",
    "3. dentifying and selecting our target variable.\n",
    "4. Preparing the dataset, which involves tasks such as cleaning, checking for multicollinearity, and ensuring data integrity.\n",
    "5. Encoding categorical variables to make them compatible with our modeling process.\n",
    "6. Building several models to explore different approaches.\n",
    "7. Evaluating the performance of our models using appropriate metrics.\n",
    "8. Utilizing our trained models for making predictions.\n",
    "9. Drawing meaningful insights and conclusions based on our findings."
   ]
  },
  {
   "cell_type": "markdown",
   "metadata": {},
   "source": [
    "##  Business understanding\n",
    "Real estate investment stands as a profitable and ever-evolving industry, demanding meticulous analysis and strategic decision-making. A fictitious real estate investment firm is currently in search of insights to pinpoint the top five zip codes offering promising investment opportunities. To tackle this inquiry, we leverage historical data sourced from Zillow Research."
   ]
  },
  {
   "cell_type": "markdown",
   "metadata": {},
   "source": [
    "##  Objectives\n",
    "The objectives of this project:\n",
    "* To identify the top 5 zip codes, cities and states that offer the best investment potential in terms of real estate value. By analyzing historical trends and patterns, the project aims to provide actionable insights to the investment firm, enabling them to make informed decisions on where to allocate their resources.\n",
    "* To analyze the historical data of the real estate value by looking into the monthly, quarterly, semi-annual and annual patterns over time. This will help in identifying trend and seasonality in the data.\n",
    "* To create a time series model that will be able to predict future Real Estate Value."
   ]
  },
  {
   "cell_type": "markdown",
   "metadata": {},
   "source": [
    "##  Data Understanding"
   ]
  },
  {
   "cell_type": "markdown",
   "metadata": {},
   "source": [
    "The dataset encompasses details on a range of attributes, including RegionID, RegionName, City, State, Metro, SizeRank, CountyName, and the value representing real estate prices. This dataset, known as the Zillow Housing Dataset, has been obtained from the Zillow Research Page.\n",
    "\n",
    "To gain an initial insight into the structure of our dataset, let's load and preview the data."
   ]
  },
  {
   "cell_type": "code",
   "execution_count": 1,
   "metadata": {},
   "outputs": [],
   "source": [
    "#Importing the data libraries\n",
    "import numpy as np\n",
    "import pandas as pd\n",
    "import itertools\n",
    "import warnings\n",
    "warnings.filterwarnings('ignore')\n",
    "\n",
    "#importing visualisation libraries\n",
    "import matplotlib.pyplot as plt\n",
    "%matplotlib inline\n",
    "import seaborn as sns\n",
    "\n",
    "#Importing modeling libraries\n",
    "from statsmodels.tsa.stattools import adfuller\n",
    "from statsmodels.graphics.tsaplots import plot_acf\n",
    "from statsmodels.graphics.tsaplots import plot_pacf\n",
    "from matplotlib.pylab import rcParams\n",
    "from statsmodels.tsa.arima.model import ARIMA\n",
    "from sklearn.metrics import mean_squared_error, mean_absolute_error\n",
    "from prophet import Prophet\n",
    "import optuna\n",
    "import joblib"
   ]
  },
  {
   "cell_type": "code",
   "execution_count": 2,
   "metadata": {},
   "outputs": [
    {
     "name": "stdout",
     "output_type": "stream",
     "text": [
      "----------------------------Details about the data----------------------------\n",
      "\n",
      "----------------------------Shape of the dataset----------------------------\n",
      "\n"
     ]
    },
    {
     "data": {
      "text/plain": [
       "(14723, 272)"
      ]
     },
     "metadata": {},
     "output_type": "display_data"
    },
    {
     "name": "stdout",
     "output_type": "stream",
     "text": [
      "\n",
      "----------------------------Columns of the dataset----------------------------\n",
      "\n"
     ]
    },
    {
     "data": {
      "text/plain": [
       "Index(['RegionID', 'RegionName', 'City', 'State', 'Metro', 'CountyName',\n",
       "       'SizeRank', '1996-04', '1996-05', '1996-06',\n",
       "       ...\n",
       "       '2017-07', '2017-08', '2017-09', '2017-10', '2017-11', '2017-12',\n",
       "       '2018-01', '2018-02', '2018-03', '2018-04'],\n",
       "      dtype='object', length=272)"
      ]
     },
     "metadata": {},
     "output_type": "display_data"
    },
    {
     "name": "stdout",
     "output_type": "stream",
     "text": [
      "\n",
      "----------------------------Head of the dataset----------------------------\n",
      "\n"
     ]
    },
    {
     "data": {
      "text/html": [
       "<div>\n",
       "<style scoped>\n",
       "    .dataframe tbody tr th:only-of-type {\n",
       "        vertical-align: middle;\n",
       "    }\n",
       "\n",
       "    .dataframe tbody tr th {\n",
       "        vertical-align: top;\n",
       "    }\n",
       "\n",
       "    .dataframe thead th {\n",
       "        text-align: right;\n",
       "    }\n",
       "</style>\n",
       "<table border=\"1\" class=\"dataframe\">\n",
       "  <thead>\n",
       "    <tr style=\"text-align: right;\">\n",
       "      <th></th>\n",
       "      <th>RegionID</th>\n",
       "      <th>RegionName</th>\n",
       "      <th>City</th>\n",
       "      <th>State</th>\n",
       "      <th>Metro</th>\n",
       "      <th>CountyName</th>\n",
       "      <th>SizeRank</th>\n",
       "      <th>1996-04</th>\n",
       "      <th>1996-05</th>\n",
       "      <th>1996-06</th>\n",
       "      <th>...</th>\n",
       "      <th>2017-07</th>\n",
       "      <th>2017-08</th>\n",
       "      <th>2017-09</th>\n",
       "      <th>2017-10</th>\n",
       "      <th>2017-11</th>\n",
       "      <th>2017-12</th>\n",
       "      <th>2018-01</th>\n",
       "      <th>2018-02</th>\n",
       "      <th>2018-03</th>\n",
       "      <th>2018-04</th>\n",
       "    </tr>\n",
       "  </thead>\n",
       "  <tbody>\n",
       "    <tr>\n",
       "      <th>0</th>\n",
       "      <td>84654</td>\n",
       "      <td>60657</td>\n",
       "      <td>Chicago</td>\n",
       "      <td>IL</td>\n",
       "      <td>Chicago</td>\n",
       "      <td>Cook</td>\n",
       "      <td>1</td>\n",
       "      <td>334200.0</td>\n",
       "      <td>335400.0</td>\n",
       "      <td>336500.0</td>\n",
       "      <td>...</td>\n",
       "      <td>1005500</td>\n",
       "      <td>1007500</td>\n",
       "      <td>1007800</td>\n",
       "      <td>1009600</td>\n",
       "      <td>1013300</td>\n",
       "      <td>1018700</td>\n",
       "      <td>1024400</td>\n",
       "      <td>1030700</td>\n",
       "      <td>1033800</td>\n",
       "      <td>1030600</td>\n",
       "    </tr>\n",
       "    <tr>\n",
       "      <th>1</th>\n",
       "      <td>90668</td>\n",
       "      <td>75070</td>\n",
       "      <td>McKinney</td>\n",
       "      <td>TX</td>\n",
       "      <td>Dallas-Fort Worth</td>\n",
       "      <td>Collin</td>\n",
       "      <td>2</td>\n",
       "      <td>235700.0</td>\n",
       "      <td>236900.0</td>\n",
       "      <td>236700.0</td>\n",
       "      <td>...</td>\n",
       "      <td>308000</td>\n",
       "      <td>310000</td>\n",
       "      <td>312500</td>\n",
       "      <td>314100</td>\n",
       "      <td>315000</td>\n",
       "      <td>316600</td>\n",
       "      <td>318100</td>\n",
       "      <td>319600</td>\n",
       "      <td>321100</td>\n",
       "      <td>321800</td>\n",
       "    </tr>\n",
       "    <tr>\n",
       "      <th>2</th>\n",
       "      <td>91982</td>\n",
       "      <td>77494</td>\n",
       "      <td>Katy</td>\n",
       "      <td>TX</td>\n",
       "      <td>Houston</td>\n",
       "      <td>Harris</td>\n",
       "      <td>3</td>\n",
       "      <td>210400.0</td>\n",
       "      <td>212200.0</td>\n",
       "      <td>212200.0</td>\n",
       "      <td>...</td>\n",
       "      <td>321000</td>\n",
       "      <td>320600</td>\n",
       "      <td>320200</td>\n",
       "      <td>320400</td>\n",
       "      <td>320800</td>\n",
       "      <td>321200</td>\n",
       "      <td>321200</td>\n",
       "      <td>323000</td>\n",
       "      <td>326900</td>\n",
       "      <td>329900</td>\n",
       "    </tr>\n",
       "    <tr>\n",
       "      <th>3</th>\n",
       "      <td>84616</td>\n",
       "      <td>60614</td>\n",
       "      <td>Chicago</td>\n",
       "      <td>IL</td>\n",
       "      <td>Chicago</td>\n",
       "      <td>Cook</td>\n",
       "      <td>4</td>\n",
       "      <td>498100.0</td>\n",
       "      <td>500900.0</td>\n",
       "      <td>503100.0</td>\n",
       "      <td>...</td>\n",
       "      <td>1289800</td>\n",
       "      <td>1287700</td>\n",
       "      <td>1287400</td>\n",
       "      <td>1291500</td>\n",
       "      <td>1296600</td>\n",
       "      <td>1299000</td>\n",
       "      <td>1302700</td>\n",
       "      <td>1306400</td>\n",
       "      <td>1308500</td>\n",
       "      <td>1307000</td>\n",
       "    </tr>\n",
       "    <tr>\n",
       "      <th>4</th>\n",
       "      <td>93144</td>\n",
       "      <td>79936</td>\n",
       "      <td>El Paso</td>\n",
       "      <td>TX</td>\n",
       "      <td>El Paso</td>\n",
       "      <td>El Paso</td>\n",
       "      <td>5</td>\n",
       "      <td>77300.0</td>\n",
       "      <td>77300.0</td>\n",
       "      <td>77300.0</td>\n",
       "      <td>...</td>\n",
       "      <td>119100</td>\n",
       "      <td>119400</td>\n",
       "      <td>120000</td>\n",
       "      <td>120300</td>\n",
       "      <td>120300</td>\n",
       "      <td>120300</td>\n",
       "      <td>120300</td>\n",
       "      <td>120500</td>\n",
       "      <td>121000</td>\n",
       "      <td>121500</td>\n",
       "    </tr>\n",
       "  </tbody>\n",
       "</table>\n",
       "<p>5 rows × 272 columns</p>\n",
       "</div>"
      ],
      "text/plain": [
       "   RegionID  RegionName      City State              Metro CountyName  \\\n",
       "0     84654       60657   Chicago    IL            Chicago       Cook   \n",
       "1     90668       75070  McKinney    TX  Dallas-Fort Worth     Collin   \n",
       "2     91982       77494      Katy    TX            Houston     Harris   \n",
       "3     84616       60614   Chicago    IL            Chicago       Cook   \n",
       "4     93144       79936   El Paso    TX            El Paso    El Paso   \n",
       "\n",
       "   SizeRank   1996-04   1996-05   1996-06  ...  2017-07  2017-08  2017-09  \\\n",
       "0         1  334200.0  335400.0  336500.0  ...  1005500  1007500  1007800   \n",
       "1         2  235700.0  236900.0  236700.0  ...   308000   310000   312500   \n",
       "2         3  210400.0  212200.0  212200.0  ...   321000   320600   320200   \n",
       "3         4  498100.0  500900.0  503100.0  ...  1289800  1287700  1287400   \n",
       "4         5   77300.0   77300.0   77300.0  ...   119100   119400   120000   \n",
       "\n",
       "   2017-10  2017-11  2017-12  2018-01  2018-02  2018-03  2018-04  \n",
       "0  1009600  1013300  1018700  1024400  1030700  1033800  1030600  \n",
       "1   314100   315000   316600   318100   319600   321100   321800  \n",
       "2   320400   320800   321200   321200   323000   326900   329900  \n",
       "3  1291500  1296600  1299000  1302700  1306400  1308500  1307000  \n",
       "4   120300   120300   120300   120300   120500   121000   121500  \n",
       "\n",
       "[5 rows x 272 columns]"
      ]
     },
     "metadata": {},
     "output_type": "display_data"
    },
    {
     "name": "stdout",
     "output_type": "stream",
     "text": [
      "\n",
      "\n",
      "----------------------------Data information ----------------------------\n",
      "\n",
      "<class 'pandas.core.frame.DataFrame'>\n",
      "RangeIndex: 14723 entries, 0 to 14722\n",
      "Data columns (total 7 columns):\n",
      " #   Column      Non-Null Count  Dtype \n",
      "---  ------      --------------  ----- \n",
      " 0   RegionID    14723 non-null  int64 \n",
      " 1   RegionName  14723 non-null  int64 \n",
      " 2   City        14723 non-null  object\n",
      " 3   State       14723 non-null  object\n",
      " 4   Metro       13680 non-null  object\n",
      " 5   CountyName  14723 non-null  object\n",
      " 6   SizeRank    14723 non-null  int64 \n",
      "dtypes: int64(3), object(4)\n",
      "memory usage: 805.3+ KB\n"
     ]
    },
    {
     "data": {
      "text/plain": [
       "None"
      ]
     },
     "metadata": {},
     "output_type": "display_data"
    },
    {
     "name": "stdout",
     "output_type": "stream",
     "text": [
      "\n",
      "----------------------------Descriptive Statistics of the dataset ----------------------------\n",
      "\n"
     ]
    },
    {
     "data": {
      "text/html": [
       "<div>\n",
       "<style scoped>\n",
       "    .dataframe tbody tr th:only-of-type {\n",
       "        vertical-align: middle;\n",
       "    }\n",
       "\n",
       "    .dataframe tbody tr th {\n",
       "        vertical-align: top;\n",
       "    }\n",
       "\n",
       "    .dataframe thead th {\n",
       "        text-align: right;\n",
       "    }\n",
       "</style>\n",
       "<table border=\"1\" class=\"dataframe\">\n",
       "  <thead>\n",
       "    <tr style=\"text-align: right;\">\n",
       "      <th></th>\n",
       "      <th>RegionID</th>\n",
       "      <th>RegionName</th>\n",
       "      <th>SizeRank</th>\n",
       "      <th>1996-04</th>\n",
       "      <th>1996-05</th>\n",
       "      <th>1996-06</th>\n",
       "      <th>1996-07</th>\n",
       "      <th>1996-08</th>\n",
       "      <th>1996-09</th>\n",
       "      <th>1996-10</th>\n",
       "      <th>...</th>\n",
       "      <th>2017-07</th>\n",
       "      <th>2017-08</th>\n",
       "      <th>2017-09</th>\n",
       "      <th>2017-10</th>\n",
       "      <th>2017-11</th>\n",
       "      <th>2017-12</th>\n",
       "      <th>2018-01</th>\n",
       "      <th>2018-02</th>\n",
       "      <th>2018-03</th>\n",
       "      <th>2018-04</th>\n",
       "    </tr>\n",
       "  </thead>\n",
       "  <tbody>\n",
       "    <tr>\n",
       "      <th>count</th>\n",
       "      <td>14723.000000</td>\n",
       "      <td>14723.000000</td>\n",
       "      <td>14723.000000</td>\n",
       "      <td>1.368400e+04</td>\n",
       "      <td>1.368400e+04</td>\n",
       "      <td>1.368400e+04</td>\n",
       "      <td>1.368400e+04</td>\n",
       "      <td>1.368400e+04</td>\n",
       "      <td>1.368400e+04</td>\n",
       "      <td>1.368400e+04</td>\n",
       "      <td>...</td>\n",
       "      <td>1.472300e+04</td>\n",
       "      <td>1.472300e+04</td>\n",
       "      <td>1.472300e+04</td>\n",
       "      <td>1.472300e+04</td>\n",
       "      <td>1.472300e+04</td>\n",
       "      <td>1.472300e+04</td>\n",
       "      <td>1.472300e+04</td>\n",
       "      <td>1.472300e+04</td>\n",
       "      <td>1.472300e+04</td>\n",
       "      <td>1.472300e+04</td>\n",
       "    </tr>\n",
       "    <tr>\n",
       "      <th>mean</th>\n",
       "      <td>81075.010052</td>\n",
       "      <td>48222.348706</td>\n",
       "      <td>7362.000000</td>\n",
       "      <td>1.182991e+05</td>\n",
       "      <td>1.184190e+05</td>\n",
       "      <td>1.185374e+05</td>\n",
       "      <td>1.186531e+05</td>\n",
       "      <td>1.187803e+05</td>\n",
       "      <td>1.189275e+05</td>\n",
       "      <td>1.191205e+05</td>\n",
       "      <td>...</td>\n",
       "      <td>2.733354e+05</td>\n",
       "      <td>2.748658e+05</td>\n",
       "      <td>2.764646e+05</td>\n",
       "      <td>2.780332e+05</td>\n",
       "      <td>2.795209e+05</td>\n",
       "      <td>2.810953e+05</td>\n",
       "      <td>2.826571e+05</td>\n",
       "      <td>2.843687e+05</td>\n",
       "      <td>2.865114e+05</td>\n",
       "      <td>2.880399e+05</td>\n",
       "    </tr>\n",
       "    <tr>\n",
       "      <th>std</th>\n",
       "      <td>31934.118525</td>\n",
       "      <td>29359.325439</td>\n",
       "      <td>4250.308342</td>\n",
       "      <td>8.600251e+04</td>\n",
       "      <td>8.615567e+04</td>\n",
       "      <td>8.630923e+04</td>\n",
       "      <td>8.646795e+04</td>\n",
       "      <td>8.665094e+04</td>\n",
       "      <td>8.687208e+04</td>\n",
       "      <td>8.715185e+04</td>\n",
       "      <td>...</td>\n",
       "      <td>3.603984e+05</td>\n",
       "      <td>3.614678e+05</td>\n",
       "      <td>3.627563e+05</td>\n",
       "      <td>3.644610e+05</td>\n",
       "      <td>3.656003e+05</td>\n",
       "      <td>3.670454e+05</td>\n",
       "      <td>3.695727e+05</td>\n",
       "      <td>3.717739e+05</td>\n",
       "      <td>3.724612e+05</td>\n",
       "      <td>3.720544e+05</td>\n",
       "    </tr>\n",
       "    <tr>\n",
       "      <th>min</th>\n",
       "      <td>58196.000000</td>\n",
       "      <td>1001.000000</td>\n",
       "      <td>1.000000</td>\n",
       "      <td>1.130000e+04</td>\n",
       "      <td>1.150000e+04</td>\n",
       "      <td>1.160000e+04</td>\n",
       "      <td>1.180000e+04</td>\n",
       "      <td>1.180000e+04</td>\n",
       "      <td>1.200000e+04</td>\n",
       "      <td>1.210000e+04</td>\n",
       "      <td>...</td>\n",
       "      <td>1.440000e+04</td>\n",
       "      <td>1.450000e+04</td>\n",
       "      <td>1.470000e+04</td>\n",
       "      <td>1.480000e+04</td>\n",
       "      <td>1.450000e+04</td>\n",
       "      <td>1.430000e+04</td>\n",
       "      <td>1.410000e+04</td>\n",
       "      <td>1.390000e+04</td>\n",
       "      <td>1.380000e+04</td>\n",
       "      <td>1.380000e+04</td>\n",
       "    </tr>\n",
       "    <tr>\n",
       "      <th>25%</th>\n",
       "      <td>67174.500000</td>\n",
       "      <td>22101.500000</td>\n",
       "      <td>3681.500000</td>\n",
       "      <td>6.880000e+04</td>\n",
       "      <td>6.890000e+04</td>\n",
       "      <td>6.910000e+04</td>\n",
       "      <td>6.920000e+04</td>\n",
       "      <td>6.937500e+04</td>\n",
       "      <td>6.950000e+04</td>\n",
       "      <td>6.960000e+04</td>\n",
       "      <td>...</td>\n",
       "      <td>1.269000e+05</td>\n",
       "      <td>1.275000e+05</td>\n",
       "      <td>1.282000e+05</td>\n",
       "      <td>1.287000e+05</td>\n",
       "      <td>1.292500e+05</td>\n",
       "      <td>1.299000e+05</td>\n",
       "      <td>1.306000e+05</td>\n",
       "      <td>1.310500e+05</td>\n",
       "      <td>1.319500e+05</td>\n",
       "      <td>1.324000e+05</td>\n",
       "    </tr>\n",
       "    <tr>\n",
       "      <th>50%</th>\n",
       "      <td>78007.000000</td>\n",
       "      <td>46106.000000</td>\n",
       "      <td>7362.000000</td>\n",
       "      <td>9.950000e+04</td>\n",
       "      <td>9.950000e+04</td>\n",
       "      <td>9.970000e+04</td>\n",
       "      <td>9.970000e+04</td>\n",
       "      <td>9.980000e+04</td>\n",
       "      <td>9.990000e+04</td>\n",
       "      <td>9.995000e+04</td>\n",
       "      <td>...</td>\n",
       "      <td>1.884000e+05</td>\n",
       "      <td>1.896000e+05</td>\n",
       "      <td>1.905000e+05</td>\n",
       "      <td>1.914000e+05</td>\n",
       "      <td>1.925000e+05</td>\n",
       "      <td>1.934000e+05</td>\n",
       "      <td>1.941000e+05</td>\n",
       "      <td>1.950000e+05</td>\n",
       "      <td>1.967000e+05</td>\n",
       "      <td>1.981000e+05</td>\n",
       "    </tr>\n",
       "    <tr>\n",
       "      <th>75%</th>\n",
       "      <td>90920.500000</td>\n",
       "      <td>75205.500000</td>\n",
       "      <td>11042.500000</td>\n",
       "      <td>1.432000e+05</td>\n",
       "      <td>1.433000e+05</td>\n",
       "      <td>1.432250e+05</td>\n",
       "      <td>1.432250e+05</td>\n",
       "      <td>1.435000e+05</td>\n",
       "      <td>1.437000e+05</td>\n",
       "      <td>1.439000e+05</td>\n",
       "      <td>...</td>\n",
       "      <td>3.050000e+05</td>\n",
       "      <td>3.066500e+05</td>\n",
       "      <td>3.085000e+05</td>\n",
       "      <td>3.098000e+05</td>\n",
       "      <td>3.117000e+05</td>\n",
       "      <td>3.134000e+05</td>\n",
       "      <td>3.151000e+05</td>\n",
       "      <td>3.168500e+05</td>\n",
       "      <td>3.188500e+05</td>\n",
       "      <td>3.211000e+05</td>\n",
       "    </tr>\n",
       "    <tr>\n",
       "      <th>max</th>\n",
       "      <td>753844.000000</td>\n",
       "      <td>99901.000000</td>\n",
       "      <td>14723.000000</td>\n",
       "      <td>3.676700e+06</td>\n",
       "      <td>3.704200e+06</td>\n",
       "      <td>3.729600e+06</td>\n",
       "      <td>3.754600e+06</td>\n",
       "      <td>3.781800e+06</td>\n",
       "      <td>3.813500e+06</td>\n",
       "      <td>3.849600e+06</td>\n",
       "      <td>...</td>\n",
       "      <td>1.888990e+07</td>\n",
       "      <td>1.870350e+07</td>\n",
       "      <td>1.860530e+07</td>\n",
       "      <td>1.856940e+07</td>\n",
       "      <td>1.842880e+07</td>\n",
       "      <td>1.830710e+07</td>\n",
       "      <td>1.836590e+07</td>\n",
       "      <td>1.853040e+07</td>\n",
       "      <td>1.833770e+07</td>\n",
       "      <td>1.789490e+07</td>\n",
       "    </tr>\n",
       "  </tbody>\n",
       "</table>\n",
       "<p>8 rows × 268 columns</p>\n",
       "</div>"
      ],
      "text/plain": [
       "            RegionID    RegionName      SizeRank       1996-04       1996-05  \\\n",
       "count   14723.000000  14723.000000  14723.000000  1.368400e+04  1.368400e+04   \n",
       "mean    81075.010052  48222.348706   7362.000000  1.182991e+05  1.184190e+05   \n",
       "std     31934.118525  29359.325439   4250.308342  8.600251e+04  8.615567e+04   \n",
       "min     58196.000000   1001.000000      1.000000  1.130000e+04  1.150000e+04   \n",
       "25%     67174.500000  22101.500000   3681.500000  6.880000e+04  6.890000e+04   \n",
       "50%     78007.000000  46106.000000   7362.000000  9.950000e+04  9.950000e+04   \n",
       "75%     90920.500000  75205.500000  11042.500000  1.432000e+05  1.433000e+05   \n",
       "max    753844.000000  99901.000000  14723.000000  3.676700e+06  3.704200e+06   \n",
       "\n",
       "            1996-06       1996-07       1996-08       1996-09       1996-10  \\\n",
       "count  1.368400e+04  1.368400e+04  1.368400e+04  1.368400e+04  1.368400e+04   \n",
       "mean   1.185374e+05  1.186531e+05  1.187803e+05  1.189275e+05  1.191205e+05   \n",
       "std    8.630923e+04  8.646795e+04  8.665094e+04  8.687208e+04  8.715185e+04   \n",
       "min    1.160000e+04  1.180000e+04  1.180000e+04  1.200000e+04  1.210000e+04   \n",
       "25%    6.910000e+04  6.920000e+04  6.937500e+04  6.950000e+04  6.960000e+04   \n",
       "50%    9.970000e+04  9.970000e+04  9.980000e+04  9.990000e+04  9.995000e+04   \n",
       "75%    1.432250e+05  1.432250e+05  1.435000e+05  1.437000e+05  1.439000e+05   \n",
       "max    3.729600e+06  3.754600e+06  3.781800e+06  3.813500e+06  3.849600e+06   \n",
       "\n",
       "       ...       2017-07       2017-08       2017-09       2017-10  \\\n",
       "count  ...  1.472300e+04  1.472300e+04  1.472300e+04  1.472300e+04   \n",
       "mean   ...  2.733354e+05  2.748658e+05  2.764646e+05  2.780332e+05   \n",
       "std    ...  3.603984e+05  3.614678e+05  3.627563e+05  3.644610e+05   \n",
       "min    ...  1.440000e+04  1.450000e+04  1.470000e+04  1.480000e+04   \n",
       "25%    ...  1.269000e+05  1.275000e+05  1.282000e+05  1.287000e+05   \n",
       "50%    ...  1.884000e+05  1.896000e+05  1.905000e+05  1.914000e+05   \n",
       "75%    ...  3.050000e+05  3.066500e+05  3.085000e+05  3.098000e+05   \n",
       "max    ...  1.888990e+07  1.870350e+07  1.860530e+07  1.856940e+07   \n",
       "\n",
       "            2017-11       2017-12       2018-01       2018-02       2018-03  \\\n",
       "count  1.472300e+04  1.472300e+04  1.472300e+04  1.472300e+04  1.472300e+04   \n",
       "mean   2.795209e+05  2.810953e+05  2.826571e+05  2.843687e+05  2.865114e+05   \n",
       "std    3.656003e+05  3.670454e+05  3.695727e+05  3.717739e+05  3.724612e+05   \n",
       "min    1.450000e+04  1.430000e+04  1.410000e+04  1.390000e+04  1.380000e+04   \n",
       "25%    1.292500e+05  1.299000e+05  1.306000e+05  1.310500e+05  1.319500e+05   \n",
       "50%    1.925000e+05  1.934000e+05  1.941000e+05  1.950000e+05  1.967000e+05   \n",
       "75%    3.117000e+05  3.134000e+05  3.151000e+05  3.168500e+05  3.188500e+05   \n",
       "max    1.842880e+07  1.830710e+07  1.836590e+07  1.853040e+07  1.833770e+07   \n",
       "\n",
       "            2018-04  \n",
       "count  1.472300e+04  \n",
       "mean   2.880399e+05  \n",
       "std    3.720544e+05  \n",
       "min    1.380000e+04  \n",
       "25%    1.324000e+05  \n",
       "50%    1.981000e+05  \n",
       "75%    3.211000e+05  \n",
       "max    1.789490e+07  \n",
       "\n",
       "[8 rows x 268 columns]"
      ]
     },
     "metadata": {},
     "output_type": "display_data"
    }
   ],
   "source": [
    "# Function to load and examine the data\n",
    "\n",
    "def load_and_examine_data(file_path):\n",
    "    try:\n",
    "        # Load the data from the specified file path\n",
    "        data = pd.read_csv(file_path)\n",
    "\n",
    "        # Display the shape, columns and the first few rows of the dataset\n",
    "        print(\"----------------------------Details about the data----------------------------\\n\")\n",
    "        print(\"----------------------------Shape of the dataset----------------------------\\n\")\n",
    "        display(data.shape)\n",
    "        print()\n",
    "        print(\"----------------------------Columns of the dataset----------------------------\\n\")\n",
    "        display(data.columns)\n",
    "        print()\n",
    "        print(\"----------------------------Head of the dataset----------------------------\\n\")\n",
    "        display(data.head())\n",
    "        print()\n",
    "        # Display information about the dataset\n",
    "\n",
    "        print(\"\\n----------------------------Data information ----------------------------\\n\")\n",
    "        display(data[['RegionID', 'RegionName', 'City', 'State', 'Metro', 'CountyName',\n",
    "       'SizeRank']].info())\n",
    "        print(\"\\n----------------------------Descriptive Statistics of the dataset ----------------------------\\n\")\n",
    "        display(data.describe())\n",
    "\n",
    "        return data\n",
    "\n",
    "    except FileNotFoundError:\n",
    "        print(f\"File '{file_path}' not found.\")\n",
    "    except Exception as e:\n",
    "        print(f\"An error occurred: {e}\")\n",
    "\n",
    "# data file path\n",
    "file_path = \"zillow_data.csv\" \n",
    "data = load_and_examine_data(file_path)"
   ]
  },
  {
   "cell_type": "markdown",
   "metadata": {},
   "source": [
    "The dataset contains the following columns:\n",
    "* Region Id - is unique ID for the Regions\n",
    "\n",
    "* Region Name contains the zip code for the region\n",
    "\n",
    "* City Specific city name of housing data\n",
    "\n",
    "* Metro Name of the metro city around that region\n",
    "\n",
    "* County Name this is the county name of that region\n",
    "\n",
    "* SizeRank this is the ranking done based on the size of that region\n",
    "\n",
    "* Date this refers to a point in time"
   ]
  },
  {
   "cell_type": "markdown",
   "metadata": {},
   "source": [
    "## Data Preparation"
   ]
  },
  {
   "cell_type": "markdown",
   "metadata": {},
   "source": [
    "The code in the cell below  creates a copy of a DataFrame named `data` called `data2`. It then calculates the Return On Investment (ROI) for the entire period and also the yearly ROIs and then they are added as new columns in the copied DataFrame. We then select specific columns from the DataFrame `data2`, drop the columns not in the selection, and display the first few rows of the updated DataFrame."
   ]
  },
  {
   "cell_type": "code",
   "execution_count": 3,
   "metadata": {},
   "outputs": [
    {
     "data": {
      "text/html": [
       "<div>\n",
       "<style scoped>\n",
       "    .dataframe tbody tr th:only-of-type {\n",
       "        vertical-align: middle;\n",
       "    }\n",
       "\n",
       "    .dataframe tbody tr th {\n",
       "        vertical-align: top;\n",
       "    }\n",
       "\n",
       "    .dataframe thead th {\n",
       "        text-align: right;\n",
       "    }\n",
       "</style>\n",
       "<table border=\"1\" class=\"dataframe\">\n",
       "  <thead>\n",
       "    <tr style=\"text-align: right;\">\n",
       "      <th></th>\n",
       "      <th>RegionID</th>\n",
       "      <th>RegionName</th>\n",
       "      <th>City</th>\n",
       "      <th>State</th>\n",
       "      <th>Metro</th>\n",
       "      <th>CountyName</th>\n",
       "      <th>SizeRank</th>\n",
       "      <th>Return On Investment</th>\n",
       "      <th>Return On Investment(1996-1997)</th>\n",
       "      <th>Return On Investment(1997-1998)</th>\n",
       "      <th>...</th>\n",
       "      <th>Return On Investment(2008-2009)</th>\n",
       "      <th>Return On Investment(2009-2010)</th>\n",
       "      <th>Return On Investment(2010-2011)</th>\n",
       "      <th>Return On Investment(2011-2012)</th>\n",
       "      <th>Return On Investment(2012-2013)</th>\n",
       "      <th>Return On Investment(2013-2014)</th>\n",
       "      <th>Return On Investment(2014-2015)</th>\n",
       "      <th>Return On Investment(2015-2016)</th>\n",
       "      <th>Return On Investment(2016-2017)</th>\n",
       "      <th>Return On Investment(2017-2018)</th>\n",
       "    </tr>\n",
       "  </thead>\n",
       "  <tbody>\n",
       "    <tr>\n",
       "      <th>117</th>\n",
       "      <td>62022</td>\n",
       "      <td>11211</td>\n",
       "      <td>New York</td>\n",
       "      <td>NY</td>\n",
       "      <td>New York</td>\n",
       "      <td>Kings</td>\n",
       "      <td>118</td>\n",
       "      <td>11.189940</td>\n",
       "      <td>0.009009</td>\n",
       "      <td>0.081101</td>\n",
       "      <td>...</td>\n",
       "      <td>-0.042456</td>\n",
       "      <td>-0.051515</td>\n",
       "      <td>0.044560</td>\n",
       "      <td>0.120573</td>\n",
       "      <td>0.127568</td>\n",
       "      <td>0.265129</td>\n",
       "      <td>0.084391</td>\n",
       "      <td>0.247771</td>\n",
       "      <td>-0.005359</td>\n",
       "      <td>0.214981</td>\n",
       "    </tr>\n",
       "    <tr>\n",
       "      <th>1155</th>\n",
       "      <td>62033</td>\n",
       "      <td>11222</td>\n",
       "      <td>New York</td>\n",
       "      <td>NY</td>\n",
       "      <td>New York</td>\n",
       "      <td>Kings</td>\n",
       "      <td>1156</td>\n",
       "      <td>10.535523</td>\n",
       "      <td>-0.013405</td>\n",
       "      <td>0.069973</td>\n",
       "      <td>...</td>\n",
       "      <td>-0.066457</td>\n",
       "      <td>-0.067500</td>\n",
       "      <td>0.193432</td>\n",
       "      <td>0.017289</td>\n",
       "      <td>0.116839</td>\n",
       "      <td>0.208978</td>\n",
       "      <td>0.305119</td>\n",
       "      <td>0.257735</td>\n",
       "      <td>0.032013</td>\n",
       "      <td>0.065631</td>\n",
       "    </tr>\n",
       "    <tr>\n",
       "      <th>475</th>\n",
       "      <td>62027</td>\n",
       "      <td>11216</td>\n",
       "      <td>New York</td>\n",
       "      <td>NY</td>\n",
       "      <td>New York</td>\n",
       "      <td>Kings</td>\n",
       "      <td>476</td>\n",
       "      <td>9.942505</td>\n",
       "      <td>0.074606</td>\n",
       "      <td>0.068790</td>\n",
       "      <td>...</td>\n",
       "      <td>-0.223798</td>\n",
       "      <td>-0.134312</td>\n",
       "      <td>0.064957</td>\n",
       "      <td>0.121989</td>\n",
       "      <td>0.117902</td>\n",
       "      <td>0.284188</td>\n",
       "      <td>0.291848</td>\n",
       "      <td>0.205190</td>\n",
       "      <td>0.115802</td>\n",
       "      <td>0.109823</td>\n",
       "    </tr>\n",
       "    <tr>\n",
       "      <th>191</th>\n",
       "      <td>60639</td>\n",
       "      <td>7302</td>\n",
       "      <td>Jersey City</td>\n",
       "      <td>NJ</td>\n",
       "      <td>New York</td>\n",
       "      <td>Hudson</td>\n",
       "      <td>192</td>\n",
       "      <td>9.403061</td>\n",
       "      <td>0.067055</td>\n",
       "      <td>0.100410</td>\n",
       "      <td>...</td>\n",
       "      <td>-0.113718</td>\n",
       "      <td>-0.083611</td>\n",
       "      <td>-0.066930</td>\n",
       "      <td>0.114194</td>\n",
       "      <td>0.006681</td>\n",
       "      <td>0.174510</td>\n",
       "      <td>-0.014383</td>\n",
       "      <td>0.304235</td>\n",
       "      <td>0.268032</td>\n",
       "      <td>0.124478</td>\n",
       "    </tr>\n",
       "    <tr>\n",
       "      <th>106</th>\n",
       "      <td>62026</td>\n",
       "      <td>11215</td>\n",
       "      <td>New York</td>\n",
       "      <td>NY</td>\n",
       "      <td>New York</td>\n",
       "      <td>Kings</td>\n",
       "      <td>107</td>\n",
       "      <td>8.941958</td>\n",
       "      <td>0.130261</td>\n",
       "      <td>0.116033</td>\n",
       "      <td>...</td>\n",
       "      <td>-0.026198</td>\n",
       "      <td>-0.081514</td>\n",
       "      <td>0.124704</td>\n",
       "      <td>0.003509</td>\n",
       "      <td>0.039005</td>\n",
       "      <td>0.283802</td>\n",
       "      <td>0.119066</td>\n",
       "      <td>0.090937</td>\n",
       "      <td>0.045376</td>\n",
       "      <td>0.024191</td>\n",
       "    </tr>\n",
       "  </tbody>\n",
       "</table>\n",
       "<p>5 rows × 30 columns</p>\n",
       "</div>"
      ],
      "text/plain": [
       "      RegionID  RegionName         City State     Metro CountyName  SizeRank  \\\n",
       "117      62022       11211     New York    NY  New York      Kings       118   \n",
       "1155     62033       11222     New York    NY  New York      Kings      1156   \n",
       "475      62027       11216     New York    NY  New York      Kings       476   \n",
       "191      60639        7302  Jersey City    NJ  New York     Hudson       192   \n",
       "106      62026       11215     New York    NY  New York      Kings       107   \n",
       "\n",
       "      Return On Investment  Return On Investment(1996-1997)  \\\n",
       "117              11.189940                         0.009009   \n",
       "1155             10.535523                        -0.013405   \n",
       "475               9.942505                         0.074606   \n",
       "191               9.403061                         0.067055   \n",
       "106               8.941958                         0.130261   \n",
       "\n",
       "      Return On Investment(1997-1998)  ...  Return On Investment(2008-2009)  \\\n",
       "117                          0.081101  ...                        -0.042456   \n",
       "1155                         0.069973  ...                        -0.066457   \n",
       "475                          0.068790  ...                        -0.223798   \n",
       "191                          0.100410  ...                        -0.113718   \n",
       "106                          0.116033  ...                        -0.026198   \n",
       "\n",
       "      Return On Investment(2009-2010)  Return On Investment(2010-2011)  \\\n",
       "117                         -0.051515                         0.044560   \n",
       "1155                        -0.067500                         0.193432   \n",
       "475                         -0.134312                         0.064957   \n",
       "191                         -0.083611                        -0.066930   \n",
       "106                         -0.081514                         0.124704   \n",
       "\n",
       "      Return On Investment(2011-2012)  Return On Investment(2012-2013)  \\\n",
       "117                          0.120573                         0.127568   \n",
       "1155                         0.017289                         0.116839   \n",
       "475                          0.121989                         0.117902   \n",
       "191                          0.114194                         0.006681   \n",
       "106                          0.003509                         0.039005   \n",
       "\n",
       "      Return On Investment(2013-2014)  Return On Investment(2014-2015)  \\\n",
       "117                          0.265129                         0.084391   \n",
       "1155                         0.208978                         0.305119   \n",
       "475                          0.284188                         0.291848   \n",
       "191                          0.174510                        -0.014383   \n",
       "106                          0.283802                         0.119066   \n",
       "\n",
       "      Return On Investment(2015-2016)  Return On Investment(2016-2017)  \\\n",
       "117                          0.247771                        -0.005359   \n",
       "1155                         0.257735                         0.032013   \n",
       "475                          0.205190                         0.115802   \n",
       "191                          0.304235                         0.268032   \n",
       "106                          0.090937                         0.045376   \n",
       "\n",
       "      Return On Investment(2017-2018)  \n",
       "117                          0.214981  \n",
       "1155                         0.065631  \n",
       "475                          0.109823  \n",
       "191                          0.124478  \n",
       "106                          0.024191  \n",
       "\n",
       "[5 rows x 30 columns]"
      ]
     },
     "execution_count": 3,
     "metadata": {},
     "output_type": "execute_result"
    }
   ],
   "source": [
    "# Create a copy of the original DataFrame\n",
    "data2 = data.copy()\n",
    "\n",
    "# Calculate Return On Investment and add new columns to the copied DataFrame\n",
    "data2['Return On Investment'] = (data2['2018-04'] / data2['1996-04']) - 1\n",
    "data2['Return On Investment(1996-1997)'] = (data2['1997-04'] / data2['1996-04']) - 1\n",
    "data2['Return On Investment(1997-1998)'] = (data2['1998-04'] / data2['1997-04']) - 1\n",
    "data2['Return On Investment(1998-1999)'] = (data2['1999-04'] / data2['1998-04']) - 1\n",
    "data2['Return On Investment(1999-2000)'] = (data2['2000-04'] / data2['1999-04']) - 1\n",
    "data2['Return On Investment(2000-2001)'] = (data2['2001-04'] / data2['2000-04']) - 1\n",
    "data2['Return On Investment(2001-2002)'] = (data2['2002-04'] / data2['2001-04']) - 1\n",
    "data2['Return On Investment(2002-2003)'] = (data2['2003-04'] / data2['2002-04']) - 1\n",
    "data2['Return On Investment(2003-2004)'] = (data2['2004-04'] / data2['2003-04']) - 1\n",
    "data2['Return On Investment(2004-2005)'] = (data2['2005-04'] / data2['2004-04']) - 1\n",
    "data2['Return On Investment(2005-2006)'] = (data2['2006-04'] / data2['2005-04']) - 1\n",
    "data2['Return On Investment(2006-2007)'] = (data2['2007-04'] / data2['2006-04']) - 1\n",
    "data2['Return On Investment(2007-2008)'] = (data2['2008-04'] / data2['2007-04']) - 1\n",
    "data2['Return On Investment(2008-2009)'] = (data2['2009-04'] / data2['2008-04']) - 1\n",
    "data2['Return On Investment(2009-2010)'] = (data2['2010-04'] / data2['2009-04']) - 1\n",
    "data2['Return On Investment(2010-2011)'] = (data2['2011-04'] / data2['2010-04']) - 1\n",
    "data2['Return On Investment(2011-2012)'] = (data2['2012-04'] / data2['2011-04']) - 1\n",
    "data2['Return On Investment(2012-2013)'] = (data2['2013-04'] / data2['2012-04']) - 1\n",
    "data2['Return On Investment(2013-2014)'] = (data2['2014-04'] / data2['2013-04']) - 1\n",
    "data2['Return On Investment(2014-2015)'] = (data2['2015-04'] / data2['2014-04']) - 1\n",
    "data2['Return On Investment(2015-2016)'] = (data2['2016-04'] / data2['2015-04']) - 1\n",
    "data2['Return On Investment(2016-2017)'] = (data2['2017-04'] / data2['2016-04']) - 1\n",
    "data2['Return On Investment(2017-2018)'] = (data2['2018-04'] / data2['2017-04']) - 1\n",
    "\n",
    "# Sorting the values based on ROI\n",
    "data2.sort_values(by='Return On Investment', ascending=False, inplace=True)\n",
    "\n",
    "# Select specific columns from the DataFrame\n",
    "columns_selected = data2[['RegionID', \n",
    "                          'RegionName', \n",
    "                          'City', \n",
    "                          'State', \n",
    "                          'Metro', \n",
    "                          'CountyName', \n",
    "                          'SizeRank', \n",
    "                          'Return On Investment',\n",
    "                          'Return On Investment(1996-1997)',\n",
    "                          'Return On Investment(1997-1998)',\n",
    "                          'Return On Investment(1998-1999)',\n",
    "                          'Return On Investment(1999-2000)',\n",
    "                          'Return On Investment(2000-2001)',\n",
    "                          'Return On Investment(2001-2002)',\n",
    "                          'Return On Investment(2002-2003)',\n",
    "                          'Return On Investment(2003-2004)',\n",
    "                          'Return On Investment(2004-2005)',\n",
    "                          'Return On Investment(2005-2006)',\n",
    "                          'Return On Investment(2006-2007)',\n",
    "                          'Return On Investment(2007-2008)',\n",
    "                          'Return On Investment(2008-2009)',\n",
    "                          'Return On Investment(2009-2010)',\n",
    "                          'Return On Investment(2010-2011)',\n",
    "                          'Return On Investment(2011-2012)',\n",
    "                          'Return On Investment(2012-2013)',\n",
    "                          'Return On Investment(2013-2014)',\n",
    "                          'Return On Investment(2014-2015)',\n",
    "                          'Return On Investment(2015-2016)',\n",
    "                          'Return On Investment(2016-2017)',\n",
    "                          'Return On Investment(2017-2018)']]\n",
    "\n",
    "# Iterate through all columns in the DataFrame\n",
    "for column in data2.columns:\n",
    "\n",
    "    # Drop columns that are not in the selected list\n",
    "    if column not in columns_selected:\n",
    "        data2.drop(column, axis=1, inplace = True)\n",
    "        \n",
    "# Display the first few rows of the updated DataFrame\n",
    "data2.head()"
   ]
  },
  {
   "cell_type": "code",
   "execution_count": 4,
   "metadata": {},
   "outputs": [
    {
     "data": {
      "text/plain": [
       "(14723, 30)"
      ]
     },
     "execution_count": 4,
     "metadata": {},
     "output_type": "execute_result"
    }
   ],
   "source": [
    "# Looking at the shape of data2\n",
    "data2.shape"
   ]
  },
  {
   "cell_type": "markdown",
   "metadata": {},
   "source": [
    "In this section, we define a function `data_prep` that performs checks for missing values, duplicated values, and placeholder values in the dataset."
   ]
  },
  {
   "cell_type": "code",
   "execution_count": 5,
   "metadata": {},
   "outputs": [
    {
     "name": "stdout",
     "output_type": "stream",
     "text": [
      "-------------------------Missing Values Check---------------------------------------\n",
      "\n",
      "Number of null values in each column in the dataset:\n",
      "RegionID                              0\n",
      "RegionName                            0\n",
      "City                                  0\n",
      "State                                 0\n",
      "Metro                              1043\n",
      "CountyName                            0\n",
      "SizeRank                              0\n",
      "Return On Investment               1039\n",
      "Return On Investment(1996-1997)    1039\n",
      "Return On Investment(1997-1998)    1039\n",
      "Return On Investment(1998-1999)    1036\n",
      "Return On Investment(1999-2000)    1036\n",
      "Return On Investment(2000-2001)    1036\n",
      "Return On Investment(2001-2002)    1036\n",
      "Return On Investment(2002-2003)    1036\n",
      "Return On Investment(2003-2004)    1036\n",
      "Return On Investment(2004-2005)     887\n",
      "Return On Investment(2005-2006)     801\n",
      "Return On Investment(2006-2007)     667\n",
      "Return On Investment(2007-2008)     620\n",
      "Return On Investment(2008-2009)     607\n",
      "Return On Investment(2009-2010)     587\n",
      "Return On Investment(2010-2011)     349\n",
      "Return On Investment(2011-2012)     275\n",
      "Return On Investment(2012-2013)     224\n",
      "Return On Investment(2013-2014)     151\n",
      "Return On Investment(2014-2015)      56\n",
      "Return On Investment(2015-2016)       0\n",
      "Return On Investment(2016-2017)       0\n",
      "Return On Investment(2017-2018)       0\n",
      "dtype: int64\n",
      "\n",
      "-------------------------Duplicated Values Check------------------------------------\n",
      "\n",
      "Number of duplicated values in the dataset: 0\n",
      "\n",
      "-------------------------Placeholder Values Check-----------------------------------\n",
      "\n",
      "Column: 'RegionID'\n",
      "Placeholders found: []\n",
      "Count of placeholders: 0\n",
      "\n",
      "Column: 'RegionName'\n",
      "Placeholders found: []\n",
      "Count of placeholders: 0\n",
      "\n",
      "Column: 'City'\n",
      "Placeholders found: []\n",
      "Count of placeholders: 0\n",
      "\n",
      "Column: 'State'\n",
      "Placeholders found: []\n",
      "Count of placeholders: 0\n",
      "\n",
      "Column: 'Metro'\n",
      "Placeholders found: []\n",
      "Count of placeholders: 0\n",
      "\n",
      "Column: 'CountyName'\n",
      "Placeholders found: []\n",
      "Count of placeholders: 0\n",
      "\n",
      "Column: 'SizeRank'\n",
      "Placeholders found: []\n",
      "Count of placeholders: 0\n",
      "\n",
      "Column: 'Return On Investment'\n",
      "Placeholders found: []\n",
      "Count of placeholders: 0\n",
      "\n",
      "Column: 'Return On Investment(1996-1997)'\n",
      "Placeholders found: []\n",
      "Count of placeholders: 0\n",
      "\n",
      "Column: 'Return On Investment(1997-1998)'\n",
      "Placeholders found: []\n",
      "Count of placeholders: 0\n",
      "\n",
      "Column: 'Return On Investment(1998-1999)'\n",
      "Placeholders found: []\n",
      "Count of placeholders: 0\n",
      "\n",
      "Column: 'Return On Investment(1999-2000)'\n",
      "Placeholders found: []\n",
      "Count of placeholders: 0\n",
      "\n",
      "Column: 'Return On Investment(2000-2001)'\n",
      "Placeholders found: []\n",
      "Count of placeholders: 0\n",
      "\n",
      "Column: 'Return On Investment(2001-2002)'\n",
      "Placeholders found: []\n",
      "Count of placeholders: 0\n",
      "\n",
      "Column: 'Return On Investment(2002-2003)'\n",
      "Placeholders found: []\n",
      "Count of placeholders: 0\n",
      "\n",
      "Column: 'Return On Investment(2003-2004)'\n",
      "Placeholders found: []\n",
      "Count of placeholders: 0\n",
      "\n",
      "Column: 'Return On Investment(2004-2005)'\n",
      "Placeholders found: []\n",
      "Count of placeholders: 0\n",
      "\n",
      "Column: 'Return On Investment(2005-2006)'\n",
      "Placeholders found: []\n",
      "Count of placeholders: 0\n",
      "\n",
      "Column: 'Return On Investment(2006-2007)'\n",
      "Placeholders found: []\n",
      "Count of placeholders: 0\n",
      "\n",
      "Column: 'Return On Investment(2007-2008)'\n",
      "Placeholders found: []\n",
      "Count of placeholders: 0\n",
      "\n",
      "Column: 'Return On Investment(2008-2009)'\n",
      "Placeholders found: []\n",
      "Count of placeholders: 0\n",
      "\n",
      "Column: 'Return On Investment(2009-2010)'\n",
      "Placeholders found: []\n",
      "Count of placeholders: 0\n",
      "\n",
      "Column: 'Return On Investment(2010-2011)'\n",
      "Placeholders found: []\n",
      "Count of placeholders: 0\n",
      "\n",
      "Column: 'Return On Investment(2011-2012)'\n",
      "Placeholders found: []\n",
      "Count of placeholders: 0\n",
      "\n",
      "Column: 'Return On Investment(2012-2013)'\n",
      "Placeholders found: []\n",
      "Count of placeholders: 0\n",
      "\n",
      "Column: 'Return On Investment(2013-2014)'\n",
      "Placeholders found: []\n",
      "Count of placeholders: 0\n",
      "\n",
      "Column: 'Return On Investment(2014-2015)'\n",
      "Placeholders found: []\n",
      "Count of placeholders: 0\n",
      "\n",
      "Column: 'Return On Investment(2015-2016)'\n",
      "Placeholders found: []\n",
      "Count of placeholders: 0\n",
      "\n",
      "Column: 'Return On Investment(2016-2017)'\n",
      "Placeholders found: []\n",
      "Count of placeholders: 0\n",
      "\n",
      "Column: 'Return On Investment(2017-2018)'\n",
      "Placeholders found: []\n",
      "Count of placeholders: 0\n",
      "\n"
     ]
    }
   ],
   "source": [
    "# Creating a function that returns null, duplicated and placeholder values in the dataset.\n",
    "def data_prep(df):\n",
    "    print('-------------------------Missing Values Check---------------------------------------\\n')\n",
    "    print(f'Number of null values in each column in the dataset:\\n{df.isnull().sum()}\\n')\n",
    "    print('-------------------------Duplicated Values Check------------------------------------\\n')\n",
    "    print(f'Number of duplicated values in the dataset: {df.duplicated().sum()}\\n')\n",
    "    print('-------------------------Placeholder Values Check-----------------------------------\\n')\n",
    "    for column in df.columns:\n",
    "        unique_values = df[column].unique()\n",
    "        placeholders = [value for value in unique_values if str(value).strip().lower() in ['placeholder', 'na', 'n/a', '?']]\n",
    "        placeholder_count = len(placeholders)\n",
    "    \n",
    "        print(f\"Column: '{column}'\")\n",
    "        print(f\"Placeholders found: {placeholders}\")\n",
    "        print(f\"Count of placeholders: {placeholder_count}\\n\")\n",
    "        \n",
    "# Checking in our dataset.\n",
    "data_prep(data2)"
   ]
  },
  {
   "cell_type": "code",
   "execution_count": 6,
   "metadata": {},
   "outputs": [
    {
     "data": {
      "text/plain": [
       "RegionID                           0\n",
       "RegionName                         0\n",
       "City                               0\n",
       "State                              0\n",
       "Metro                              0\n",
       "CountyName                         0\n",
       "SizeRank                           0\n",
       "Return On Investment               0\n",
       "Return On Investment(1996-1997)    0\n",
       "Return On Investment(1997-1998)    0\n",
       "Return On Investment(1998-1999)    0\n",
       "Return On Investment(1999-2000)    0\n",
       "Return On Investment(2000-2001)    0\n",
       "Return On Investment(2001-2002)    0\n",
       "Return On Investment(2002-2003)    0\n",
       "Return On Investment(2003-2004)    0\n",
       "Return On Investment(2004-2005)    0\n",
       "Return On Investment(2005-2006)    0\n",
       "Return On Investment(2006-2007)    0\n",
       "Return On Investment(2007-2008)    0\n",
       "Return On Investment(2008-2009)    0\n",
       "Return On Investment(2009-2010)    0\n",
       "Return On Investment(2010-2011)    0\n",
       "Return On Investment(2011-2012)    0\n",
       "Return On Investment(2012-2013)    0\n",
       "Return On Investment(2013-2014)    0\n",
       "Return On Investment(2014-2015)    0\n",
       "Return On Investment(2015-2016)    0\n",
       "Return On Investment(2016-2017)    0\n",
       "Return On Investment(2017-2018)    0\n",
       "dtype: int64"
      ]
     },
     "execution_count": 6,
     "metadata": {},
     "output_type": "execute_result"
    }
   ],
   "source": [
    "# Remove rows with missing values (NaN) from the DataFrame 'data2' in-place\n",
    "data2.dropna(inplace = True)\n",
    "\n",
    "# Display the count of missing values in each column after dropping NaN values\n",
    "data2.isna().sum()"
   ]
  },
  {
   "cell_type": "code",
   "execution_count": 7,
   "metadata": {},
   "outputs": [
    {
     "data": {
      "text/html": [
       "<div>\n",
       "<style scoped>\n",
       "    .dataframe tbody tr th:only-of-type {\n",
       "        vertical-align: middle;\n",
       "    }\n",
       "\n",
       "    .dataframe tbody tr th {\n",
       "        vertical-align: top;\n",
       "    }\n",
       "\n",
       "    .dataframe thead th {\n",
       "        text-align: right;\n",
       "    }\n",
       "</style>\n",
       "<table border=\"1\" class=\"dataframe\">\n",
       "  <thead>\n",
       "    <tr style=\"text-align: right;\">\n",
       "      <th></th>\n",
       "      <th>RegionID</th>\n",
       "      <th>RegionName</th>\n",
       "      <th>City</th>\n",
       "      <th>State</th>\n",
       "      <th>Metro</th>\n",
       "      <th>CountyName</th>\n",
       "      <th>SizeRank</th>\n",
       "      <th>Return On Investment</th>\n",
       "      <th>Return On Investment(1996-1997)</th>\n",
       "      <th>Return On Investment(1997-1998)</th>\n",
       "      <th>...</th>\n",
       "      <th>Return On Investment(2010-2011)</th>\n",
       "      <th>Return On Investment(2011-2012)</th>\n",
       "      <th>Return On Investment(2012-2013)</th>\n",
       "      <th>Return On Investment(2013-2014)</th>\n",
       "      <th>Return On Investment(2014-2015)</th>\n",
       "      <th>Return On Investment(2015-2016)</th>\n",
       "      <th>Return On Investment(2016-2017)</th>\n",
       "      <th>Return On Investment(2017-2018)</th>\n",
       "      <th>Cumulative_ROI</th>\n",
       "      <th>Average_ROI</th>\n",
       "    </tr>\n",
       "  </thead>\n",
       "  <tbody>\n",
       "    <tr>\n",
       "      <th>117</th>\n",
       "      <td>62022</td>\n",
       "      <td>11211</td>\n",
       "      <td>New York</td>\n",
       "      <td>NY</td>\n",
       "      <td>New York</td>\n",
       "      <td>Kings</td>\n",
       "      <td>118</td>\n",
       "      <td>11.189940</td>\n",
       "      <td>0.009009</td>\n",
       "      <td>0.081101</td>\n",
       "      <td>...</td>\n",
       "      <td>0.044560</td>\n",
       "      <td>0.120573</td>\n",
       "      <td>0.127568</td>\n",
       "      <td>0.265129</td>\n",
       "      <td>0.084391</td>\n",
       "      <td>0.247771</td>\n",
       "      <td>-0.005359</td>\n",
       "      <td>0.214981</td>\n",
       "      <td>2.791515</td>\n",
       "      <td>0.126887</td>\n",
       "    </tr>\n",
       "    <tr>\n",
       "      <th>1155</th>\n",
       "      <td>62033</td>\n",
       "      <td>11222</td>\n",
       "      <td>New York</td>\n",
       "      <td>NY</td>\n",
       "      <td>New York</td>\n",
       "      <td>Kings</td>\n",
       "      <td>1156</td>\n",
       "      <td>10.535523</td>\n",
       "      <td>-0.013405</td>\n",
       "      <td>0.069973</td>\n",
       "      <td>...</td>\n",
       "      <td>0.193432</td>\n",
       "      <td>0.017289</td>\n",
       "      <td>0.116839</td>\n",
       "      <td>0.208978</td>\n",
       "      <td>0.305119</td>\n",
       "      <td>0.257735</td>\n",
       "      <td>0.032013</td>\n",
       "      <td>0.065631</td>\n",
       "      <td>2.735731</td>\n",
       "      <td>0.124351</td>\n",
       "    </tr>\n",
       "    <tr>\n",
       "      <th>475</th>\n",
       "      <td>62027</td>\n",
       "      <td>11216</td>\n",
       "      <td>New York</td>\n",
       "      <td>NY</td>\n",
       "      <td>New York</td>\n",
       "      <td>Kings</td>\n",
       "      <td>476</td>\n",
       "      <td>9.942505</td>\n",
       "      <td>0.074606</td>\n",
       "      <td>0.068790</td>\n",
       "      <td>...</td>\n",
       "      <td>0.064957</td>\n",
       "      <td>0.121989</td>\n",
       "      <td>0.117902</td>\n",
       "      <td>0.284188</td>\n",
       "      <td>0.291848</td>\n",
       "      <td>0.205190</td>\n",
       "      <td>0.115802</td>\n",
       "      <td>0.109823</td>\n",
       "      <td>2.680834</td>\n",
       "      <td>0.121856</td>\n",
       "    </tr>\n",
       "    <tr>\n",
       "      <th>191</th>\n",
       "      <td>60639</td>\n",
       "      <td>7302</td>\n",
       "      <td>Jersey City</td>\n",
       "      <td>NJ</td>\n",
       "      <td>New York</td>\n",
       "      <td>Hudson</td>\n",
       "      <td>192</td>\n",
       "      <td>9.403061</td>\n",
       "      <td>0.067055</td>\n",
       "      <td>0.100410</td>\n",
       "      <td>...</td>\n",
       "      <td>-0.066930</td>\n",
       "      <td>0.114194</td>\n",
       "      <td>0.006681</td>\n",
       "      <td>0.174510</td>\n",
       "      <td>-0.014383</td>\n",
       "      <td>0.304235</td>\n",
       "      <td>0.268032</td>\n",
       "      <td>0.124478</td>\n",
       "      <td>2.639412</td>\n",
       "      <td>0.119973</td>\n",
       "    </tr>\n",
       "    <tr>\n",
       "      <th>11728</th>\n",
       "      <td>62281</td>\n",
       "      <td>11930</td>\n",
       "      <td>Amagansett</td>\n",
       "      <td>NY</td>\n",
       "      <td>New York</td>\n",
       "      <td>Suffolk</td>\n",
       "      <td>11729</td>\n",
       "      <td>8.564860</td>\n",
       "      <td>-0.026797</td>\n",
       "      <td>0.025657</td>\n",
       "      <td>...</td>\n",
       "      <td>-0.027290</td>\n",
       "      <td>0.160636</td>\n",
       "      <td>-0.025135</td>\n",
       "      <td>0.178507</td>\n",
       "      <td>0.039427</td>\n",
       "      <td>0.101388</td>\n",
       "      <td>0.082175</td>\n",
       "      <td>0.180199</td>\n",
       "      <td>2.528644</td>\n",
       "      <td>0.114938</td>\n",
       "    </tr>\n",
       "  </tbody>\n",
       "</table>\n",
       "<p>5 rows × 32 columns</p>\n",
       "</div>"
      ],
      "text/plain": [
       "       RegionID  RegionName         City State     Metro CountyName  SizeRank  \\\n",
       "117       62022       11211     New York    NY  New York      Kings       118   \n",
       "1155      62033       11222     New York    NY  New York      Kings      1156   \n",
       "475       62027       11216     New York    NY  New York      Kings       476   \n",
       "191       60639        7302  Jersey City    NJ  New York     Hudson       192   \n",
       "11728     62281       11930   Amagansett    NY  New York    Suffolk     11729   \n",
       "\n",
       "       Return On Investment  Return On Investment(1996-1997)  \\\n",
       "117               11.189940                         0.009009   \n",
       "1155              10.535523                        -0.013405   \n",
       "475                9.942505                         0.074606   \n",
       "191                9.403061                         0.067055   \n",
       "11728              8.564860                        -0.026797   \n",
       "\n",
       "       Return On Investment(1997-1998)  ...  Return On Investment(2010-2011)  \\\n",
       "117                           0.081101  ...                         0.044560   \n",
       "1155                          0.069973  ...                         0.193432   \n",
       "475                           0.068790  ...                         0.064957   \n",
       "191                           0.100410  ...                        -0.066930   \n",
       "11728                         0.025657  ...                        -0.027290   \n",
       "\n",
       "       Return On Investment(2011-2012)  Return On Investment(2012-2013)  \\\n",
       "117                           0.120573                         0.127568   \n",
       "1155                          0.017289                         0.116839   \n",
       "475                           0.121989                         0.117902   \n",
       "191                           0.114194                         0.006681   \n",
       "11728                         0.160636                        -0.025135   \n",
       "\n",
       "       Return On Investment(2013-2014)  Return On Investment(2014-2015)  \\\n",
       "117                           0.265129                         0.084391   \n",
       "1155                          0.208978                         0.305119   \n",
       "475                           0.284188                         0.291848   \n",
       "191                           0.174510                        -0.014383   \n",
       "11728                         0.178507                         0.039427   \n",
       "\n",
       "       Return On Investment(2015-2016)  Return On Investment(2016-2017)  \\\n",
       "117                           0.247771                        -0.005359   \n",
       "1155                          0.257735                         0.032013   \n",
       "475                           0.205190                         0.115802   \n",
       "191                           0.304235                         0.268032   \n",
       "11728                         0.101388                         0.082175   \n",
       "\n",
       "       Return On Investment(2017-2018)  Cumulative_ROI  Average_ROI  \n",
       "117                           0.214981        2.791515     0.126887  \n",
       "1155                          0.065631        2.735731     0.124351  \n",
       "475                           0.109823        2.680834     0.121856  \n",
       "191                           0.124478        2.639412     0.119973  \n",
       "11728                         0.180199        2.528644     0.114938  \n",
       "\n",
       "[5 rows x 32 columns]"
      ]
     },
     "execution_count": 7,
     "metadata": {},
     "output_type": "execute_result"
    }
   ],
   "source": [
    "#Creating an average Returns On Investment column \n",
    "columns_to_sum = data2.columns[8:]\n",
    "data2['Cumulative_ROI'] = data2[columns_to_sum].cumsum(axis=1).iloc[:, -1]\n",
    "data2['Average_ROI'] = data2['Cumulative_ROI']/22\n",
    "\n",
    "#Sorting the data using ther average ROI\n",
    "data2.sort_values(by='Average_ROI', ascending=False, inplace=True)\n",
    "data2.head()"
   ]
  },
  {
   "cell_type": "markdown",
   "metadata": {},
   "source": [
    "We write a function `check_outliers` to identify and print the number of outliers in numeric columns of a dataframe. \n",
    "It then selects numeric columns from `data2` using `select_dtypes` and calls the `check_outliers` with the specified DataFrame and columns."
   ]
  },
  {
   "cell_type": "code",
   "execution_count": 8,
   "metadata": {},
   "outputs": [
    {
     "name": "stdout",
     "output_type": "stream",
     "text": [
      "RegionID\n",
      "Number of outliers: 101\n",
      "\n",
      "RegionName\n",
      "Number of outliers: 0\n",
      "\n",
      "SizeRank\n",
      "Number of outliers: 0\n",
      "\n",
      "Return On Investment\n",
      "Number of outliers: 700\n",
      "\n",
      "Return On Investment(1996-1997)\n",
      "Number of outliers: 439\n",
      "\n",
      "Return On Investment(1997-1998)\n",
      "Number of outliers: 707\n",
      "\n",
      "Return On Investment(1998-1999)\n",
      "Number of outliers: 554\n",
      "\n",
      "Return On Investment(1999-2000)\n",
      "Number of outliers: 583\n",
      "\n",
      "Return On Investment(2000-2001)\n",
      "Number of outliers: 359\n",
      "\n",
      "Return On Investment(2001-2002)\n",
      "Number of outliers: 150\n",
      "\n",
      "Return On Investment(2002-2003)\n",
      "Number of outliers: 191\n",
      "\n",
      "Return On Investment(2003-2004)\n",
      "Number of outliers: 410\n",
      "\n",
      "Return On Investment(2004-2005)\n",
      "Number of outliers: 232\n",
      "\n",
      "Return On Investment(2005-2006)\n",
      "Number of outliers: 417\n",
      "\n",
      "Return On Investment(2006-2007)\n",
      "Number of outliers: 409\n",
      "\n",
      "Return On Investment(2007-2008)\n",
      "Number of outliers: 457\n",
      "\n",
      "Return On Investment(2008-2009)\n",
      "Number of outliers: 726\n",
      "\n",
      "Return On Investment(2009-2010)\n",
      "Number of outliers: 651\n",
      "\n",
      "Return On Investment(2010-2011)\n",
      "Number of outliers: 431\n",
      "\n",
      "Return On Investment(2011-2012)\n",
      "Number of outliers: 505\n",
      "\n",
      "Return On Investment(2012-2013)\n",
      "Number of outliers: 720\n",
      "\n",
      "Return On Investment(2013-2014)\n",
      "Number of outliers: 467\n",
      "\n",
      "Return On Investment(2014-2015)\n",
      "Number of outliers: 498\n",
      "\n",
      "Return On Investment(2015-2016)\n",
      "Number of outliers: 499\n",
      "\n",
      "Return On Investment(2016-2017)\n",
      "Number of outliers: 499\n",
      "\n",
      "Return On Investment(2017-2018)\n",
      "Number of outliers: 472\n",
      "\n",
      "Cumulative_ROI\n",
      "Number of outliers: 279\n",
      "\n",
      "Average_ROI\n",
      "Number of outliers: 279\n",
      "\n"
     ]
    }
   ],
   "source": [
    "#Checking for outliers\n",
    "def check_outliers(df, columns):\n",
    "    for column in columns:\n",
    "        # Calculate IQR (Interquartile Range)\n",
    "        iqr = df[column].quantile(0.75) - df[column].quantile(0.25)\n",
    "        \n",
    "        # Define lower and upper thresholds\n",
    "        lower_threshold = df[column].quantile(0.25) - 1.5 * iqr\n",
    "        upper_threshold = df[column].quantile(0.75) + 1.5 * iqr\n",
    "        \n",
    "# Find outliers\n",
    "        outliers = df[(df[column] < lower_threshold) | (df[column] > upper_threshold)]\n",
    "\n",
    "        # Print the count of outliers\n",
    "        print(f\"{column}\\nNumber of outliers: {len(outliers)}\\n\")\n",
    "\n",
    "#Call the function\n",
    "columns_to_check = data2.select_dtypes(include = ['number'])\n",
    "check_outliers(data2, columns_to_check)"
   ]
  },
  {
   "cell_type": "markdown",
   "metadata": {},
   "source": [
    "The code below generates a boxplot to visually inspect and identify potential outliers in the numeric columns of the DataFrame `data2`, providing a comprehensive overview of the distribution and variability of the data"
   ]
  },
  {
   "cell_type": "code",
   "execution_count": 9,
   "metadata": {},
   "outputs": [
    {
     "data": {
      "image/png": "[encoded data removed]",
      "text/plain": [
       "<Figure size 864x432 with 1 Axes>"
      ]
     },
     "metadata": {
      "needs_background": "light"
     },
     "output_type": "display_data"
    }
   ],
   "source": [
    "# Plotting a boxplot to check for outliers\n",
    "features_to_plot = data2.select_dtypes(include = ['number'])\n",
    "plt.figure(figsize=(12,6))\n",
    "sns.boxplot(data=features_to_plot, ax=plt.gca())\n",
    "plt.xticks(rotation=45, ha='right')\n",
    "plt.xlabel('Features')\n",
    "plt.ylabel('Values')\n",
    "plt.title('Boxplot of Numeric Columns')\n",
    "plt.show()"
   ]
  },
  {
   "cell_type": "markdown",
   "metadata": {},
   "source": [
    "The boxplots indicates there are outliers present but we cant drop them because they are actual events recorded."
   ]
  },
  {
   "cell_type": "markdown",
   "metadata": {},
   "source": [
    "The function below takes a wide-form dataframe and melts it into a long-form DataFrame, converts the `Date` column to datetime format, drops rows with missing `value` entries, and finally returns a dataframe grouped by date with the mean value for each date."
   ]
  },
  {
   "cell_type": "code",
   "execution_count": 10,
   "metadata": {},
   "outputs": [],
   "source": [
    "#Melt Data Function\n",
    "def melt_data(df):\n",
    "    \"\"\"\n",
    "    Takes the zillow_data dataset in wide form or a subset of the zillow_dataset.  \n",
    "    Returns a long-form datetime dataframe \n",
    "    with the datetime column names as the index and the values as the 'values' column.\n",
    "    \n",
    "    If more than one row is passes in the wide-form dataset, the values column\n",
    "    will be the mean of the values from the datetime columns in all of the rows.\n",
    "    \"\"\"\n",
    "    \n",
    "    #Melt the DataFrame\n",
    "    melted = pd.melt(df, id_vars=['RegionName', 'RegionID', 'SizeRank', 'City', 'State', 'Metro', 'CountyName'], var_name='Date')\n",
    "    \n",
    "    #Convert the 'Date' column to datatime format\n",
    "    melted['Date'] = pd.to_datetime(melted['Date'], infer_datetime_format=True)\n",
    "    \n",
    "    #Drop rows with missing 'value' entries\n",
    "    melted = melted.dropna(subset=['value'])\n",
    "\n",
    "    #Group by 'Date' and calculate the mean of the 'value' column\n",
    "    return melted.groupby('Date').aggregate({'value':'mean'})"
   ]
  },
  {
   "cell_type": "markdown",
   "metadata": {},
   "source": [
    "The code below reshapes the DataFrame `data` using the pandas melt_data function and stores the result in a new DataFrame `data3`, providing an initial view of the reshaped data."
   ]
  },
  {
   "cell_type": "code",
   "execution_count": 11,
   "metadata": {},
   "outputs": [
    {
     "data": {
      "text/html": [
       "<div>\n",
       "<style scoped>\n",
       "    .dataframe tbody tr th:only-of-type {\n",
       "        vertical-align: middle;\n",
       "    }\n",
       "\n",
       "    .dataframe tbody tr th {\n",
       "        vertical-align: top;\n",
       "    }\n",
       "\n",
       "    .dataframe thead th {\n",
       "        text-align: right;\n",
       "    }\n",
       "</style>\n",
       "<table border=\"1\" class=\"dataframe\">\n",
       "  <thead>\n",
       "    <tr style=\"text-align: right;\">\n",
       "      <th></th>\n",
       "      <th>value</th>\n",
       "    </tr>\n",
       "    <tr>\n",
       "      <th>Date</th>\n",
       "      <th></th>\n",
       "    </tr>\n",
       "  </thead>\n",
       "  <tbody>\n",
       "    <tr>\n",
       "      <th>1996-04-01</th>\n",
       "      <td>118299.123063</td>\n",
       "    </tr>\n",
       "    <tr>\n",
       "      <th>1996-05-01</th>\n",
       "      <td>118419.044139</td>\n",
       "    </tr>\n",
       "    <tr>\n",
       "      <th>1996-06-01</th>\n",
       "      <td>118537.423268</td>\n",
       "    </tr>\n",
       "    <tr>\n",
       "      <th>1996-07-01</th>\n",
       "      <td>118653.069278</td>\n",
       "    </tr>\n",
       "    <tr>\n",
       "      <th>1996-08-01</th>\n",
       "      <td>118780.254312</td>\n",
       "    </tr>\n",
       "  </tbody>\n",
       "</table>\n",
       "</div>"
      ],
      "text/plain": [
       "                    value\n",
       "Date                     \n",
       "1996-04-01  118299.123063\n",
       "1996-05-01  118419.044139\n",
       "1996-06-01  118537.423268\n",
       "1996-07-01  118653.069278\n",
       "1996-08-01  118780.254312"
      ]
     },
     "execution_count": 11,
     "metadata": {},
     "output_type": "execute_result"
    }
   ],
   "source": [
    "# Reshape the DataFrame 'data' using the 'melt_data' function and store the result in 'data3'\n",
    "data3 = melt_data(data)\n",
    "\n",
    "# Display the first few rows of the reshaped DataFrame 'data3'\n",
    "data3.head()"
   ]
  },
  {
   "cell_type": "code",
   "execution_count": 12,
   "metadata": {},
   "outputs": [
    {
     "data": {
      "text/plain": [
       "(265, 1)"
      ]
     },
     "execution_count": 12,
     "metadata": {},
     "output_type": "execute_result"
    }
   ],
   "source": [
    "# Checking the shape of data3\n",
    "data3.index.freq = 'MS'\n",
    "data3.shape"
   ]
  },
  {
   "cell_type": "code",
   "execution_count": 13,
   "metadata": {},
   "outputs": [
    {
     "name": "stdout",
     "output_type": "stream",
     "text": [
      "-------------------------Missing Values Check---------------------------------------\n",
      "\n",
      "Number of null values in each column in the dataset:\n",
      "value    0\n",
      "dtype: int64\n",
      "\n",
      "-------------------------Duplicated Values Check------------------------------------\n",
      "\n",
      "Number of duplicated values in the dataset: 0\n",
      "\n",
      "-------------------------Placeholder Values Check-----------------------------------\n",
      "\n",
      "Column: 'value'\n",
      "Placeholders found: []\n",
      "Count of placeholders: 0\n",
      "\n"
     ]
    }
   ],
   "source": [
    "# Call the 'data_prep' function to perform data preparation steps on the DataFrame 'data3'\n",
    "data_prep(data3)"
   ]
  },
  {
   "cell_type": "code",
   "execution_count": 14,
   "metadata": {},
   "outputs": [],
   "source": [
    "data2['RegionName']= data2['RegionName'].astype(str)"
   ]
  },
  {
   "cell_type": "markdown",
   "metadata": {},
   "source": [
    "## Exprolatory Data Analysis"
   ]
  },
  {
   "cell_type": "markdown",
   "metadata": {},
   "source": [
    "#### Univariate Analysis\n",
    "\n",
    "We will begin this analysis by plotting a histogram of the `Return On Investment` column to look at its distribution."
   ]
  },
  {
   "cell_type": "code",
   "execution_count": 15,
   "metadata": {},
   "outputs": [
    {
     "data": {
      "image/png": "[encoded data removed]",
      "text/plain": [
       "<Figure size 720x432 with 1 Axes>"
      ]
     },
     "metadata": {
      "needs_background": "light"
     },
     "output_type": "display_data"
    }
   ],
   "source": [
    "# Creating histograms for selected columns\n",
    "plt.figure(figsize=(10, 6))\n",
    "sns.histplot(data=data2, x='Average_ROI', bins = 'auto', common_norm = False, kde = True)\n",
    "plt.title('Average Returns On Investment Histogram')\n",
    "plt.show()"
   ]
  },
  {
   "cell_type": "markdown",
   "metadata": {},
   "source": [
    "The returns on investment had a postive skewness. This means that most of the ROI scores were between 0 and 2 which means most of the houses had low ROI values between '1998-04' and '2018-04' We will now create a countplot to see the number of real estate houses in each state."
   ]
  },
  {
   "cell_type": "code",
   "execution_count": 16,
   "metadata": {},
   "outputs": [
    {
     "data": {
      "image/png": "[encoded data removed]",
      "text/plain": [
       "<Figure size 864x432 with 1 Axes>"
      ]
     },
     "metadata": {
      "needs_background": "light"
     },
     "output_type": "display_data"
    }
   ],
   "source": [
    "# Countplot for the number of houses by state\n",
    "plt.figure(figsize=(12,6))\n",
    "sns.countplot(data2['State'], order=data2['State'].value_counts().index)\n",
    "plt.xticks(rotation = 90)\n",
    "plt.title('Number of Houses by State')\n",
    "plt.show()"
   ]
  },
  {
   "cell_type": "markdown",
   "metadata": {},
   "source": [
    "The number of houses was highest in California, New York, Texas, Pennsylvania, and Florida, respectively. The states with the least number of houses were South Dakota, Vermont, Washington DC, Wyoming, and Arkansas, respectively. This could be attributed to the size of the population of these states. We can now go ahead to the bivariate analysis."
   ]
  },
  {
   "cell_type": "markdown",
   "metadata": {},
   "source": [
    "#### Bivariate Analysis\n",
    "\n",
    "We will begin the bivariate analysis by taking a look at the best and worst performing zip codes by ROI."
   ]
  },
  {
   "cell_type": "code",
   "execution_count": 17,
   "metadata": {},
   "outputs": [
    {
     "data": {
      "image/png": "[encoded data removed]",
      "text/plain": [
       "<Figure size 864x432 with 1 Axes>"
      ]
     },
     "metadata": {
      "needs_background": "light"
     },
     "output_type": "display_data"
    }
   ],
   "source": [
    "# Top five zipcodes with highest ROI\n",
    "plt.figure(figsize= (12,6)) \n",
    "plt.bar(data2['RegionName'][:5], data2['Average_ROI'][:5])\n",
    "plt.xticks(rotation=90)\n",
    "plt.title('Return on Investment by ZipCode')\n",
    "plt.xlabel('ZipCode')\n",
    "plt.ylabel('Return On Investment')\n",
    "plt.show()"
   ]
  },
  {
   "cell_type": "code",
   "execution_count": 18,
   "metadata": {},
   "outputs": [
    {
     "data": {
      "image/png": "[encoded data removed]",
      "text/plain": [
       "<Figure size 864x432 with 1 Axes>"
      ]
     },
     "metadata": {
      "needs_background": "light"
     },
     "output_type": "display_data"
    }
   ],
   "source": [
    "# Regions with the lowest returns on investment\n",
    "plt.figure(figsize= (12,6)) \n",
    "plt.bar(data2['RegionName'][-5:], data2['Average_ROI'][-5:])\n",
    "plt.xticks(rotation=90)\n",
    "plt.title('Return On Investment by ZipCode')\n",
    "plt.xlabel('ZipCode')\n",
    "plt.ylabel('Return On Investment')\n",
    "plt.show()"
   ]
  },
  {
   "cell_type": "markdown",
   "metadata": {},
   "source": [
    "The zip codes with the best ROI performance were:\n",
    "1. `11211` - Brooklyn, New York.\n",
    "2. `11222` - Brooklyn, New York.\n",
    "3. `11216` - Brooklyn, New York.\n",
    "4. `7302` - Jersey City, New Jersey.\n",
    "5. `11930` - Amagansett, New York.\n",
    "\n",
    "The zip codes with the worst ROI performance were:\n",
    "1. `48506` - Flint, Michigan.\n",
    "2. `48503` - Flint, Michigan.\n",
    "3. `78735` - Austin, Texas.\n",
    "4. `15902` - Johnstown, Pennsylvania.\n",
    "5. `61071` - Rock Falls, Illinois.\n",
    "\n",
    "We can now go ahead and check on the ROI performance per city."
   ]
  },
  {
   "cell_type": "code",
   "execution_count": 19,
   "metadata": {},
   "outputs": [
    {
     "data": {
      "image/png": "[encoded data removed]",
      "text/plain": [
       "<Figure size 864x432 with 1 Axes>"
      ]
     },
     "metadata": {
      "needs_background": "light"
     },
     "output_type": "display_data"
    }
   ],
   "source": [
    "# Top five cities with highest ROI\n",
    "plt.figure(figsize= (12,6)) \n",
    "plt.bar(data2['City'][:10], data2['Average_ROI'][:10])\n",
    "plt.xticks(rotation=90)\n",
    "plt.title('Average Return On Investment by City')\n",
    "plt.xlabel('City')\n",
    "plt.ylabel('Return On Investment')\n",
    "plt.show()"
   ]
  },
  {
   "cell_type": "code",
   "execution_count": 20,
   "metadata": {},
   "outputs": [
    {
     "data": {
      "image/png": "[encoded data removed]",
      "text/plain": [
       "<Figure size 864x432 with 1 Axes>"
      ]
     },
     "metadata": {
      "needs_background": "light"
     },
     "output_type": "display_data"
    }
   ],
   "source": [
    "# Cities with the lowest returns on investment\n",
    "plt.figure(figsize= (12,6)) \n",
    "plt.bar(data2['City'][-10:], data2['Average_ROI'][-10:])\n",
    "plt.xticks(rotation=90)\n",
    "plt.title('Average Return On Investment by City')\n",
    "plt.xlabel('City')\n",
    "plt.ylabel('Return On Investment')\n",
    "plt.show()"
   ]
  },
  {
   "cell_type": "markdown",
   "metadata": {},
   "source": [
    "The cities with the highest returns on investment are New York, Jersey City, Amagansett, Wainscott, , Harbeson, Sioux Falls and Los Angeles. However, the cities with the lowest returns on investment are Flint, Austin, Johnstown,Rock Falls, Carpron,  Prophetstown, Earle, Indianapolis, and Fulton. Now, proceeding to the best and worst performing states based on the returns on investment."
   ]
  },
  {
   "cell_type": "code",
   "execution_count": 21,
   "metadata": {},
   "outputs": [
    {
     "data": {
      "image/png": "[encoded data removed]",
      "text/plain": [
       "<Figure size 864x432 with 1 Axes>"
      ]
     },
     "metadata": {
      "needs_background": "light"
     },
     "output_type": "display_data"
    }
   ],
   "source": [
    "# Top five states with highest ROI \n",
    "plt.figure(figsize= (12,6)) \n",
    "plt.bar(data2['State'][:10], data2['Average_ROI'][:10])\n",
    "plt.xticks(rotation=90)\n",
    "plt.title('Average Return On Investment by State')\n",
    "plt.xlabel('State')\n",
    "plt.ylabel('Return On Investment')\n",
    "plt.show()"
   ]
  },
  {
   "cell_type": "code",
   "execution_count": 22,
   "metadata": {},
   "outputs": [
    {
     "data": {
      "image/png": "[encoded data removed]",
      "text/plain": [
       "<Figure size 864x432 with 1 Axes>"
      ]
     },
     "metadata": {
      "needs_background": "light"
     },
     "output_type": "display_data"
    }
   ],
   "source": [
    "# Bottom five states with highest ROI \n",
    "plt.figure(figsize= (12,6)) \n",
    "plt.bar(data2['State'][-10:], data2['Average_ROI'][-10:])\n",
    "plt.xticks(rotation=90)\n",
    "plt.title('Return On Investment by State')\n",
    "plt.xlabel('State')\n",
    "plt.ylabel('Return On Investment')\n",
    "plt.show()"
   ]
  },
  {
   "cell_type": "markdown",
   "metadata": {},
   "source": [
    "The states with the highest reurns on investment are New York, New Jersey, Delaware, South Dakota, and Califonia. On the other hand, the states with the lowest returns on investment are Michigan, Texas, Pennsylvania, Arkansas,Indiana, and Illinois. We can go ahead and conduct time series analysis. "
   ]
  },
  {
   "cell_type": "markdown",
   "metadata": {},
   "source": [
    "### Time Series Analysis\n",
    "\n",
    "We will first plot a histogram of the time series data to check for its distribution."
   ]
  },
  {
   "cell_type": "code",
   "execution_count": 23,
   "metadata": {},
   "outputs": [
    {
     "data": {
      "image/png": "[encoded data removed]",
      "text/plain": [
       "<Figure size 720x432 with 1 Axes>"
      ]
     },
     "metadata": {
      "needs_background": "light"
     },
     "output_type": "display_data"
    }
   ],
   "source": [
    "# Plotting a histogram\n",
    "data3.hist(figsize=(10,6));"
   ]
  },
  {
   "cell_type": "markdown",
   "metadata": {},
   "source": [
    "Based on the results, we can see that the data does not follow a normal distribution but is somehow skewed to the right. We will now create line plots for the monthly, quarterly, semi-annual and annual data after resampling."
   ]
  },
  {
   "cell_type": "code",
   "execution_count": 24,
   "metadata": {},
   "outputs": [
    {
     "data": {
      "image/png": "[encoded data removed]",
      "text/plain": [
       "<Figure size 720x432 with 1 Axes>"
      ]
     },
     "metadata": {
      "needs_background": "light"
     },
     "output_type": "display_data"
    }
   ],
   "source": [
    "# Creating a line plot of the data\n",
    "data3.plot(figsize=(10,6));"
   ]
  },
  {
   "cell_type": "code",
   "execution_count": 25,
   "metadata": {},
   "outputs": [
    {
     "data": {
      "text/html": [
       "<div>\n",
       "<style scoped>\n",
       "    .dataframe tbody tr th:only-of-type {\n",
       "        vertical-align: middle;\n",
       "    }\n",
       "\n",
       "    .dataframe tbody tr th {\n",
       "        vertical-align: top;\n",
       "    }\n",
       "\n",
       "    .dataframe thead th {\n",
       "        text-align: right;\n",
       "    }\n",
       "</style>\n",
       "<table border=\"1\" class=\"dataframe\">\n",
       "  <thead>\n",
       "    <tr style=\"text-align: right;\">\n",
       "      <th></th>\n",
       "      <th>value</th>\n",
       "    </tr>\n",
       "    <tr>\n",
       "      <th>Date</th>\n",
       "      <th></th>\n",
       "    </tr>\n",
       "  </thead>\n",
       "  <tbody>\n",
       "    <tr>\n",
       "      <th>1996-06-30</th>\n",
       "      <td>118418.530157</td>\n",
       "    </tr>\n",
       "    <tr>\n",
       "      <th>1996-09-30</th>\n",
       "      <td>118786.950697</td>\n",
       "    </tr>\n",
       "    <tr>\n",
       "      <th>1996-12-31</th>\n",
       "      <td>119383.652441</td>\n",
       "    </tr>\n",
       "    <tr>\n",
       "      <th>1997-03-31</th>\n",
       "      <td>120520.710319</td>\n",
       "    </tr>\n",
       "    <tr>\n",
       "      <th>1997-06-30</th>\n",
       "      <td>121659.059242</td>\n",
       "    </tr>\n",
       "  </tbody>\n",
       "</table>\n",
       "</div>"
      ],
      "text/plain": [
       "                    value\n",
       "Date                     \n",
       "1996-06-30  118418.530157\n",
       "1996-09-30  118786.950697\n",
       "1996-12-31  119383.652441\n",
       "1997-03-31  120520.710319\n",
       "1997-06-30  121659.059242"
      ]
     },
     "execution_count": 25,
     "metadata": {},
     "output_type": "execute_result"
    }
   ],
   "source": [
    "# Resampling to quarterly\n",
    "quarterly_df = data3.resample('Q').mean()\n",
    "quarterly_df.head()"
   ]
  },
  {
   "cell_type": "code",
   "execution_count": 26,
   "metadata": {},
   "outputs": [
    {
     "data": {
      "image/png": "[encoded data removed]",
      "text/plain": [
       "<Figure size 720x432 with 1 Axes>"
      ]
     },
     "metadata": {
      "needs_background": "light"
     },
     "output_type": "display_data"
    }
   ],
   "source": [
    "# Plotting data resampled quarterly\n",
    "quarterly_df.plot(figsize=(10,6));"
   ]
  },
  {
   "cell_type": "code",
   "execution_count": 27,
   "metadata": {},
   "outputs": [
    {
     "data": {
      "text/html": [
       "<div>\n",
       "<style scoped>\n",
       "    .dataframe tbody tr th:only-of-type {\n",
       "        vertical-align: middle;\n",
       "    }\n",
       "\n",
       "    .dataframe tbody tr th {\n",
       "        vertical-align: top;\n",
       "    }\n",
       "\n",
       "    .dataframe thead th {\n",
       "        text-align: right;\n",
       "    }\n",
       "</style>\n",
       "<table border=\"1\" class=\"dataframe\">\n",
       "  <thead>\n",
       "    <tr style=\"text-align: right;\">\n",
       "      <th></th>\n",
       "      <th>value</th>\n",
       "    </tr>\n",
       "    <tr>\n",
       "      <th>Date</th>\n",
       "      <th></th>\n",
       "    </tr>\n",
       "  </thead>\n",
       "  <tbody>\n",
       "    <tr>\n",
       "      <th>1996-06-30</th>\n",
       "      <td>118418.530157</td>\n",
       "    </tr>\n",
       "    <tr>\n",
       "      <th>1996-12-31</th>\n",
       "      <td>119085.301569</td>\n",
       "    </tr>\n",
       "    <tr>\n",
       "      <th>1997-06-30</th>\n",
       "      <td>121089.884780</td>\n",
       "    </tr>\n",
       "    <tr>\n",
       "      <th>1997-12-31</th>\n",
       "      <td>123640.518816</td>\n",
       "    </tr>\n",
       "    <tr>\n",
       "      <th>1998-06-30</th>\n",
       "      <td>127404.630915</td>\n",
       "    </tr>\n",
       "  </tbody>\n",
       "</table>\n",
       "</div>"
      ],
      "text/plain": [
       "                    value\n",
       "Date                     \n",
       "1996-06-30  118418.530157\n",
       "1996-12-31  119085.301569\n",
       "1997-06-30  121089.884780\n",
       "1997-12-31  123640.518816\n",
       "1998-06-30  127404.630915"
      ]
     },
     "execution_count": 27,
     "metadata": {},
     "output_type": "execute_result"
    }
   ],
   "source": [
    "# Semi-annual resampling\n",
    "semiannual_df = data3.resample('2Q').mean()\n",
    "semiannual_df.head()"
   ]
  },
  {
   "cell_type": "code",
   "execution_count": 28,
   "metadata": {},
   "outputs": [
    {
     "data": {
      "text/plain": [
       "<AxesSubplot:xlabel='Date'>"
      ]
     },
     "execution_count": 28,
     "metadata": {},
     "output_type": "execute_result"
    },
    {
     "data": {
      "image/png": "[encoded data removed]",
      "text/plain": [
       "<Figure size 720x432 with 1 Axes>"
      ]
     },
     "metadata": {
      "needs_background": "light"
     },
     "output_type": "display_data"
    }
   ],
   "source": [
    "# Plotting data resampled semi-annually\n",
    "semiannual_df.plot(figsize=(10,6))"
   ]
  },
  {
   "cell_type": "code",
   "execution_count": 29,
   "metadata": {},
   "outputs": [
    {
     "data": {
      "text/html": [
       "<div>\n",
       "<style scoped>\n",
       "    .dataframe tbody tr th:only-of-type {\n",
       "        vertical-align: middle;\n",
       "    }\n",
       "\n",
       "    .dataframe tbody tr th {\n",
       "        vertical-align: top;\n",
       "    }\n",
       "\n",
       "    .dataframe thead th {\n",
       "        text-align: right;\n",
       "    }\n",
       "</style>\n",
       "<table border=\"1\" class=\"dataframe\">\n",
       "  <thead>\n",
       "    <tr style=\"text-align: right;\">\n",
       "      <th></th>\n",
       "      <th>value</th>\n",
       "    </tr>\n",
       "    <tr>\n",
       "      <th>Date</th>\n",
       "      <th></th>\n",
       "    </tr>\n",
       "  </thead>\n",
       "  <tbody>\n",
       "    <tr>\n",
       "      <th>1996-12-31</th>\n",
       "      <td>118863.044431</td>\n",
       "    </tr>\n",
       "    <tr>\n",
       "      <th>1997-12-31</th>\n",
       "      <td>122365.201798</td>\n",
       "    </tr>\n",
       "    <tr>\n",
       "      <th>1998-12-31</th>\n",
       "      <td>129392.784516</td>\n",
       "    </tr>\n",
       "    <tr>\n",
       "      <th>1999-12-31</th>\n",
       "      <td>138962.489345</td>\n",
       "    </tr>\n",
       "    <tr>\n",
       "      <th>2000-12-31</th>\n",
       "      <td>151834.752563</td>\n",
       "    </tr>\n",
       "  </tbody>\n",
       "</table>\n",
       "</div>"
      ],
      "text/plain": [
       "                    value\n",
       "Date                     \n",
       "1996-12-31  118863.044431\n",
       "1997-12-31  122365.201798\n",
       "1998-12-31  129392.784516\n",
       "1999-12-31  138962.489345\n",
       "2000-12-31  151834.752563"
      ]
     },
     "execution_count": 29,
     "metadata": {},
     "output_type": "execute_result"
    }
   ],
   "source": [
    "# Annual Resampling\n",
    "annual_df = data3.resample('Y').mean()\n",
    "annual_df.head()"
   ]
  },
  {
   "cell_type": "code",
   "execution_count": 30,
   "metadata": {},
   "outputs": [
    {
     "data": {
      "image/png": "[encoded data removed]",
      "text/plain": [
       "<Figure size 720x432 with 1 Axes>"
      ]
     },
     "metadata": {
      "needs_background": "light"
     },
     "output_type": "display_data"
    }
   ],
   "source": [
    "# A plot of data resampled annually\n",
    "annual_df.plot(figsize=(10,6));"
   ]
  },
  {
   "cell_type": "markdown",
   "metadata": {},
   "source": [
    "Based on the monthly, quarterly, semi-annual, and annual graphs, we can see that there is an upward trend from 1996 to 2018. However, there is a decrease between 2006 and 2013, which is attributed to the recession and the 2008 market crash. We can also see that there is no seasonality detected in the data. We can now look at the rolling statistics and conduct the Dickey-Fuller test to check for stationarity. "
   ]
  },
  {
   "cell_type": "code",
   "execution_count": 31,
   "metadata": {},
   "outputs": [],
   "source": [
    "# Rolling mean\n",
    "roll_mean = data3.rolling(window=12, center=False).mean()\n",
    "roll_std = data3.rolling(window=12, center=False).std()"
   ]
  },
  {
   "cell_type": "code",
   "execution_count": 32,
   "metadata": {},
   "outputs": [
    {
     "data": {
      "image/png": "[encoded data removed]",
      "text/plain": [
       "<Figure size 864x504 with 1 Axes>"
      ]
     },
     "metadata": {
      "needs_background": "light"
     },
     "output_type": "display_data"
    }
   ],
   "source": [
    "# Plotting the rolling statistics \n",
    "fig = plt.figure(figsize=(12,7))\n",
    "plt.plot(data3, color='blue', label='Original')\n",
    "plt.plot(roll_mean, color='red', label='Rolling Mean')\n",
    "plt.plot(roll_std, color='black', label='Rolling Standard Deviation')\n",
    "plt.legend(loc='best')\n",
    "plt.title('Rolling Statistics')\n",
    "plt.show(block=False);"
   ]
  },
  {
   "cell_type": "code",
   "execution_count": 33,
   "metadata": {},
   "outputs": [
    {
     "name": "stdout",
     "output_type": "stream",
     "text": [
      "Results of Dickey-Fuller test: \n",
      "\n",
      "Test Statistic                  -1.885145\n",
      "p-value                          0.339082\n",
      "#Lags Used                       2.000000\n",
      "Number of Observations Used    262.000000\n",
      "Critical Values (1%)            -3.455558\n",
      "Critical Values (5%)            -2.872636\n",
      "Critical Values (10%)           -2.572683\n",
      "dtype: float64\n"
     ]
    }
   ],
   "source": [
    "# Dickey-Fuller Test\n",
    "dftest = adfuller(data3)\n",
    "dfoutput = pd.Series(dftest[0:4], index=['Test Statistic', 'p-value', '#Lags Used', 'Number of Observations Used'])\n",
    "for key, value in dftest[4].items():\n",
    "    dfoutput['Critical Values (%s)'%key] = value\n",
    "\n",
    "print('Results of Dickey-Fuller test: \\n')\n",
    "print(dfoutput)"
   ]
  },
  {
   "cell_type": "markdown",
   "metadata": {},
   "source": [
    "Based on the plot and the p-value, we can see that our data is not stationary. This is because the rolling mean follows the same trend as the original data. The other reason is because the p-value of 0.34 is greater than 0.05. This will be dealt with in the modeling part of this project. "
   ]
  },
  {
   "cell_type": "markdown",
   "metadata": {},
   "source": [
    "## Time Series Modeling  \n",
    "\n",
    "### Preprocessing"
   ]
  },
  {
   "cell_type": "markdown",
   "metadata": {},
   "source": [
    "Previously, we saw that our data was not stationary and to meet the assumptions of the ARIMA model we need to make the data stationary"
   ]
  },
  {
   "cell_type": "code",
   "execution_count": 34,
   "metadata": {},
   "outputs": [
    {
     "data": {
      "image/png": "[encoded data removed]",
      "text/plain": [
       "<Figure size 864x504 with 1 Axes>"
      ]
     },
     "metadata": {
      "needs_background": "light"
     },
     "output_type": "display_data"
    }
   ],
   "source": [
    "exp_rolling_mean = data3.ewm(halflife=2).mean()\n",
    "data3_minus_exp_roll_mean = data3 - exp_rolling_mean\n",
    "roll_mean2 = data3_minus_exp_roll_mean.rolling(window=12, center=False).mean()\n",
    "roll_std2 = data3_minus_exp_roll_mean.rolling(window=12, center=False).std()\n",
    "\n",
    "#Plot\n",
    "fig = plt.figure(figsize=(12,7))\n",
    "plt.plot(data3_minus_exp_roll_mean, color='blue', label='Original')\n",
    "plt.plot(roll_mean2, color='red', label='Rolling Mean')\n",
    "plt.plot(roll_std2, color='black', label='Rolling Standard Deviation')\n",
    "\n",
    "plt.legend(loc='best')\n",
    "plt.title('Rolling Statistics')\n",
    "plt.show(block=False);"
   ]
  },
  {
   "cell_type": "code",
   "execution_count": 35,
   "metadata": {},
   "outputs": [
    {
     "name": "stdout",
     "output_type": "stream",
     "text": [
      "Results of Dickey-Fuller test: \n",
      "\n",
      "Test Statistic                  -2.723136\n",
      "p-value                          0.070120\n",
      "#Lags Used                      10.000000\n",
      "Number of Observations Used    254.000000\n",
      "Critical Values (1%)            -3.456360\n",
      "Critical Values (5%)            -2.872987\n",
      "Critical Values (10%)           -2.572870\n",
      "dtype: float64\n"
     ]
    }
   ],
   "source": [
    "#Dickey-Fuller Test\n",
    "dftest = adfuller(data3_minus_exp_roll_mean)\n",
    "dfoutput = pd.Series(dftest[0:4], index=['Test Statistic', 'p-value', '#Lags Used', 'Number of Observations Used'])\n",
    "for key, value in dftest[4].items():\n",
    "    dfoutput['Critical Values (%s)'%key] = value\n",
    "\n",
    "print('Results of Dickey-Fuller test: \\n')\n",
    "print(dfoutput)"
   ]
  },
  {
   "cell_type": "code",
   "execution_count": 36,
   "metadata": {},
   "outputs": [
    {
     "data": {
      "text/html": [
       "<div>\n",
       "<style scoped>\n",
       "    .dataframe tbody tr th:only-of-type {\n",
       "        vertical-align: middle;\n",
       "    }\n",
       "\n",
       "    .dataframe tbody tr th {\n",
       "        vertical-align: top;\n",
       "    }\n",
       "\n",
       "    .dataframe thead th {\n",
       "        text-align: right;\n",
       "    }\n",
       "</style>\n",
       "<table border=\"1\" class=\"dataframe\">\n",
       "  <thead>\n",
       "    <tr style=\"text-align: right;\">\n",
       "      <th></th>\n",
       "      <th>value</th>\n",
       "    </tr>\n",
       "    <tr>\n",
       "      <th>Date</th>\n",
       "      <th></th>\n",
       "    </tr>\n",
       "  </thead>\n",
       "  <tbody>\n",
       "    <tr>\n",
       "      <th>1996-05-01</th>\n",
       "      <td>49.672936</td>\n",
       "    </tr>\n",
       "    <tr>\n",
       "      <th>1996-06-01</th>\n",
       "      <td>42.237790</td>\n",
       "    </tr>\n",
       "    <tr>\n",
       "      <th>1996-07-01</th>\n",
       "      <td>34.590063</td>\n",
       "    </tr>\n",
       "    <tr>\n",
       "      <th>1996-08-01</th>\n",
       "      <td>36.926587</td>\n",
       "    </tr>\n",
       "    <tr>\n",
       "      <th>1996-09-01</th>\n",
       "      <td>43.271467</td>\n",
       "    </tr>\n",
       "  </tbody>\n",
       "</table>\n",
       "</div>"
      ],
      "text/plain": [
       "                value\n",
       "Date                 \n",
       "1996-05-01  49.672936\n",
       "1996-06-01  42.237790\n",
       "1996-07-01  34.590063\n",
       "1996-08-01  36.926587\n",
       "1996-09-01  43.271467"
      ]
     },
     "execution_count": 36,
     "metadata": {},
     "output_type": "execute_result"
    }
   ],
   "source": [
    "#We start with a differencing of one\n",
    "df_diff = data3_minus_exp_roll_mean.diff(periods=1).dropna()\n",
    "df_diff.head()"
   ]
  },
  {
   "cell_type": "code",
   "execution_count": 37,
   "metadata": {},
   "outputs": [
    {
     "data": {
      "image/png": "[encoded data removed]",
      "text/plain": [
       "<Figure size 864x504 with 1 Axes>"
      ]
     },
     "metadata": {
      "needs_background": "light"
     },
     "output_type": "display_data"
    }
   ],
   "source": [
    "#Plotting to see if the data is stationary\n",
    "\n",
    "# Calculate rolling mean and rolling standard deviation\n",
    "roll_mean2 = df_diff.rolling(window=12, center=False).mean()\n",
    "roll_std2 = df_diff.rolling(window=12, center=False).std()\n",
    "\n",
    "#Plot\n",
    "fig = plt.figure(figsize=(12,7))\n",
    "plt.plot(df_diff, color='blue', label='Original')\n",
    "plt.plot(roll_mean2, color='red', label='Rolling Mean')\n",
    "plt.plot(roll_std2, color='black', label='Rolling Standard Deviation')\n",
    "\n",
    "plt.legend(loc='best')\n",
    "plt.title('Rolling Statistics')\n",
    "plt.show(block=False);"
   ]
  },
  {
   "cell_type": "markdown",
   "metadata": {},
   "source": [
    "From the plot we can see that our data is not stationary, for confirmation we have the Dickey-Fuller test below:  "
   ]
  },
  {
   "cell_type": "code",
   "execution_count": 38,
   "metadata": {},
   "outputs": [
    {
     "name": "stdout",
     "output_type": "stream",
     "text": [
      "Results of Dickey-Fuller test: \n",
      "\n",
      "Test Statistic                  -2.598253\n",
      "p-value                          0.093359\n",
      "#Lags Used                       9.000000\n",
      "Number of Observations Used    254.000000\n",
      "Critical Values (1%)            -3.456360\n",
      "Critical Values (5%)            -2.872987\n",
      "Critical Values (10%)           -2.572870\n",
      "dtype: float64\n"
     ]
    }
   ],
   "source": [
    "#Dickey-Fuller Test\n",
    "dftest = adfuller(df_diff)\n",
    "dfoutput = pd.Series(dftest[0:4], index=['Test Statistic', 'p-value', '#Lags Used', 'Number of Observations Used'])\n",
    "for key, value in dftest[4].items():\n",
    "    dfoutput['Critical Values (%s)'%key] = value\n",
    "\n",
    "print('Results of Dickey-Fuller test: \\n')\n",
    "print(dfoutput)"
   ]
  },
  {
   "cell_type": "markdown",
   "metadata": {},
   "source": [
    "The null hypothesis for the Dickey-Fuller test is that the time series is not stationary.  \n",
    "The p-value is at 0.104 more than 0.05 and the test statistic more than the critical values, therefore we fail to reject the null hypothesis and conclude that our data is not stationary"
   ]
  },
  {
   "cell_type": "code",
   "execution_count": 39,
   "metadata": {},
   "outputs": [
    {
     "data": {
      "text/html": [
       "<div>\n",
       "<style scoped>\n",
       "    .dataframe tbody tr th:only-of-type {\n",
       "        vertical-align: middle;\n",
       "    }\n",
       "\n",
       "    .dataframe tbody tr th {\n",
       "        vertical-align: top;\n",
       "    }\n",
       "\n",
       "    .dataframe thead th {\n",
       "        text-align: right;\n",
       "    }\n",
       "</style>\n",
       "<table border=\"1\" class=\"dataframe\">\n",
       "  <thead>\n",
       "    <tr style=\"text-align: right;\">\n",
       "      <th></th>\n",
       "      <th>value</th>\n",
       "    </tr>\n",
       "    <tr>\n",
       "      <th>Date</th>\n",
       "      <th></th>\n",
       "    </tr>\n",
       "  </thead>\n",
       "  <tbody>\n",
       "    <tr>\n",
       "      <th>1996-06-01</th>\n",
       "      <td>-7.435146</td>\n",
       "    </tr>\n",
       "    <tr>\n",
       "      <th>1996-07-01</th>\n",
       "      <td>-7.647728</td>\n",
       "    </tr>\n",
       "    <tr>\n",
       "      <th>1996-08-01</th>\n",
       "      <td>2.336524</td>\n",
       "    </tr>\n",
       "    <tr>\n",
       "      <th>1996-09-01</th>\n",
       "      <td>6.344881</td>\n",
       "    </tr>\n",
       "    <tr>\n",
       "      <th>1996-10-01</th>\n",
       "      <td>21.303074</td>\n",
       "    </tr>\n",
       "  </tbody>\n",
       "</table>\n",
       "</div>"
      ],
      "text/plain": [
       "                value\n",
       "Date                 \n",
       "1996-06-01  -7.435146\n",
       "1996-07-01  -7.647728\n",
       "1996-08-01   2.336524\n",
       "1996-09-01   6.344881\n",
       "1996-10-01  21.303074"
      ]
     },
     "execution_count": 39,
     "metadata": {},
     "output_type": "execute_result"
    }
   ],
   "source": [
    "#Differencing the data again\n",
    "df_diff2 = df_diff.diff(periods=1).dropna()\n",
    "df_diff2.head()"
   ]
  },
  {
   "cell_type": "code",
   "execution_count": 40,
   "metadata": {},
   "outputs": [
    {
     "data": {
      "image/png": "[encoded data removed]",
      "text/plain": [
       "<Figure size 864x504 with 1 Axes>"
      ]
     },
     "metadata": {
      "needs_background": "light"
     },
     "output_type": "display_data"
    }
   ],
   "source": [
    "#Plotting to check stationarity\n",
    "\n",
    "#Calculating rolling mean and rolling standard deviation \n",
    "roll_mean3 = df_diff2.rolling(window=12, center=False).mean()\n",
    "roll_std3 = df_diff2.rolling(window=12, center=False).std()\n",
    "\n",
    "#Plot\n",
    "fig = plt.figure(figsize=(12,7))\n",
    "plt.plot(df_diff2, color='blue', label='Original')\n",
    "plt.plot(roll_mean3, color='red', label='Rolling Mean')\n",
    "plt.plot(roll_std3, color='black', label='Rolling Standard Deviation')\n",
    "plt.legend(loc='best')\n",
    "plt.title('Rolling Statistics')\n",
    "plt.show(block=False);"
   ]
  },
  {
   "cell_type": "code",
   "execution_count": 41,
   "metadata": {},
   "outputs": [
    {
     "name": "stdout",
     "output_type": "stream",
     "text": [
      "Results of Dickey-Fuller test: \n",
      "\n",
      "Test Statistic                -9.598407e+00\n",
      "p-value                        1.950057e-16\n",
      "#Lags Used                     8.000000e+00\n",
      "Number of Observations Used    2.540000e+02\n",
      "Critical Values (1%)          -3.456360e+00\n",
      "Critical Values (5%)          -2.872987e+00\n",
      "Critical Values (10%)         -2.572870e+00\n",
      "dtype: float64\n"
     ]
    }
   ],
   "source": [
    "#Dickey-Fuller Test\n",
    "dftest = adfuller(df_diff2)\n",
    "dfoutput = pd.Series(dftest[0:4], index=['Test Statistic', 'p-value', '#Lags Used', 'Number of Observations Used'])\n",
    "for key, value in dftest[4].items():\n",
    "    dfoutput['Critical Values (%s)'%key] = value\n",
    "\n",
    "print('Results of Dickey-Fuller test: \\n')\n",
    "print(dfoutput)"
   ]
  },
  {
   "cell_type": "markdown",
   "metadata": {},
   "source": [
    "The p-value is at 0.00 which is less than 0.05 and the test statistic is less than the critical values, therefore we therefore  reject the null hypothesis and conclude that our data is now stationary."
   ]
  },
  {
   "cell_type": "markdown",
   "metadata": {},
   "source": [
    "Before creating our model we will plot the Autocorrelation and Partial Autocorrelation Graphs to decide on the order of the baseline ARIMA model"
   ]
  },
  {
   "cell_type": "markdown",
   "metadata": {},
   "source": [
    "#### Autocorrelation Graph"
   ]
  },
  {
   "cell_type": "code",
   "execution_count": 42,
   "metadata": {},
   "outputs": [
    {
     "data": {
      "image/png": "[encoded data removed]",
      "text/plain": [
       "<Figure size 1008x360 with 1 Axes>"
      ]
     },
     "execution_count": 42,
     "metadata": {},
     "output_type": "execute_result"
    },
    {
     "data": {
      "image/png": "[encoded data removed]",
      "text/plain": [
       "<Figure size 1008x360 with 1 Axes>"
      ]
     },
     "metadata": {
      "needs_background": "light"
     },
     "output_type": "display_data"
    }
   ],
   "source": [
    "# Plotting ACF\n",
    "rcParams['figure.figsize'] = 14, 5\n",
    "plot_acf(df_diff, lags=50)"
   ]
  },
  {
   "cell_type": "markdown",
   "metadata": {},
   "source": [
    "#### Partial Autocorrelation"
   ]
  },
  {
   "cell_type": "code",
   "execution_count": 43,
   "metadata": {},
   "outputs": [
    {
     "data": {
      "image/png": "[encoded data removed]",
      "text/plain": [
       "<Figure size 1008x360 with 1 Axes>"
      ]
     },
     "execution_count": 43,
     "metadata": {},
     "output_type": "execute_result"
    },
    {
     "data": {
      "image/png": "[encoded data removed]",
      "text/plain": [
       "<Figure size 1008x360 with 1 Axes>"
      ]
     },
     "metadata": {
      "needs_background": "light"
     },
     "output_type": "display_data"
    }
   ],
   "source": [
    "# Plotting PACF\n",
    "rcParams['figure.figsize'] = 14, 5\n",
    "plot_pacf(df_diff, lags=50)"
   ]
  },
  {
   "cell_type": "markdown",
   "metadata": {},
   "source": [
    "For better model evaluation we decide to split our data to have a train and test data"
   ]
  },
  {
   "cell_type": "code",
   "execution_count": 44,
   "metadata": {},
   "outputs": [
    {
     "name": "stdout",
     "output_type": "stream",
     "text": [
      "(197, 1)\n",
      "(66, 1)\n"
     ]
    }
   ],
   "source": [
    "#Data splitting at 75% of the data\n",
    "train_size = int(len(df_diff2) * 0.75) \n",
    "train, test = df_diff2.iloc[:train_size], df_diff2.iloc[train_size:]\n",
    "print(train.shape)\n",
    "print(test.shape)"
   ]
  },
  {
   "cell_type": "markdown",
   "metadata": {},
   "source": [
    "We also need to create a function that returns both the RMSE and the MAE of each model."
   ]
  },
  {
   "cell_type": "code",
   "execution_count": 45,
   "metadata": {},
   "outputs": [],
   "source": [
    "#Function to calculate rmse and mae\n",
    "def metrics(y_test, y_pred):\n",
    "    rmse = np.sqrt(mean_squared_error(y_test, y_pred))\n",
    "    mae = mean_absolute_error(y_test, y_pred)\n",
    "    print(f'RMSE: {rmse}\\nMAE: {mae}')"
   ]
  },
  {
   "cell_type": "markdown",
   "metadata": {},
   "source": [
    "With that, we can head over and create our first ARIMA model.\n",
    "\n",
    "### ARIMA model.\n",
    "\n",
    "Here, we will create an ARIMA model that will help predict the future real estate values in the United States.\n",
    "We will begin by creating a baseline ARIMA model. Based on the ACF and PACF plots, we will create an ARIMA(1, 1) model as our baseline."
   ]
  },
  {
   "cell_type": "code",
   "execution_count": 46,
   "metadata": {},
   "outputs": [
    {
     "data": {
      "text/html": [
       "<table class=\"simpletable\">\n",
       "<caption>SARIMAX Results</caption>\n",
       "<tr>\n",
       "  <th>Dep. Variable:</th>         <td>value</td>      <th>  No. Observations:  </th>    <td>197</td>   \n",
       "</tr>\n",
       "<tr>\n",
       "  <th>Model:</th>            <td>ARIMA(1, 0, 1)</td>  <th>  Log Likelihood     </th> <td>-1338.584</td>\n",
       "</tr>\n",
       "<tr>\n",
       "  <th>Date:</th>            <td>Thu, 18 Jan 2024</td> <th>  AIC                </th> <td>2685.168</td> \n",
       "</tr>\n",
       "<tr>\n",
       "  <th>Time:</th>                <td>19:42:33</td>     <th>  BIC                </th> <td>2698.301</td> \n",
       "</tr>\n",
       "<tr>\n",
       "  <th>Sample:</th>             <td>06-01-1996</td>    <th>  HQIC               </th> <td>2690.485</td> \n",
       "</tr>\n",
       "<tr>\n",
       "  <th></th>                   <td>- 10-01-2012</td>   <th>                     </th>     <td> </td>    \n",
       "</tr>\n",
       "<tr>\n",
       "  <th>Covariance Type:</th>        <td>opg</td>       <th>                     </th>     <td> </td>    \n",
       "</tr>\n",
       "</table>\n",
       "<table class=\"simpletable\">\n",
       "<tr>\n",
       "     <td></td>       <th>coef</th>     <th>std err</th>      <th>z</th>      <th>P>|z|</th>  <th>[0.025</th>    <th>0.975]</th>  \n",
       "</tr>\n",
       "<tr>\n",
       "  <th>const</th>  <td>    0.8317</td> <td>    4.155</td> <td>    0.200</td> <td> 0.841</td> <td>   -7.313</td> <td>    8.976</td>\n",
       "</tr>\n",
       "<tr>\n",
       "  <th>ar.L1</th>  <td>    0.2822</td> <td>    0.054</td> <td>    5.207</td> <td> 0.000</td> <td>    0.176</td> <td>    0.388</td>\n",
       "</tr>\n",
       "<tr>\n",
       "  <th>ma.L1</th>  <td>   -0.8500</td> <td>    0.051</td> <td>  -16.590</td> <td> 0.000</td> <td>   -0.950</td> <td>   -0.750</td>\n",
       "</tr>\n",
       "<tr>\n",
       "  <th>sigma2</th> <td> 4.652e+04</td> <td> 1971.895</td> <td>   23.592</td> <td> 0.000</td> <td> 4.27e+04</td> <td> 5.04e+04</td>\n",
       "</tr>\n",
       "</table>\n",
       "<table class=\"simpletable\">\n",
       "<tr>\n",
       "  <th>Ljung-Box (L1) (Q):</th>     <td>0.09</td>  <th>  Jarque-Bera (JB):  </th> <td>12051.49</td>\n",
       "</tr>\n",
       "<tr>\n",
       "  <th>Prob(Q):</th>                <td>0.76</td>  <th>  Prob(JB):          </th>   <td>0.00</td>  \n",
       "</tr>\n",
       "<tr>\n",
       "  <th>Heteroskedasticity (H):</th> <td>53.14</td> <th>  Skew:              </th>   <td>-3.33</td> \n",
       "</tr>\n",
       "<tr>\n",
       "  <th>Prob(H) (two-sided):</th>    <td>0.00</td>  <th>  Kurtosis:          </th>   <td>40.74</td> \n",
       "</tr>\n",
       "</table><br/><br/>Warnings:<br/>[1] Covariance matrix calculated using the outer product of gradients (complex-step)."
      ],
      "text/plain": [
       "<class 'statsmodels.iolib.summary.Summary'>\n",
       "\"\"\"\n",
       "                               SARIMAX Results                                \n",
       "==============================================================================\n",
       "Dep. Variable:                  value   No. Observations:                  197\n",
       "Model:                 ARIMA(1, 0, 1)   Log Likelihood               -1338.584\n",
       "Date:                Thu, 18 Jan 2024   AIC                           2685.168\n",
       "Time:                        19:42:33   BIC                           2698.301\n",
       "Sample:                    06-01-1996   HQIC                          2690.485\n",
       "                         - 10-01-2012                                         \n",
       "Covariance Type:                  opg                                         \n",
       "==============================================================================\n",
       "                 coef    std err          z      P>|z|      [0.025      0.975]\n",
       "------------------------------------------------------------------------------\n",
       "const          0.8317      4.155      0.200      0.841      -7.313       8.976\n",
       "ar.L1          0.2822      0.054      5.207      0.000       0.176       0.388\n",
       "ma.L1         -0.8500      0.051    -16.590      0.000      -0.950      -0.750\n",
       "sigma2      4.652e+04   1971.895     23.592      0.000    4.27e+04    5.04e+04\n",
       "===================================================================================\n",
       "Ljung-Box (L1) (Q):                   0.09   Jarque-Bera (JB):             12051.49\n",
       "Prob(Q):                              0.76   Prob(JB):                         0.00\n",
       "Heteroskedasticity (H):              53.14   Skew:                            -3.33\n",
       "Prob(H) (two-sided):                  0.00   Kurtosis:                        40.74\n",
       "===================================================================================\n",
       "\n",
       "Warnings:\n",
       "[1] Covariance matrix calculated using the outer product of gradients (complex-step).\n",
       "\"\"\""
      ]
     },
     "execution_count": 46,
     "metadata": {},
     "output_type": "execute_result"
    }
   ],
   "source": [
    "#The baseline model\n",
    "baseline_model = ARIMA(train, order=(1, 0, 1))\n",
    "res_arima = baseline_model.fit()\n",
    "y_hat_baseline = res_arima.predict(start=len(train), end=len(train) + len(test) - 1, typ='levels')\n",
    "res_arima.summary()"
   ]
  },
  {
   "cell_type": "code",
   "execution_count": 47,
   "metadata": {},
   "outputs": [
    {
     "name": "stdout",
     "output_type": "stream",
     "text": [
      "RMSE: 121.93960884960259\n",
      "MAE: 85.96509662722474\n"
     ]
    }
   ],
   "source": [
    "# Checking the metrics of the model.\n",
    "metrics(test, y_hat_baseline)"
   ]
  },
  {
   "cell_type": "markdown",
   "metadata": {},
   "source": [
    "From the baseline model we have an RMSE of 121.94 and a Mean Absolute Error of 85.97, which is not a bad score but to try and improve it we tried a different model. We will go ahead and create an ARIMA(1, 3) model."
   ]
  },
  {
   "cell_type": "code",
   "execution_count": 48,
   "metadata": {},
   "outputs": [
    {
     "data": {
      "text/html": [
       "<table class=\"simpletable\">\n",
       "<caption>SARIMAX Results</caption>\n",
       "<tr>\n",
       "  <th>Dep. Variable:</th>         <td>value</td>      <th>  No. Observations:  </th>    <td>197</td>   \n",
       "</tr>\n",
       "<tr>\n",
       "  <th>Model:</th>            <td>ARIMA(1, 0, 3)</td>  <th>  Log Likelihood     </th> <td>-1336.951</td>\n",
       "</tr>\n",
       "<tr>\n",
       "  <th>Date:</th>            <td>Thu, 18 Jan 2024</td> <th>  AIC                </th> <td>2685.903</td> \n",
       "</tr>\n",
       "<tr>\n",
       "  <th>Time:</th>                <td>19:42:33</td>     <th>  BIC                </th> <td>2705.602</td> \n",
       "</tr>\n",
       "<tr>\n",
       "  <th>Sample:</th>             <td>06-01-1996</td>    <th>  HQIC               </th> <td>2693.877</td> \n",
       "</tr>\n",
       "<tr>\n",
       "  <th></th>                   <td>- 10-01-2012</td>   <th>                     </th>     <td> </td>    \n",
       "</tr>\n",
       "<tr>\n",
       "  <th>Covariance Type:</th>        <td>opg</td>       <th>                     </th>     <td> </td>    \n",
       "</tr>\n",
       "</table>\n",
       "<table class=\"simpletable\">\n",
       "<tr>\n",
       "     <td></td>       <th>coef</th>     <th>std err</th>      <th>z</th>      <th>P>|z|</th>  <th>[0.025</th>    <th>0.975]</th>  \n",
       "</tr>\n",
       "<tr>\n",
       "  <th>const</th>  <td>    0.8388</td> <td>    4.301</td> <td>    0.195</td> <td> 0.845</td> <td>   -7.591</td> <td>    9.268</td>\n",
       "</tr>\n",
       "<tr>\n",
       "  <th>ar.L1</th>  <td>   -0.4405</td> <td>    0.322</td> <td>   -1.370</td> <td> 0.171</td> <td>   -1.071</td> <td>    0.190</td>\n",
       "</tr>\n",
       "<tr>\n",
       "  <th>ma.L1</th>  <td>   -0.1341</td> <td>    0.321</td> <td>   -0.418</td> <td> 0.676</td> <td>   -0.763</td> <td>    0.495</td>\n",
       "</tr>\n",
       "<tr>\n",
       "  <th>ma.L2</th>  <td>   -0.3383</td> <td>    0.203</td> <td>   -1.663</td> <td> 0.096</td> <td>   -0.737</td> <td>    0.060</td>\n",
       "</tr>\n",
       "<tr>\n",
       "  <th>ma.L3</th>  <td>   -0.2199</td> <td>    0.083</td> <td>   -2.641</td> <td> 0.008</td> <td>   -0.383</td> <td>   -0.057</td>\n",
       "</tr>\n",
       "<tr>\n",
       "  <th>sigma2</th> <td> 4.576e+04</td> <td> 1922.149</td> <td>   23.806</td> <td> 0.000</td> <td>  4.2e+04</td> <td> 4.95e+04</td>\n",
       "</tr>\n",
       "</table>\n",
       "<table class=\"simpletable\">\n",
       "<tr>\n",
       "  <th>Ljung-Box (L1) (Q):</th>     <td>0.00</td>  <th>  Jarque-Bera (JB):  </th> <td>12809.16</td>\n",
       "</tr>\n",
       "<tr>\n",
       "  <th>Prob(Q):</th>                <td>0.99</td>  <th>  Prob(JB):          </th>   <td>0.00</td>  \n",
       "</tr>\n",
       "<tr>\n",
       "  <th>Heteroskedasticity (H):</th> <td>52.37</td> <th>  Skew:              </th>   <td>-3.38</td> \n",
       "</tr>\n",
       "<tr>\n",
       "  <th>Prob(H) (two-sided):</th>    <td>0.00</td>  <th>  Kurtosis:          </th>   <td>41.92</td> \n",
       "</tr>\n",
       "</table><br/><br/>Warnings:<br/>[1] Covariance matrix calculated using the outer product of gradients (complex-step)."
      ],
      "text/plain": [
       "<class 'statsmodels.iolib.summary.Summary'>\n",
       "\"\"\"\n",
       "                               SARIMAX Results                                \n",
       "==============================================================================\n",
       "Dep. Variable:                  value   No. Observations:                  197\n",
       "Model:                 ARIMA(1, 0, 3)   Log Likelihood               -1336.951\n",
       "Date:                Thu, 18 Jan 2024   AIC                           2685.903\n",
       "Time:                        19:42:33   BIC                           2705.602\n",
       "Sample:                    06-01-1996   HQIC                          2693.877\n",
       "                         - 10-01-2012                                         \n",
       "Covariance Type:                  opg                                         \n",
       "==============================================================================\n",
       "                 coef    std err          z      P>|z|      [0.025      0.975]\n",
       "------------------------------------------------------------------------------\n",
       "const          0.8388      4.301      0.195      0.845      -7.591       9.268\n",
       "ar.L1         -0.4405      0.322     -1.370      0.171      -1.071       0.190\n",
       "ma.L1         -0.1341      0.321     -0.418      0.676      -0.763       0.495\n",
       "ma.L2         -0.3383      0.203     -1.663      0.096      -0.737       0.060\n",
       "ma.L3         -0.2199      0.083     -2.641      0.008      -0.383      -0.057\n",
       "sigma2      4.576e+04   1922.149     23.806      0.000     4.2e+04    4.95e+04\n",
       "===================================================================================\n",
       "Ljung-Box (L1) (Q):                   0.00   Jarque-Bera (JB):             12809.16\n",
       "Prob(Q):                              0.99   Prob(JB):                         0.00\n",
       "Heteroskedasticity (H):              52.37   Skew:                            -3.38\n",
       "Prob(H) (two-sided):                  0.00   Kurtosis:                        41.92\n",
       "===================================================================================\n",
       "\n",
       "Warnings:\n",
       "[1] Covariance matrix calculated using the outer product of gradients (complex-step).\n",
       "\"\"\""
      ]
     },
     "execution_count": 48,
     "metadata": {},
     "output_type": "execute_result"
    }
   ],
   "source": [
    "# Second ARIMA model\n",
    "model2 = ARIMA(train, order=(1, 0, 3))\n",
    "res_arima2 = model2.fit()\n",
    "y_hat_2 = res_arima2.predict(start=len(train), end=len(train) + len(test) - 1, typ='levels')\n",
    "res_arima2.summary()"
   ]
  },
  {
   "cell_type": "code",
   "execution_count": 49,
   "metadata": {},
   "outputs": [
    {
     "name": "stdout",
     "output_type": "stream",
     "text": [
      "RMSE: 122.23406138999219\n",
      "MAE: 86.27366459034191\n"
     ]
    }
   ],
   "source": [
    "# Checking the metrics\n",
    "metrics(test, y_hat_2)"
   ]
  },
  {
   "cell_type": "markdown",
   "metadata": {},
   "source": [
    "The second ARIMA model has an RMSE of 122.23 and MAE of 86.27 which is slightly worse than the baseline model. We will then try an ARIMA(3,1) model to see if our model improves."
   ]
  },
  {
   "cell_type": "code",
   "execution_count": 50,
   "metadata": {},
   "outputs": [
    {
     "data": {
      "text/html": [
       "<table class=\"simpletable\">\n",
       "<caption>SARIMAX Results</caption>\n",
       "<tr>\n",
       "  <th>Dep. Variable:</th>         <td>value</td>      <th>  No. Observations:  </th>    <td>197</td>   \n",
       "</tr>\n",
       "<tr>\n",
       "  <th>Model:</th>            <td>ARIMA(3, 0, 1)</td>  <th>  Log Likelihood     </th> <td>-1337.345</td>\n",
       "</tr>\n",
       "<tr>\n",
       "  <th>Date:</th>            <td>Thu, 18 Jan 2024</td> <th>  AIC                </th> <td>2686.691</td> \n",
       "</tr>\n",
       "<tr>\n",
       "  <th>Time:</th>                <td>19:42:34</td>     <th>  BIC                </th> <td>2706.390</td> \n",
       "</tr>\n",
       "<tr>\n",
       "  <th>Sample:</th>             <td>06-01-1996</td>    <th>  HQIC               </th> <td>2694.665</td> \n",
       "</tr>\n",
       "<tr>\n",
       "  <th></th>                   <td>- 10-01-2012</td>   <th>                     </th>     <td> </td>    \n",
       "</tr>\n",
       "<tr>\n",
       "  <th>Covariance Type:</th>        <td>opg</td>       <th>                     </th>     <td> </td>    \n",
       "</tr>\n",
       "</table>\n",
       "<table class=\"simpletable\">\n",
       "<tr>\n",
       "     <td></td>       <th>coef</th>     <th>std err</th>      <th>z</th>      <th>P>|z|</th>  <th>[0.025</th>    <th>0.975]</th>  \n",
       "</tr>\n",
       "<tr>\n",
       "  <th>const</th>  <td>    0.8479</td> <td>    4.343</td> <td>    0.195</td> <td> 0.845</td> <td>   -7.665</td> <td>    9.361</td>\n",
       "</tr>\n",
       "<tr>\n",
       "  <th>ar.L1</th>  <td>    0.2600</td> <td>    0.065</td> <td>    4.009</td> <td> 0.000</td> <td>    0.133</td> <td>    0.387</td>\n",
       "</tr>\n",
       "<tr>\n",
       "  <th>ar.L2</th>  <td>    0.0837</td> <td>    0.061</td> <td>    1.371</td> <td> 0.170</td> <td>   -0.036</td> <td>    0.204</td>\n",
       "</tr>\n",
       "<tr>\n",
       "  <th>ar.L3</th>  <td>   -0.0945</td> <td>    0.093</td> <td>   -1.021</td> <td> 0.307</td> <td>   -0.276</td> <td>    0.087</td>\n",
       "</tr>\n",
       "<tr>\n",
       "  <th>ma.L1</th>  <td>   -0.8402</td> <td>    0.066</td> <td>  -12.810</td> <td> 0.000</td> <td>   -0.969</td> <td>   -0.712</td>\n",
       "</tr>\n",
       "<tr>\n",
       "  <th>sigma2</th> <td> 4.594e+04</td> <td> 2026.259</td> <td>   22.670</td> <td> 0.000</td> <td>  4.2e+04</td> <td> 4.99e+04</td>\n",
       "</tr>\n",
       "</table>\n",
       "<table class=\"simpletable\">\n",
       "<tr>\n",
       "  <th>Ljung-Box (L1) (Q):</th>     <td>0.00</td>  <th>  Jarque-Bera (JB):  </th> <td>12252.36</td>\n",
       "</tr>\n",
       "<tr>\n",
       "  <th>Prob(Q):</th>                <td>0.98</td>  <th>  Prob(JB):          </th>   <td>0.00</td>  \n",
       "</tr>\n",
       "<tr>\n",
       "  <th>Heteroskedasticity (H):</th> <td>53.60</td> <th>  Skew:              </th>   <td>-3.33</td> \n",
       "</tr>\n",
       "<tr>\n",
       "  <th>Prob(H) (two-sided):</th>    <td>0.00</td>  <th>  Kurtosis:          </th>   <td>41.06</td> \n",
       "</tr>\n",
       "</table><br/><br/>Warnings:<br/>[1] Covariance matrix calculated using the outer product of gradients (complex-step)."
      ],
      "text/plain": [
       "<class 'statsmodels.iolib.summary.Summary'>\n",
       "\"\"\"\n",
       "                               SARIMAX Results                                \n",
       "==============================================================================\n",
       "Dep. Variable:                  value   No. Observations:                  197\n",
       "Model:                 ARIMA(3, 0, 1)   Log Likelihood               -1337.345\n",
       "Date:                Thu, 18 Jan 2024   AIC                           2686.691\n",
       "Time:                        19:42:34   BIC                           2706.390\n",
       "Sample:                    06-01-1996   HQIC                          2694.665\n",
       "                         - 10-01-2012                                         \n",
       "Covariance Type:                  opg                                         \n",
       "==============================================================================\n",
       "                 coef    std err          z      P>|z|      [0.025      0.975]\n",
       "------------------------------------------------------------------------------\n",
       "const          0.8479      4.343      0.195      0.845      -7.665       9.361\n",
       "ar.L1          0.2600      0.065      4.009      0.000       0.133       0.387\n",
       "ar.L2          0.0837      0.061      1.371      0.170      -0.036       0.204\n",
       "ar.L3         -0.0945      0.093     -1.021      0.307      -0.276       0.087\n",
       "ma.L1         -0.8402      0.066    -12.810      0.000      -0.969      -0.712\n",
       "sigma2      4.594e+04   2026.259     22.670      0.000     4.2e+04    4.99e+04\n",
       "===================================================================================\n",
       "Ljung-Box (L1) (Q):                   0.00   Jarque-Bera (JB):             12252.36\n",
       "Prob(Q):                              0.98   Prob(JB):                         0.00\n",
       "Heteroskedasticity (H):              53.60   Skew:                            -3.33\n",
       "Prob(H) (two-sided):                  0.00   Kurtosis:                        41.06\n",
       "===================================================================================\n",
       "\n",
       "Warnings:\n",
       "[1] Covariance matrix calculated using the outer product of gradients (complex-step).\n",
       "\"\"\""
      ]
     },
     "execution_count": 50,
     "metadata": {},
     "output_type": "execute_result"
    }
   ],
   "source": [
    "# Third ARIMA model\n",
    "model3 = ARIMA(train, order=(3, 0, 1))\n",
    "res_arima3 = model3.fit()\n",
    "y_hat_3 = res_arima3.predict(start=len(train), end=len(train) + len(test) - 1, typ='levels')\n",
    "res_arima3.summary()"
   ]
  },
  {
   "cell_type": "code",
   "execution_count": 51,
   "metadata": {},
   "outputs": [
    {
     "name": "stdout",
     "output_type": "stream",
     "text": [
      "RMSE: 122.23565789617079\n",
      "MAE: 86.18206324231355\n"
     ]
    }
   ],
   "source": [
    "# Checking the metrics\n",
    "metrics(test, y_hat_3)"
   ]
  },
  {
   "cell_type": "markdown",
   "metadata": {},
   "source": [
    "The third model, ARIMA(3,0,1) has an RMSE of 122.24 and MAE of 86.18 which is almost similar to the second model. We will now create a for loop that iterates over different (p, d, q) combinations and determine the best one based off RMSE performance."
   ]
  },
  {
   "cell_type": "code",
   "execution_count": 52,
   "metadata": {},
   "outputs": [
    {
     "name": "stderr",
     "output_type": "stream",
     "text": [
      "C:\\Users\\Crystal\\anaconda3\\envs\\learn-env\\lib\\site-packages\\statsmodels\\base\\model.py:566: ConvergenceWarning: Maximum Likelihood optimization failed to converge. Check mle_retvals\n",
      "  warnings.warn(\"Maximum Likelihood optimization failed to \"\n",
      "C:\\Users\\Crystal\\anaconda3\\envs\\learn-env\\lib\\site-packages\\statsmodels\\base\\model.py:566: ConvergenceWarning: Maximum Likelihood optimization failed to converge. Check mle_retvals\n",
      "  warnings.warn(\"Maximum Likelihood optimization failed to \"\n",
      "C:\\Users\\Crystal\\anaconda3\\envs\\learn-env\\lib\\site-packages\\statsmodels\\base\\model.py:566: ConvergenceWarning: Maximum Likelihood optimization failed to converge. Check mle_retvals\n",
      "  warnings.warn(\"Maximum Likelihood optimization failed to \"\n",
      "C:\\Users\\Crystal\\anaconda3\\envs\\learn-env\\lib\\site-packages\\statsmodels\\base\\model.py:566: ConvergenceWarning: Maximum Likelihood optimization failed to converge. Check mle_retvals\n",
      "  warnings.warn(\"Maximum Likelihood optimization failed to \"\n",
      "C:\\Users\\Crystal\\anaconda3\\envs\\learn-env\\lib\\site-packages\\statsmodels\\base\\model.py:566: ConvergenceWarning: Maximum Likelihood optimization failed to converge. Check mle_retvals\n",
      "  warnings.warn(\"Maximum Likelihood optimization failed to \"\n",
      "C:\\Users\\Crystal\\anaconda3\\envs\\learn-env\\lib\\site-packages\\statsmodels\\base\\model.py:566: ConvergenceWarning: Maximum Likelihood optimization failed to converge. Check mle_retvals\n",
      "  warnings.warn(\"Maximum Likelihood optimization failed to \"\n",
      "C:\\Users\\Crystal\\anaconda3\\envs\\learn-env\\lib\\site-packages\\statsmodels\\base\\model.py:566: ConvergenceWarning: Maximum Likelihood optimization failed to converge. Check mle_retvals\n",
      "  warnings.warn(\"Maximum Likelihood optimization failed to \"\n",
      "C:\\Users\\Crystal\\anaconda3\\envs\\learn-env\\lib\\site-packages\\statsmodels\\base\\model.py:566: ConvergenceWarning: Maximum Likelihood optimization failed to converge. Check mle_retvals\n",
      "  warnings.warn(\"Maximum Likelihood optimization failed to \"\n",
      "C:\\Users\\Crystal\\anaconda3\\envs\\learn-env\\lib\\site-packages\\statsmodels\\base\\model.py:566: ConvergenceWarning: Maximum Likelihood optimization failed to converge. Check mle_retvals\n",
      "  warnings.warn(\"Maximum Likelihood optimization failed to \"\n",
      "C:\\Users\\Crystal\\anaconda3\\envs\\learn-env\\lib\\site-packages\\statsmodels\\base\\model.py:566: ConvergenceWarning: Maximum Likelihood optimization failed to converge. Check mle_retvals\n",
      "  warnings.warn(\"Maximum Likelihood optimization failed to \"\n",
      "C:\\Users\\Crystal\\anaconda3\\envs\\learn-env\\lib\\site-packages\\statsmodels\\base\\model.py:566: ConvergenceWarning: Maximum Likelihood optimization failed to converge. Check mle_retvals\n",
      "  warnings.warn(\"Maximum Likelihood optimization failed to \"\n",
      "C:\\Users\\Crystal\\anaconda3\\envs\\learn-env\\lib\\site-packages\\statsmodels\\base\\model.py:566: ConvergenceWarning: Maximum Likelihood optimization failed to converge. Check mle_retvals\n",
      "  warnings.warn(\"Maximum Likelihood optimization failed to \"\n",
      "C:\\Users\\Crystal\\anaconda3\\envs\\learn-env\\lib\\site-packages\\statsmodels\\base\\model.py:566: ConvergenceWarning: Maximum Likelihood optimization failed to converge. Check mle_retvals\n",
      "  warnings.warn(\"Maximum Likelihood optimization failed to \"\n",
      "C:\\Users\\Crystal\\anaconda3\\envs\\learn-env\\lib\\site-packages\\statsmodels\\base\\model.py:566: ConvergenceWarning: Maximum Likelihood optimization failed to converge. Check mle_retvals\n",
      "  warnings.warn(\"Maximum Likelihood optimization failed to \"\n",
      "C:\\Users\\Crystal\\anaconda3\\envs\\learn-env\\lib\\site-packages\\statsmodels\\base\\model.py:566: ConvergenceWarning: Maximum Likelihood optimization failed to converge. Check mle_retvals\n",
      "  warnings.warn(\"Maximum Likelihood optimization failed to \"\n",
      "C:\\Users\\Crystal\\anaconda3\\envs\\learn-env\\lib\\site-packages\\statsmodels\\base\\model.py:566: ConvergenceWarning: Maximum Likelihood optimization failed to converge. Check mle_retvals\n",
      "  warnings.warn(\"Maximum Likelihood optimization failed to \"\n",
      "C:\\Users\\Crystal\\anaconda3\\envs\\learn-env\\lib\\site-packages\\statsmodels\\base\\model.py:566: ConvergenceWarning: Maximum Likelihood optimization failed to converge. Check mle_retvals\n",
      "  warnings.warn(\"Maximum Likelihood optimization failed to \"\n",
      "C:\\Users\\Crystal\\anaconda3\\envs\\learn-env\\lib\\site-packages\\statsmodels\\base\\model.py:566: ConvergenceWarning: Maximum Likelihood optimization failed to converge. Check mle_retvals\n",
      "  warnings.warn(\"Maximum Likelihood optimization failed to \"\n",
      "C:\\Users\\Crystal\\anaconda3\\envs\\learn-env\\lib\\site-packages\\statsmodels\\base\\model.py:566: ConvergenceWarning: Maximum Likelihood optimization failed to converge. Check mle_retvals\n",
      "  warnings.warn(\"Maximum Likelihood optimization failed to \"\n",
      "C:\\Users\\Crystal\\anaconda3\\envs\\learn-env\\lib\\site-packages\\statsmodels\\base\\model.py:566: ConvergenceWarning: Maximum Likelihood optimization failed to converge. Check mle_retvals\n",
      "  warnings.warn(\"Maximum Likelihood optimization failed to \"\n",
      "C:\\Users\\Crystal\\anaconda3\\envs\\learn-env\\lib\\site-packages\\statsmodels\\base\\model.py:566: ConvergenceWarning: Maximum Likelihood optimization failed to converge. Check mle_retvals\n",
      "  warnings.warn(\"Maximum Likelihood optimization failed to \"\n",
      "C:\\Users\\Crystal\\anaconda3\\envs\\learn-env\\lib\\site-packages\\statsmodels\\base\\model.py:566: ConvergenceWarning: Maximum Likelihood optimization failed to converge. Check mle_retvals\n",
      "  warnings.warn(\"Maximum Likelihood optimization failed to \"\n",
      "C:\\Users\\Crystal\\anaconda3\\envs\\learn-env\\lib\\site-packages\\statsmodels\\base\\model.py:566: ConvergenceWarning: Maximum Likelihood optimization failed to converge. Check mle_retvals\n",
      "  warnings.warn(\"Maximum Likelihood optimization failed to \"\n",
      "C:\\Users\\Crystal\\anaconda3\\envs\\learn-env\\lib\\site-packages\\statsmodels\\base\\model.py:566: ConvergenceWarning: Maximum Likelihood optimization failed to converge. Check mle_retvals\n",
      "  warnings.warn(\"Maximum Likelihood optimization failed to \"\n",
      "C:\\Users\\Crystal\\anaconda3\\envs\\learn-env\\lib\\site-packages\\statsmodels\\base\\model.py:566: ConvergenceWarning: Maximum Likelihood optimization failed to converge. Check mle_retvals\n",
      "  warnings.warn(\"Maximum Likelihood optimization failed to \"\n",
      "C:\\Users\\Crystal\\anaconda3\\envs\\learn-env\\lib\\site-packages\\statsmodels\\base\\model.py:566: ConvergenceWarning: Maximum Likelihood optimization failed to converge. Check mle_retvals\n",
      "  warnings.warn(\"Maximum Likelihood optimization failed to \"\n",
      "C:\\Users\\Crystal\\anaconda3\\envs\\learn-env\\lib\\site-packages\\statsmodels\\base\\model.py:566: ConvergenceWarning: Maximum Likelihood optimization failed to converge. Check mle_retvals\n",
      "  warnings.warn(\"Maximum Likelihood optimization failed to \"\n",
      "C:\\Users\\Crystal\\anaconda3\\envs\\learn-env\\lib\\site-packages\\statsmodels\\base\\model.py:566: ConvergenceWarning: Maximum Likelihood optimization failed to converge. Check mle_retvals\n",
      "  warnings.warn(\"Maximum Likelihood optimization failed to \"\n",
      "C:\\Users\\Crystal\\anaconda3\\envs\\learn-env\\lib\\site-packages\\statsmodels\\base\\model.py:566: ConvergenceWarning: Maximum Likelihood optimization failed to converge. Check mle_retvals\n",
      "  warnings.warn(\"Maximum Likelihood optimization failed to \"\n",
      "C:\\Users\\Crystal\\anaconda3\\envs\\learn-env\\lib\\site-packages\\statsmodels\\base\\model.py:566: ConvergenceWarning: Maximum Likelihood optimization failed to converge. Check mle_retvals\n",
      "  warnings.warn(\"Maximum Likelihood optimization failed to \"\n",
      "C:\\Users\\Crystal\\anaconda3\\envs\\learn-env\\lib\\site-packages\\statsmodels\\base\\model.py:566: ConvergenceWarning: Maximum Likelihood optimization failed to converge. Check mle_retvals\n",
      "  warnings.warn(\"Maximum Likelihood optimization failed to \"\n",
      "C:\\Users\\Crystal\\anaconda3\\envs\\learn-env\\lib\\site-packages\\statsmodels\\base\\model.py:566: ConvergenceWarning: Maximum Likelihood optimization failed to converge. Check mle_retvals\n",
      "  warnings.warn(\"Maximum Likelihood optimization failed to \"\n",
      "C:\\Users\\Crystal\\anaconda3\\envs\\learn-env\\lib\\site-packages\\statsmodels\\base\\model.py:566: ConvergenceWarning: Maximum Likelihood optimization failed to converge. Check mle_retvals\n",
      "  warnings.warn(\"Maximum Likelihood optimization failed to \"\n",
      "C:\\Users\\Crystal\\anaconda3\\envs\\learn-env\\lib\\site-packages\\statsmodels\\base\\model.py:566: ConvergenceWarning: Maximum Likelihood optimization failed to converge. Check mle_retvals\n",
      "  warnings.warn(\"Maximum Likelihood optimization failed to \"\n"
     ]
    },
    {
     "name": "stderr",
     "output_type": "stream",
     "text": [
      "C:\\Users\\Crystal\\anaconda3\\envs\\learn-env\\lib\\site-packages\\statsmodels\\base\\model.py:566: ConvergenceWarning: Maximum Likelihood optimization failed to converge. Check mle_retvals\n",
      "  warnings.warn(\"Maximum Likelihood optimization failed to \"\n",
      "C:\\Users\\Crystal\\anaconda3\\envs\\learn-env\\lib\\site-packages\\statsmodels\\base\\model.py:566: ConvergenceWarning: Maximum Likelihood optimization failed to converge. Check mle_retvals\n",
      "  warnings.warn(\"Maximum Likelihood optimization failed to \"\n",
      "C:\\Users\\Crystal\\anaconda3\\envs\\learn-env\\lib\\site-packages\\statsmodels\\base\\model.py:566: ConvergenceWarning: Maximum Likelihood optimization failed to converge. Check mle_retvals\n",
      "  warnings.warn(\"Maximum Likelihood optimization failed to \"\n",
      "C:\\Users\\Crystal\\anaconda3\\envs\\learn-env\\lib\\site-packages\\statsmodels\\base\\model.py:566: ConvergenceWarning: Maximum Likelihood optimization failed to converge. Check mle_retvals\n",
      "  warnings.warn(\"Maximum Likelihood optimization failed to \"\n",
      "C:\\Users\\Crystal\\anaconda3\\envs\\learn-env\\lib\\site-packages\\statsmodels\\base\\model.py:566: ConvergenceWarning: Maximum Likelihood optimization failed to converge. Check mle_retvals\n",
      "  warnings.warn(\"Maximum Likelihood optimization failed to \"\n",
      "C:\\Users\\Crystal\\anaconda3\\envs\\learn-env\\lib\\site-packages\\statsmodels\\base\\model.py:566: ConvergenceWarning: Maximum Likelihood optimization failed to converge. Check mle_retvals\n",
      "  warnings.warn(\"Maximum Likelihood optimization failed to \"\n",
      "C:\\Users\\Crystal\\anaconda3\\envs\\learn-env\\lib\\site-packages\\statsmodels\\base\\model.py:566: ConvergenceWarning: Maximum Likelihood optimization failed to converge. Check mle_retvals\n",
      "  warnings.warn(\"Maximum Likelihood optimization failed to \"\n",
      "C:\\Users\\Crystal\\anaconda3\\envs\\learn-env\\lib\\site-packages\\statsmodels\\base\\model.py:566: ConvergenceWarning: Maximum Likelihood optimization failed to converge. Check mle_retvals\n",
      "  warnings.warn(\"Maximum Likelihood optimization failed to \"\n",
      "C:\\Users\\Crystal\\anaconda3\\envs\\learn-env\\lib\\site-packages\\statsmodels\\base\\model.py:566: ConvergenceWarning: Maximum Likelihood optimization failed to converge. Check mle_retvals\n",
      "  warnings.warn(\"Maximum Likelihood optimization failed to \"\n",
      "C:\\Users\\Crystal\\anaconda3\\envs\\learn-env\\lib\\site-packages\\statsmodels\\base\\model.py:566: ConvergenceWarning: Maximum Likelihood optimization failed to converge. Check mle_retvals\n",
      "  warnings.warn(\"Maximum Likelihood optimization failed to \"\n",
      "C:\\Users\\Crystal\\anaconda3\\envs\\learn-env\\lib\\site-packages\\statsmodels\\base\\model.py:566: ConvergenceWarning: Maximum Likelihood optimization failed to converge. Check mle_retvals\n",
      "  warnings.warn(\"Maximum Likelihood optimization failed to \"\n",
      "C:\\Users\\Crystal\\anaconda3\\envs\\learn-env\\lib\\site-packages\\statsmodels\\base\\model.py:566: ConvergenceWarning: Maximum Likelihood optimization failed to converge. Check mle_retvals\n",
      "  warnings.warn(\"Maximum Likelihood optimization failed to \"\n",
      "C:\\Users\\Crystal\\anaconda3\\envs\\learn-env\\lib\\site-packages\\statsmodels\\base\\model.py:566: ConvergenceWarning: Maximum Likelihood optimization failed to converge. Check mle_retvals\n",
      "  warnings.warn(\"Maximum Likelihood optimization failed to \"\n",
      "C:\\Users\\Crystal\\anaconda3\\envs\\learn-env\\lib\\site-packages\\statsmodels\\base\\model.py:566: ConvergenceWarning: Maximum Likelihood optimization failed to converge. Check mle_retvals\n",
      "  warnings.warn(\"Maximum Likelihood optimization failed to \"\n",
      "C:\\Users\\Crystal\\anaconda3\\envs\\learn-env\\lib\\site-packages\\statsmodels\\base\\model.py:566: ConvergenceWarning: Maximum Likelihood optimization failed to converge. Check mle_retvals\n",
      "  warnings.warn(\"Maximum Likelihood optimization failed to \"\n",
      "C:\\Users\\Crystal\\anaconda3\\envs\\learn-env\\lib\\site-packages\\statsmodels\\base\\model.py:566: ConvergenceWarning: Maximum Likelihood optimization failed to converge. Check mle_retvals\n",
      "  warnings.warn(\"Maximum Likelihood optimization failed to \"\n",
      "C:\\Users\\Crystal\\anaconda3\\envs\\learn-env\\lib\\site-packages\\statsmodels\\base\\model.py:566: ConvergenceWarning: Maximum Likelihood optimization failed to converge. Check mle_retvals\n",
      "  warnings.warn(\"Maximum Likelihood optimization failed to \"\n",
      "C:\\Users\\Crystal\\anaconda3\\envs\\learn-env\\lib\\site-packages\\statsmodels\\base\\model.py:566: ConvergenceWarning: Maximum Likelihood optimization failed to converge. Check mle_retvals\n",
      "  warnings.warn(\"Maximum Likelihood optimization failed to \"\n",
      "C:\\Users\\Crystal\\anaconda3\\envs\\learn-env\\lib\\site-packages\\statsmodels\\base\\model.py:566: ConvergenceWarning: Maximum Likelihood optimization failed to converge. Check mle_retvals\n",
      "  warnings.warn(\"Maximum Likelihood optimization failed to \"\n",
      "C:\\Users\\Crystal\\anaconda3\\envs\\learn-env\\lib\\site-packages\\statsmodels\\base\\model.py:566: ConvergenceWarning: Maximum Likelihood optimization failed to converge. Check mle_retvals\n",
      "  warnings.warn(\"Maximum Likelihood optimization failed to \"\n",
      "C:\\Users\\Crystal\\anaconda3\\envs\\learn-env\\lib\\site-packages\\statsmodels\\base\\model.py:566: ConvergenceWarning: Maximum Likelihood optimization failed to converge. Check mle_retvals\n",
      "  warnings.warn(\"Maximum Likelihood optimization failed to \"\n",
      "C:\\Users\\Crystal\\anaconda3\\envs\\learn-env\\lib\\site-packages\\statsmodels\\base\\model.py:566: ConvergenceWarning: Maximum Likelihood optimization failed to converge. Check mle_retvals\n",
      "  warnings.warn(\"Maximum Likelihood optimization failed to \"\n",
      "C:\\Users\\Crystal\\anaconda3\\envs\\learn-env\\lib\\site-packages\\statsmodels\\base\\model.py:566: ConvergenceWarning: Maximum Likelihood optimization failed to converge. Check mle_retvals\n",
      "  warnings.warn(\"Maximum Likelihood optimization failed to \"\n",
      "C:\\Users\\Crystal\\anaconda3\\envs\\learn-env\\lib\\site-packages\\statsmodels\\base\\model.py:566: ConvergenceWarning: Maximum Likelihood optimization failed to converge. Check mle_retvals\n",
      "  warnings.warn(\"Maximum Likelihood optimization failed to \"\n",
      "C:\\Users\\Crystal\\anaconda3\\envs\\learn-env\\lib\\site-packages\\statsmodels\\base\\model.py:566: ConvergenceWarning: Maximum Likelihood optimization failed to converge. Check mle_retvals\n",
      "  warnings.warn(\"Maximum Likelihood optimization failed to \"\n",
      "C:\\Users\\Crystal\\anaconda3\\envs\\learn-env\\lib\\site-packages\\statsmodels\\base\\model.py:566: ConvergenceWarning: Maximum Likelihood optimization failed to converge. Check mle_retvals\n",
      "  warnings.warn(\"Maximum Likelihood optimization failed to \"\n",
      "C:\\Users\\Crystal\\anaconda3\\envs\\learn-env\\lib\\site-packages\\statsmodels\\base\\model.py:566: ConvergenceWarning: Maximum Likelihood optimization failed to converge. Check mle_retvals\n",
      "  warnings.warn(\"Maximum Likelihood optimization failed to \"\n",
      "C:\\Users\\Crystal\\anaconda3\\envs\\learn-env\\lib\\site-packages\\statsmodels\\base\\model.py:566: ConvergenceWarning: Maximum Likelihood optimization failed to converge. Check mle_retvals\n",
      "  warnings.warn(\"Maximum Likelihood optimization failed to \"\n",
      "C:\\Users\\Crystal\\anaconda3\\envs\\learn-env\\lib\\site-packages\\statsmodels\\base\\model.py:566: ConvergenceWarning: Maximum Likelihood optimization failed to converge. Check mle_retvals\n",
      "  warnings.warn(\"Maximum Likelihood optimization failed to \"\n",
      "C:\\Users\\Crystal\\anaconda3\\envs\\learn-env\\lib\\site-packages\\statsmodels\\base\\model.py:566: ConvergenceWarning: Maximum Likelihood optimization failed to converge. Check mle_retvals\n",
      "  warnings.warn(\"Maximum Likelihood optimization failed to \"\n",
      "C:\\Users\\Crystal\\anaconda3\\envs\\learn-env\\lib\\site-packages\\statsmodels\\base\\model.py:566: ConvergenceWarning: Maximum Likelihood optimization failed to converge. Check mle_retvals\n",
      "  warnings.warn(\"Maximum Likelihood optimization failed to \"\n",
      "C:\\Users\\Crystal\\anaconda3\\envs\\learn-env\\lib\\site-packages\\statsmodels\\base\\model.py:566: ConvergenceWarning: Maximum Likelihood optimization failed to converge. Check mle_retvals\n",
      "  warnings.warn(\"Maximum Likelihood optimization failed to \"\n",
      "C:\\Users\\Crystal\\anaconda3\\envs\\learn-env\\lib\\site-packages\\statsmodels\\base\\model.py:566: ConvergenceWarning: Maximum Likelihood optimization failed to converge. Check mle_retvals\n",
      "  warnings.warn(\"Maximum Likelihood optimization failed to \"\n",
      "C:\\Users\\Crystal\\anaconda3\\envs\\learn-env\\lib\\site-packages\\statsmodels\\base\\model.py:566: ConvergenceWarning: Maximum Likelihood optimization failed to converge. Check mle_retvals\n",
      "  warnings.warn(\"Maximum Likelihood optimization failed to \"\n"
     ]
    },
    {
     "name": "stderr",
     "output_type": "stream",
     "text": [
      "C:\\Users\\Crystal\\anaconda3\\envs\\learn-env\\lib\\site-packages\\statsmodels\\base\\model.py:566: ConvergenceWarning: Maximum Likelihood optimization failed to converge. Check mle_retvals\n",
      "  warnings.warn(\"Maximum Likelihood optimization failed to \"\n",
      "C:\\Users\\Crystal\\anaconda3\\envs\\learn-env\\lib\\site-packages\\statsmodels\\base\\model.py:566: ConvergenceWarning: Maximum Likelihood optimization failed to converge. Check mle_retvals\n",
      "  warnings.warn(\"Maximum Likelihood optimization failed to \"\n",
      "C:\\Users\\Crystal\\anaconda3\\envs\\learn-env\\lib\\site-packages\\statsmodels\\base\\model.py:566: ConvergenceWarning: Maximum Likelihood optimization failed to converge. Check mle_retvals\n",
      "  warnings.warn(\"Maximum Likelihood optimization failed to \"\n",
      "C:\\Users\\Crystal\\anaconda3\\envs\\learn-env\\lib\\site-packages\\statsmodels\\base\\model.py:566: ConvergenceWarning: Maximum Likelihood optimization failed to converge. Check mle_retvals\n",
      "  warnings.warn(\"Maximum Likelihood optimization failed to \"\n",
      "C:\\Users\\Crystal\\anaconda3\\envs\\learn-env\\lib\\site-packages\\statsmodels\\base\\model.py:566: ConvergenceWarning: Maximum Likelihood optimization failed to converge. Check mle_retvals\n",
      "  warnings.warn(\"Maximum Likelihood optimization failed to \"\n",
      "C:\\Users\\Crystal\\anaconda3\\envs\\learn-env\\lib\\site-packages\\statsmodels\\base\\model.py:566: ConvergenceWarning: Maximum Likelihood optimization failed to converge. Check mle_retvals\n",
      "  warnings.warn(\"Maximum Likelihood optimization failed to \"\n",
      "C:\\Users\\Crystal\\anaconda3\\envs\\learn-env\\lib\\site-packages\\statsmodels\\base\\model.py:566: ConvergenceWarning: Maximum Likelihood optimization failed to converge. Check mle_retvals\n",
      "  warnings.warn(\"Maximum Likelihood optimization failed to \"\n",
      "C:\\Users\\Crystal\\anaconda3\\envs\\learn-env\\lib\\site-packages\\statsmodels\\base\\model.py:566: ConvergenceWarning: Maximum Likelihood optimization failed to converge. Check mle_retvals\n",
      "  warnings.warn(\"Maximum Likelihood optimization failed to \"\n",
      "C:\\Users\\Crystal\\anaconda3\\envs\\learn-env\\lib\\site-packages\\statsmodels\\base\\model.py:566: ConvergenceWarning: Maximum Likelihood optimization failed to converge. Check mle_retvals\n",
      "  warnings.warn(\"Maximum Likelihood optimization failed to \"\n",
      "C:\\Users\\Crystal\\anaconda3\\envs\\learn-env\\lib\\site-packages\\statsmodels\\base\\model.py:566: ConvergenceWarning: Maximum Likelihood optimization failed to converge. Check mle_retvals\n",
      "  warnings.warn(\"Maximum Likelihood optimization failed to \"\n",
      "C:\\Users\\Crystal\\anaconda3\\envs\\learn-env\\lib\\site-packages\\statsmodels\\base\\model.py:566: ConvergenceWarning: Maximum Likelihood optimization failed to converge. Check mle_retvals\n",
      "  warnings.warn(\"Maximum Likelihood optimization failed to \"\n",
      "C:\\Users\\Crystal\\anaconda3\\envs\\learn-env\\lib\\site-packages\\statsmodels\\base\\model.py:566: ConvergenceWarning: Maximum Likelihood optimization failed to converge. Check mle_retvals\n",
      "  warnings.warn(\"Maximum Likelihood optimization failed to \"\n",
      "C:\\Users\\Crystal\\anaconda3\\envs\\learn-env\\lib\\site-packages\\statsmodels\\base\\model.py:566: ConvergenceWarning: Maximum Likelihood optimization failed to converge. Check mle_retvals\n",
      "  warnings.warn(\"Maximum Likelihood optimization failed to \"\n",
      "C:\\Users\\Crystal\\anaconda3\\envs\\learn-env\\lib\\site-packages\\statsmodels\\base\\model.py:566: ConvergenceWarning: Maximum Likelihood optimization failed to converge. Check mle_retvals\n",
      "  warnings.warn(\"Maximum Likelihood optimization failed to \"\n",
      "C:\\Users\\Crystal\\anaconda3\\envs\\learn-env\\lib\\site-packages\\statsmodels\\base\\model.py:566: ConvergenceWarning: Maximum Likelihood optimization failed to converge. Check mle_retvals\n",
      "  warnings.warn(\"Maximum Likelihood optimization failed to \"\n",
      "C:\\Users\\Crystal\\anaconda3\\envs\\learn-env\\lib\\site-packages\\statsmodels\\base\\model.py:566: ConvergenceWarning: Maximum Likelihood optimization failed to converge. Check mle_retvals\n",
      "  warnings.warn(\"Maximum Likelihood optimization failed to \"\n",
      "C:\\Users\\Crystal\\anaconda3\\envs\\learn-env\\lib\\site-packages\\statsmodels\\base\\model.py:566: ConvergenceWarning: Maximum Likelihood optimization failed to converge. Check mle_retvals\n",
      "  warnings.warn(\"Maximum Likelihood optimization failed to \"\n",
      "C:\\Users\\Crystal\\anaconda3\\envs\\learn-env\\lib\\site-packages\\statsmodels\\base\\model.py:566: ConvergenceWarning: Maximum Likelihood optimization failed to converge. Check mle_retvals\n",
      "  warnings.warn(\"Maximum Likelihood optimization failed to \"\n",
      "C:\\Users\\Crystal\\anaconda3\\envs\\learn-env\\lib\\site-packages\\statsmodels\\base\\model.py:566: ConvergenceWarning: Maximum Likelihood optimization failed to converge. Check mle_retvals\n",
      "  warnings.warn(\"Maximum Likelihood optimization failed to \"\n",
      "C:\\Users\\Crystal\\anaconda3\\envs\\learn-env\\lib\\site-packages\\statsmodels\\base\\model.py:566: ConvergenceWarning: Maximum Likelihood optimization failed to converge. Check mle_retvals\n",
      "  warnings.warn(\"Maximum Likelihood optimization failed to \"\n",
      "C:\\Users\\Crystal\\anaconda3\\envs\\learn-env\\lib\\site-packages\\statsmodels\\base\\model.py:566: ConvergenceWarning: Maximum Likelihood optimization failed to converge. Check mle_retvals\n",
      "  warnings.warn(\"Maximum Likelihood optimization failed to \"\n",
      "C:\\Users\\Crystal\\anaconda3\\envs\\learn-env\\lib\\site-packages\\statsmodels\\base\\model.py:566: ConvergenceWarning: Maximum Likelihood optimization failed to converge. Check mle_retvals\n",
      "  warnings.warn(\"Maximum Likelihood optimization failed to \"\n",
      "C:\\Users\\Crystal\\anaconda3\\envs\\learn-env\\lib\\site-packages\\statsmodels\\base\\model.py:566: ConvergenceWarning: Maximum Likelihood optimization failed to converge. Check mle_retvals\n",
      "  warnings.warn(\"Maximum Likelihood optimization failed to \"\n",
      "C:\\Users\\Crystal\\anaconda3\\envs\\learn-env\\lib\\site-packages\\statsmodels\\base\\model.py:566: ConvergenceWarning: Maximum Likelihood optimization failed to converge. Check mle_retvals\n",
      "  warnings.warn(\"Maximum Likelihood optimization failed to \"\n",
      "C:\\Users\\Crystal\\anaconda3\\envs\\learn-env\\lib\\site-packages\\statsmodels\\base\\model.py:566: ConvergenceWarning: Maximum Likelihood optimization failed to converge. Check mle_retvals\n",
      "  warnings.warn(\"Maximum Likelihood optimization failed to \"\n",
      "C:\\Users\\Crystal\\anaconda3\\envs\\learn-env\\lib\\site-packages\\statsmodels\\base\\model.py:566: ConvergenceWarning: Maximum Likelihood optimization failed to converge. Check mle_retvals\n",
      "  warnings.warn(\"Maximum Likelihood optimization failed to \"\n",
      "C:\\Users\\Crystal\\anaconda3\\envs\\learn-env\\lib\\site-packages\\statsmodels\\base\\model.py:566: ConvergenceWarning: Maximum Likelihood optimization failed to converge. Check mle_retvals\n",
      "  warnings.warn(\"Maximum Likelihood optimization failed to \"\n",
      "C:\\Users\\Crystal\\anaconda3\\envs\\learn-env\\lib\\site-packages\\statsmodels\\base\\model.py:566: ConvergenceWarning: Maximum Likelihood optimization failed to converge. Check mle_retvals\n",
      "  warnings.warn(\"Maximum Likelihood optimization failed to \"\n",
      "C:\\Users\\Crystal\\anaconda3\\envs\\learn-env\\lib\\site-packages\\statsmodels\\base\\model.py:566: ConvergenceWarning: Maximum Likelihood optimization failed to converge. Check mle_retvals\n",
      "  warnings.warn(\"Maximum Likelihood optimization failed to \"\n",
      "C:\\Users\\Crystal\\anaconda3\\envs\\learn-env\\lib\\site-packages\\statsmodels\\base\\model.py:566: ConvergenceWarning: Maximum Likelihood optimization failed to converge. Check mle_retvals\n",
      "  warnings.warn(\"Maximum Likelihood optimization failed to \"\n",
      "C:\\Users\\Crystal\\anaconda3\\envs\\learn-env\\lib\\site-packages\\statsmodels\\base\\model.py:566: ConvergenceWarning: Maximum Likelihood optimization failed to converge. Check mle_retvals\n",
      "  warnings.warn(\"Maximum Likelihood optimization failed to \"\n",
      "C:\\Users\\Crystal\\anaconda3\\envs\\learn-env\\lib\\site-packages\\statsmodels\\base\\model.py:566: ConvergenceWarning: Maximum Likelihood optimization failed to converge. Check mle_retvals\n",
      "  warnings.warn(\"Maximum Likelihood optimization failed to \"\n",
      "C:\\Users\\Crystal\\anaconda3\\envs\\learn-env\\lib\\site-packages\\statsmodels\\base\\model.py:566: ConvergenceWarning: Maximum Likelihood optimization failed to converge. Check mle_retvals\n",
      "  warnings.warn(\"Maximum Likelihood optimization failed to \"\n",
      "C:\\Users\\Crystal\\anaconda3\\envs\\learn-env\\lib\\site-packages\\statsmodels\\base\\model.py:566: ConvergenceWarning: Maximum Likelihood optimization failed to converge. Check mle_retvals\n",
      "  warnings.warn(\"Maximum Likelihood optimization failed to \"\n"
     ]
    },
    {
     "name": "stderr",
     "output_type": "stream",
     "text": [
      "C:\\Users\\Crystal\\anaconda3\\envs\\learn-env\\lib\\site-packages\\statsmodels\\base\\model.py:566: ConvergenceWarning: Maximum Likelihood optimization failed to converge. Check mle_retvals\n",
      "  warnings.warn(\"Maximum Likelihood optimization failed to \"\n",
      "C:\\Users\\Crystal\\anaconda3\\envs\\learn-env\\lib\\site-packages\\statsmodels\\base\\model.py:566: ConvergenceWarning: Maximum Likelihood optimization failed to converge. Check mle_retvals\n",
      "  warnings.warn(\"Maximum Likelihood optimization failed to \"\n",
      "C:\\Users\\Crystal\\anaconda3\\envs\\learn-env\\lib\\site-packages\\statsmodels\\base\\model.py:566: ConvergenceWarning: Maximum Likelihood optimization failed to converge. Check mle_retvals\n",
      "  warnings.warn(\"Maximum Likelihood optimization failed to \"\n",
      "C:\\Users\\Crystal\\anaconda3\\envs\\learn-env\\lib\\site-packages\\statsmodels\\base\\model.py:566: ConvergenceWarning: Maximum Likelihood optimization failed to converge. Check mle_retvals\n",
      "  warnings.warn(\"Maximum Likelihood optimization failed to \"\n",
      "C:\\Users\\Crystal\\anaconda3\\envs\\learn-env\\lib\\site-packages\\statsmodels\\base\\model.py:566: ConvergenceWarning: Maximum Likelihood optimization failed to converge. Check mle_retvals\n",
      "  warnings.warn(\"Maximum Likelihood optimization failed to \"\n",
      "C:\\Users\\Crystal\\anaconda3\\envs\\learn-env\\lib\\site-packages\\statsmodels\\base\\model.py:566: ConvergenceWarning: Maximum Likelihood optimization failed to converge. Check mle_retvals\n",
      "  warnings.warn(\"Maximum Likelihood optimization failed to \"\n",
      "C:\\Users\\Crystal\\anaconda3\\envs\\learn-env\\lib\\site-packages\\statsmodels\\base\\model.py:566: ConvergenceWarning: Maximum Likelihood optimization failed to converge. Check mle_retvals\n",
      "  warnings.warn(\"Maximum Likelihood optimization failed to \"\n",
      "C:\\Users\\Crystal\\anaconda3\\envs\\learn-env\\lib\\site-packages\\statsmodels\\base\\model.py:566: ConvergenceWarning: Maximum Likelihood optimization failed to converge. Check mle_retvals\n",
      "  warnings.warn(\"Maximum Likelihood optimization failed to \"\n",
      "C:\\Users\\Crystal\\anaconda3\\envs\\learn-env\\lib\\site-packages\\statsmodels\\base\\model.py:566: ConvergenceWarning: Maximum Likelihood optimization failed to converge. Check mle_retvals\n",
      "  warnings.warn(\"Maximum Likelihood optimization failed to \"\n",
      "C:\\Users\\Crystal\\anaconda3\\envs\\learn-env\\lib\\site-packages\\statsmodels\\base\\model.py:566: ConvergenceWarning: Maximum Likelihood optimization failed to converge. Check mle_retvals\n",
      "  warnings.warn(\"Maximum Likelihood optimization failed to \"\n",
      "C:\\Users\\Crystal\\anaconda3\\envs\\learn-env\\lib\\site-packages\\statsmodels\\base\\model.py:566: ConvergenceWarning: Maximum Likelihood optimization failed to converge. Check mle_retvals\n",
      "  warnings.warn(\"Maximum Likelihood optimization failed to \"\n",
      "C:\\Users\\Crystal\\anaconda3\\envs\\learn-env\\lib\\site-packages\\statsmodels\\base\\model.py:566: ConvergenceWarning: Maximum Likelihood optimization failed to converge. Check mle_retvals\n",
      "  warnings.warn(\"Maximum Likelihood optimization failed to \"\n",
      "C:\\Users\\Crystal\\anaconda3\\envs\\learn-env\\lib\\site-packages\\statsmodels\\base\\model.py:566: ConvergenceWarning: Maximum Likelihood optimization failed to converge. Check mle_retvals\n",
      "  warnings.warn(\"Maximum Likelihood optimization failed to \"\n",
      "C:\\Users\\Crystal\\anaconda3\\envs\\learn-env\\lib\\site-packages\\statsmodels\\base\\model.py:566: ConvergenceWarning: Maximum Likelihood optimization failed to converge. Check mle_retvals\n",
      "  warnings.warn(\"Maximum Likelihood optimization failed to \"\n",
      "C:\\Users\\Crystal\\anaconda3\\envs\\learn-env\\lib\\site-packages\\statsmodels\\base\\model.py:566: ConvergenceWarning: Maximum Likelihood optimization failed to converge. Check mle_retvals\n",
      "  warnings.warn(\"Maximum Likelihood optimization failed to \"\n",
      "C:\\Users\\Crystal\\anaconda3\\envs\\learn-env\\lib\\site-packages\\statsmodels\\base\\model.py:566: ConvergenceWarning: Maximum Likelihood optimization failed to converge. Check mle_retvals\n",
      "  warnings.warn(\"Maximum Likelihood optimization failed to \"\n",
      "C:\\Users\\Crystal\\anaconda3\\envs\\learn-env\\lib\\site-packages\\statsmodels\\base\\model.py:566: ConvergenceWarning: Maximum Likelihood optimization failed to converge. Check mle_retvals\n",
      "  warnings.warn(\"Maximum Likelihood optimization failed to \"\n",
      "C:\\Users\\Crystal\\anaconda3\\envs\\learn-env\\lib\\site-packages\\statsmodels\\base\\model.py:566: ConvergenceWarning: Maximum Likelihood optimization failed to converge. Check mle_retvals\n",
      "  warnings.warn(\"Maximum Likelihood optimization failed to \"\n",
      "C:\\Users\\Crystal\\anaconda3\\envs\\learn-env\\lib\\site-packages\\statsmodels\\base\\model.py:566: ConvergenceWarning: Maximum Likelihood optimization failed to converge. Check mle_retvals\n",
      "  warnings.warn(\"Maximum Likelihood optimization failed to \"\n",
      "C:\\Users\\Crystal\\anaconda3\\envs\\learn-env\\lib\\site-packages\\statsmodels\\base\\model.py:566: ConvergenceWarning: Maximum Likelihood optimization failed to converge. Check mle_retvals\n",
      "  warnings.warn(\"Maximum Likelihood optimization failed to \"\n",
      "C:\\Users\\Crystal\\anaconda3\\envs\\learn-env\\lib\\site-packages\\statsmodels\\base\\model.py:566: ConvergenceWarning: Maximum Likelihood optimization failed to converge. Check mle_retvals\n",
      "  warnings.warn(\"Maximum Likelihood optimization failed to \"\n",
      "C:\\Users\\Crystal\\anaconda3\\envs\\learn-env\\lib\\site-packages\\statsmodels\\base\\model.py:566: ConvergenceWarning: Maximum Likelihood optimization failed to converge. Check mle_retvals\n",
      "  warnings.warn(\"Maximum Likelihood optimization failed to \"\n",
      "C:\\Users\\Crystal\\anaconda3\\envs\\learn-env\\lib\\site-packages\\statsmodels\\base\\model.py:566: ConvergenceWarning: Maximum Likelihood optimization failed to converge. Check mle_retvals\n",
      "  warnings.warn(\"Maximum Likelihood optimization failed to \"\n"
     ]
    }
   ],
   "source": [
    "#Code to iterate through the values of p,d and q modeling each combination \n",
    "p = range(0, 10)\n",
    "q = range(0, 10)\n",
    "d = range(0, 2)\n",
    "\n",
    "pdq_combinations = list(itertools.product(p, d, q))\n",
    "\n",
    "rmse = []\n",
    "order = []\n",
    "\n",
    "for pdq in pdq_combinations:\n",
    "    try:\n",
    "        model = ARIMA(train, order=pdq).fit()\n",
    "        y_hat = model.predict(start=len(train), end=len(train) + len(test) - 1, typ='levels')\n",
    "        error = np.sqrt(mean_squared_error(test, y_hat))\n",
    "        order.append(pdq)\n",
    "        rmse.append(error)\n",
    "    except: \n",
    "        continue"
   ]
  },
  {
   "cell_type": "code",
   "execution_count": 53,
   "metadata": {},
   "outputs": [
    {
     "name": "stdout",
     "output_type": "stream",
     "text": [
      "(7, 1, 8)\n"
     ]
    }
   ],
   "source": [
    "#Results from the code above\n",
    "results = pd.DataFrame(index=order, data=rmse, columns=['RMSE'])\n",
    "min_value_order = results.idxmin().values[0]\n",
    "print(min_value_order)"
   ]
  },
  {
   "cell_type": "markdown",
   "metadata": {},
   "source": [
    "According to the code above the best performing ARIMA model is ARIMA(7,1,8). We will now create an ARIMA model using this combination."
   ]
  },
  {
   "cell_type": "code",
   "execution_count": 54,
   "metadata": {},
   "outputs": [
    {
     "name": "stderr",
     "output_type": "stream",
     "text": [
      "C:\\Users\\Crystal\\anaconda3\\envs\\learn-env\\lib\\site-packages\\statsmodels\\base\\model.py:566: ConvergenceWarning: Maximum Likelihood optimization failed to converge. Check mle_retvals\n",
      "  warnings.warn(\"Maximum Likelihood optimization failed to \"\n"
     ]
    },
    {
     "data": {
      "text/html": [
       "<table class=\"simpletable\">\n",
       "<caption>SARIMAX Results</caption>\n",
       "<tr>\n",
       "  <th>Dep. Variable:</th>         <td>value</td>      <th>  No. Observations:  </th>    <td>197</td>   \n",
       "</tr>\n",
       "<tr>\n",
       "  <th>Model:</th>            <td>ARIMA(7, 1, 8)</td>  <th>  Log Likelihood     </th> <td>-1336.335</td>\n",
       "</tr>\n",
       "<tr>\n",
       "  <th>Date:</th>            <td>Thu, 18 Jan 2024</td> <th>  AIC                </th> <td>2704.669</td> \n",
       "</tr>\n",
       "<tr>\n",
       "  <th>Time:</th>                <td>19:45:25</td>     <th>  BIC                </th> <td>2757.119</td> \n",
       "</tr>\n",
       "<tr>\n",
       "  <th>Sample:</th>             <td>06-01-1996</td>    <th>  HQIC               </th> <td>2725.903</td> \n",
       "</tr>\n",
       "<tr>\n",
       "  <th></th>                   <td>- 10-01-2012</td>   <th>                     </th>     <td> </td>    \n",
       "</tr>\n",
       "<tr>\n",
       "  <th>Covariance Type:</th>        <td>opg</td>       <th>                     </th>     <td> </td>    \n",
       "</tr>\n",
       "</table>\n",
       "<table class=\"simpletable\">\n",
       "<tr>\n",
       "     <td></td>       <th>coef</th>     <th>std err</th>      <th>z</th>      <th>P>|z|</th>  <th>[0.025</th>    <th>0.975]</th>  \n",
       "</tr>\n",
       "<tr>\n",
       "  <th>ar.L1</th>  <td>   -2.0003</td> <td>    7.468</td> <td>   -0.268</td> <td> 0.789</td> <td>  -16.638</td> <td>   12.637</td>\n",
       "</tr>\n",
       "<tr>\n",
       "  <th>ar.L2</th>  <td>   -2.7216</td> <td>    7.934</td> <td>   -0.343</td> <td> 0.732</td> <td>  -18.272</td> <td>   12.829</td>\n",
       "</tr>\n",
       "<tr>\n",
       "  <th>ar.L3</th>  <td>   -2.6746</td> <td>   13.153</td> <td>   -0.203</td> <td> 0.839</td> <td>  -28.454</td> <td>   23.105</td>\n",
       "</tr>\n",
       "<tr>\n",
       "  <th>ar.L4</th>  <td>   -1.6415</td> <td>    7.906</td> <td>   -0.208</td> <td> 0.836</td> <td>  -17.138</td> <td>   13.855</td>\n",
       "</tr>\n",
       "<tr>\n",
       "  <th>ar.L5</th>  <td>   -0.6943</td> <td>    5.417</td> <td>   -0.128</td> <td> 0.898</td> <td>  -11.311</td> <td>    9.922</td>\n",
       "</tr>\n",
       "<tr>\n",
       "  <th>ar.L6</th>  <td>    0.2127</td> <td>    0.815</td> <td>    0.261</td> <td> 0.794</td> <td>   -1.384</td> <td>    1.810</td>\n",
       "</tr>\n",
       "<tr>\n",
       "  <th>ar.L7</th>  <td>    0.2248</td> <td>    1.717</td> <td>    0.131</td> <td> 0.896</td> <td>   -3.140</td> <td>    3.590</td>\n",
       "</tr>\n",
       "<tr>\n",
       "  <th>ma.L1</th>  <td>    0.4384</td> <td>    7.507</td> <td>    0.058</td> <td> 0.953</td> <td>  -14.274</td> <td>   15.151</td>\n",
       "</tr>\n",
       "<tr>\n",
       "  <th>ma.L2</th>  <td>    0.0976</td> <td>    3.957</td> <td>    0.025</td> <td> 0.980</td> <td>   -7.658</td> <td>    7.853</td>\n",
       "</tr>\n",
       "<tr>\n",
       "  <th>ma.L3</th>  <td>   -0.6743</td> <td>    4.777</td> <td>   -0.141</td> <td> 0.888</td> <td>  -10.037</td> <td>    8.688</td>\n",
       "</tr>\n",
       "<tr>\n",
       "  <th>ma.L4</th>  <td>   -1.1729</td> <td>    9.579</td> <td>   -0.122</td> <td> 0.903</td> <td>  -19.947</td> <td>   17.601</td>\n",
       "</tr>\n",
       "<tr>\n",
       "  <th>ma.L5</th>  <td>   -0.4789</td> <td>    1.189</td> <td>   -0.403</td> <td> 0.687</td> <td>   -2.809</td> <td>    1.852</td>\n",
       "</tr>\n",
       "<tr>\n",
       "  <th>ma.L6</th>  <td>   -0.2882</td> <td>    4.453</td> <td>   -0.065</td> <td> 0.948</td> <td>   -9.016</td> <td>    8.440</td>\n",
       "</tr>\n",
       "<tr>\n",
       "  <th>ma.L7</th>  <td>    0.7037</td> <td>    2.250</td> <td>    0.313</td> <td> 0.754</td> <td>   -3.705</td> <td>    5.113</td>\n",
       "</tr>\n",
       "<tr>\n",
       "  <th>ma.L8</th>  <td>    0.3763</td> <td>    3.131</td> <td>    0.120</td> <td> 0.904</td> <td>   -5.760</td> <td>    6.513</td>\n",
       "</tr>\n",
       "<tr>\n",
       "  <th>sigma2</th> <td> 5.863e+04</td> <td> 4.79e+04</td> <td>    1.225</td> <td> 0.221</td> <td>-3.52e+04</td> <td> 1.52e+05</td>\n",
       "</tr>\n",
       "</table>\n",
       "<table class=\"simpletable\">\n",
       "<tr>\n",
       "  <th>Ljung-Box (L1) (Q):</th>     <td>0.03</td>  <th>  Jarque-Bera (JB):  </th> <td>12126.81</td>\n",
       "</tr>\n",
       "<tr>\n",
       "  <th>Prob(Q):</th>                <td>0.87</td>  <th>  Prob(JB):          </th>   <td>0.00</td>  \n",
       "</tr>\n",
       "<tr>\n",
       "  <th>Heteroskedasticity (H):</th> <td>53.21</td> <th>  Skew:              </th>   <td>-3.34</td> \n",
       "</tr>\n",
       "<tr>\n",
       "  <th>Prob(H) (two-sided):</th>    <td>0.00</td>  <th>  Kurtosis:          </th>   <td>40.95</td> \n",
       "</tr>\n",
       "</table><br/><br/>Warnings:<br/>[1] Covariance matrix calculated using the outer product of gradients (complex-step)."
      ],
      "text/plain": [
       "<class 'statsmodels.iolib.summary.Summary'>\n",
       "\"\"\"\n",
       "                               SARIMAX Results                                \n",
       "==============================================================================\n",
       "Dep. Variable:                  value   No. Observations:                  197\n",
       "Model:                 ARIMA(7, 1, 8)   Log Likelihood               -1336.335\n",
       "Date:                Thu, 18 Jan 2024   AIC                           2704.669\n",
       "Time:                        19:45:25   BIC                           2757.119\n",
       "Sample:                    06-01-1996   HQIC                          2725.903\n",
       "                         - 10-01-2012                                         \n",
       "Covariance Type:                  opg                                         \n",
       "==============================================================================\n",
       "                 coef    std err          z      P>|z|      [0.025      0.975]\n",
       "------------------------------------------------------------------------------\n",
       "ar.L1         -2.0003      7.468     -0.268      0.789     -16.638      12.637\n",
       "ar.L2         -2.7216      7.934     -0.343      0.732     -18.272      12.829\n",
       "ar.L3         -2.6746     13.153     -0.203      0.839     -28.454      23.105\n",
       "ar.L4         -1.6415      7.906     -0.208      0.836     -17.138      13.855\n",
       "ar.L5         -0.6943      5.417     -0.128      0.898     -11.311       9.922\n",
       "ar.L6          0.2127      0.815      0.261      0.794      -1.384       1.810\n",
       "ar.L7          0.2248      1.717      0.131      0.896      -3.140       3.590\n",
       "ma.L1          0.4384      7.507      0.058      0.953     -14.274      15.151\n",
       "ma.L2          0.0976      3.957      0.025      0.980      -7.658       7.853\n",
       "ma.L3         -0.6743      4.777     -0.141      0.888     -10.037       8.688\n",
       "ma.L4         -1.1729      9.579     -0.122      0.903     -19.947      17.601\n",
       "ma.L5         -0.4789      1.189     -0.403      0.687      -2.809       1.852\n",
       "ma.L6         -0.2882      4.453     -0.065      0.948      -9.016       8.440\n",
       "ma.L7          0.7037      2.250      0.313      0.754      -3.705       5.113\n",
       "ma.L8          0.3763      3.131      0.120      0.904      -5.760       6.513\n",
       "sigma2      5.863e+04   4.79e+04      1.225      0.221   -3.52e+04    1.52e+05\n",
       "===================================================================================\n",
       "Ljung-Box (L1) (Q):                   0.03   Jarque-Bera (JB):             12126.81\n",
       "Prob(Q):                              0.87   Prob(JB):                         0.00\n",
       "Heteroskedasticity (H):              53.21   Skew:                            -3.34\n",
       "Prob(H) (two-sided):                  0.00   Kurtosis:                        40.95\n",
       "===================================================================================\n",
       "\n",
       "Warnings:\n",
       "[1] Covariance matrix calculated using the outer product of gradients (complex-step).\n",
       "\"\"\""
      ]
     },
     "execution_count": 54,
     "metadata": {},
     "output_type": "execute_result"
    }
   ],
   "source": [
    "# Creating the final ARIMA model\n",
    "final_ARIMA_model = ARIMA(train, order=(7, 1, 8))\n",
    "res_arima4 = final_ARIMA_model.fit()\n",
    "y_hat_4 = res_arima4.predict(start=len(train), end=len(train) + len(test) - 1, typ='levels')\n",
    "res_arima4.summary()"
   ]
  },
  {
   "cell_type": "code",
   "execution_count": 55,
   "metadata": {},
   "outputs": [
    {
     "name": "stdout",
     "output_type": "stream",
     "text": [
      "RMSE: 118.11150364970207\n",
      "MAE: 86.26434151272926\n"
     ]
    }
   ],
   "source": [
    "# Checking the metrics\n",
    "metrics(test, y_hat_4)"
   ]
  },
  {
   "cell_type": "markdown",
   "metadata": {},
   "source": [
    "The final ARIMA model performs better than all the other models. This is because both the RMSE and the MAE of this model are lower compared to the others.\n",
    "\n",
    "However, the main issue with the ARIMA model is that it relies on stationarity, homoscedasticity and normality and the data does not follow a normal distribution. The AIC and BIC scores for the models are too big. For those reasons, we opted for another model algorithm, Prophet, and see if our model will perform any better."
   ]
  },
  {
   "cell_type": "markdown",
   "metadata": {},
   "source": [
    "### Prophet model."
   ]
  },
  {
   "cell_type": "markdown",
   "metadata": {},
   "source": [
    "Prophet is a time series forecasting library from Meta. To be able to build a model with Prophet we need to reset the index of our train and test datasets."
   ]
  },
  {
   "cell_type": "code",
   "execution_count": 56,
   "metadata": {},
   "outputs": [],
   "source": [
    "#Resetting the index of the train data\n",
    "train2 = train.reset_index()\n",
    "train2 = train2.rename(columns={'Date': 'ds', 'value': 'y'})\n",
    "test2 = test.reset_index()\n",
    "test2 = test2.rename(columns={'Date': 'ds', 'value': 'y'})"
   ]
  },
  {
   "cell_type": "markdown",
   "metadata": {},
   "source": [
    "We will now create a baseline Prophet model using default parameters."
   ]
  },
  {
   "cell_type": "code",
   "execution_count": 57,
   "metadata": {},
   "outputs": [
    {
     "name": "stderr",
     "output_type": "stream",
     "text": [
      "19:45:26 - cmdstanpy - INFO - Chain [1] start processing\n",
      "19:45:26 - cmdstanpy - INFO - Chain [1] done processing\n"
     ]
    },
    {
     "name": "stdout",
     "output_type": "stream",
     "text": [
      "RMSE: 142.3474293300567\n",
      "MAE: 95.68525766456938\n"
     ]
    }
   ],
   "source": [
    "#Prophet model with default hyperparameters\n",
    "prophet_model1 = Prophet()\n",
    "prophet_model1.fit(train2)\n",
    "future_dates1 = prophet_model1.make_future_dataframe(periods=len(test2), freq='M') \n",
    "forecast1 = prophet_model1.predict(future_dates1)\n",
    "test_predictions1 = forecast1['yhat'][-len(test2):]\n",
    "metrics(test2['y'], test_predictions1)"
   ]
  },
  {
   "cell_type": "markdown",
   "metadata": {},
   "source": [
    "From the model above the RMSE is at 142.35 and 95.67 which are worse than our previous models. We will go ahead and conduct manual hyerparameter tuning to create a better model. "
   ]
  },
  {
   "cell_type": "code",
   "execution_count": 58,
   "metadata": {},
   "outputs": [
    {
     "name": "stderr",
     "output_type": "stream",
     "text": [
      "19:45:27 - cmdstanpy - INFO - Chain [1] start processing\n",
      "19:45:27 - cmdstanpy - INFO - Chain [1] done processing\n",
      "19:45:28 - cmdstanpy - INFO - Chain [1] start processing\n",
      "19:45:28 - cmdstanpy - INFO - Chain [1] done processing\n",
      "19:45:28 - cmdstanpy - INFO - Chain [1] start processing\n",
      "19:45:28 - cmdstanpy - INFO - Chain [1] done processing\n",
      "19:45:29 - cmdstanpy - INFO - Chain [1] start processing\n",
      "19:45:29 - cmdstanpy - INFO - Chain [1] done processing\n",
      "19:45:29 - cmdstanpy - INFO - Chain [1] start processing\n",
      "19:45:29 - cmdstanpy - INFO - Chain [1] done processing\n",
      "19:45:30 - cmdstanpy - INFO - Chain [1] start processing\n",
      "19:45:30 - cmdstanpy - INFO - Chain [1] done processing\n"
     ]
    },
    {
     "name": "stdout",
     "output_type": "stream",
     "text": [
      "Best Hyperparameters: {'changepoint_prior_scale': 1.0, 'seasonality_mode': 'multiplicative'}\n"
     ]
    }
   ],
   "source": [
    "# Manual Hyperparameter tuning for the prophet model\n",
    "param_grid = {\n",
    "    \"changepoint_prior_scale\": [0.01, 0.1, 1.0],\n",
    "    \"seasonality_mode\": [\"additive\", \"multiplicative\"],\n",
    "}\n",
    "\n",
    "# Perform manual hyperparameter tuning\n",
    "best_rmse = np.inf\n",
    "best_params = None\n",
    "\n",
    "for changepoint_prior_scale in param_grid[\"changepoint_prior_scale\"]:\n",
    "    for seasonality_mode in param_grid[\"seasonality_mode\"]:\n",
    "        model = Prophet(\n",
    "            changepoint_prior_scale=changepoint_prior_scale,\n",
    "            seasonality_mode=seasonality_mode,\n",
    "        )\n",
    "\n",
    "        # Fit the model on the training data\n",
    "        model.fit(train2)\n",
    "\n",
    "        # Make predictions on the validation set\n",
    "        future = model.make_future_dataframe(periods=len(test2))\n",
    "        forecast = model.predict(future)\n",
    "\n",
    "        # Calculate RMSE\n",
    "        rmse = np.sqrt(mean_squared_error(test2[\"y\"], forecast[\"yhat\"][:len(test2)]))\n",
    "\n",
    "        # Check if the current combination of hyperparameters is the best\n",
    "        if rmse < best_rmse:\n",
    "            best_rmse = rmse\n",
    "            best_params = {\n",
    "                \"changepoint_prior_scale\": changepoint_prior_scale,\n",
    "                \"seasonality_mode\": seasonality_mode,\n",
    "            }\n",
    "\n",
    "print(\"Best Hyperparameters:\", best_params)"
   ]
  },
  {
   "cell_type": "markdown",
   "metadata": {},
   "source": [
    "The parameters chosen are a changepoint_prior_scale of 1.0 and a multiplicative seasonality_mode. We will create a model using the suggested hyperparameters."
   ]
  },
  {
   "cell_type": "code",
   "execution_count": 59,
   "metadata": {},
   "outputs": [
    {
     "name": "stderr",
     "output_type": "stream",
     "text": [
      "19:45:30 - cmdstanpy - INFO - Chain [1] start processing\n",
      "19:45:30 - cmdstanpy - INFO - Chain [1] done processing\n"
     ]
    },
    {
     "name": "stdout",
     "output_type": "stream",
     "text": [
      "RMSE: 122.51158916176053\n",
      "MAE: 87.13381241217547\n"
     ]
    }
   ],
   "source": [
    "# Creating a Prophet model using the suggested hyperparameters\n",
    "param_dict = {'changepoint_prior_scale': 1.0, 'seasonality_mode': 'multiplicative'}\n",
    "prophet_model2 = Prophet(**param_dict)\n",
    "prophet_model2.fit(train2)\n",
    "future_dates = prophet_model2.make_future_dataframe(periods=len(test2), freq='M')\n",
    "forecast = prophet_model2.predict(future_dates)\n",
    "test_predictions2 = forecast['yhat'][-len(test2):]\n",
    "metrics(test2['y'], test_predictions2)"
   ]
  },
  {
   "cell_type": "markdown",
   "metadata": {},
   "source": [
    "The tuned model gives an RMSE of 122.51 and MAE of 87.13 which is better than the first prophet model. However, it performs poorly than the ARIMA models. We will now use optuna for hyperparameter tuning and see if we can create a better model."
   ]
  },
  {
   "cell_type": "code",
   "execution_count": 60,
   "metadata": {},
   "outputs": [
    {
     "name": "stderr",
     "output_type": "stream",
     "text": [
      "[I 2024-01-18 19:45:30,992] A new study created in memory with name: no-name-d5372b6d-83c1-4a37-a140-8d168474cca3\n",
      "19:45:31 - cmdstanpy - INFO - Chain [1] start processing\n",
      "19:45:31 - cmdstanpy - INFO - Chain [1] done processing\n",
      "[I 2024-01-18 19:45:31,582] Trial 0 finished with value: 122.18712081424832 and parameters: {'changepoint_prior_scale': 0.17341133167191916, 'seasonality_mode': 'multiplicative'}. Best is trial 0 with value: 122.18712081424832.\n",
      "19:45:32 - cmdstanpy - INFO - Chain [1] start processing\n",
      "19:45:32 - cmdstanpy - INFO - Chain [1] done processing\n",
      "[I 2024-01-18 19:45:32,178] Trial 1 finished with value: 230.8678269215344 and parameters: {'changepoint_prior_scale': 0.36065206266690947, 'seasonality_mode': 'additive'}. Best is trial 0 with value: 122.18712081424832.\n",
      "19:45:32 - cmdstanpy - INFO - Chain [1] start processing\n",
      "19:45:32 - cmdstanpy - INFO - Chain [1] done processing\n",
      "[I 2024-01-18 19:45:32,767] Trial 2 finished with value: 122.17619702505887 and parameters: {'changepoint_prior_scale': 0.2677652779359791, 'seasonality_mode': 'multiplicative'}. Best is trial 2 with value: 122.17619702505887.\n",
      "19:45:33 - cmdstanpy - INFO - Chain [1] start processing\n",
      "19:45:33 - cmdstanpy - INFO - Chain [1] done processing\n",
      "[I 2024-01-18 19:45:33,332] Trial 3 finished with value: 241.46406190342327 and parameters: {'changepoint_prior_scale': 0.2304985317696421, 'seasonality_mode': 'additive'}. Best is trial 2 with value: 122.17619702505887.\n",
      "19:45:33 - cmdstanpy - INFO - Chain [1] start processing\n",
      "19:45:33 - cmdstanpy - INFO - Chain [1] done processing\n",
      "[I 2024-01-18 19:45:33,906] Trial 4 finished with value: 122.12782299983279 and parameters: {'changepoint_prior_scale': 0.48188036088900127, 'seasonality_mode': 'multiplicative'}. Best is trial 4 with value: 122.12782299983279.\n",
      "19:45:34 - cmdstanpy - INFO - Chain [1] start processing\n",
      "19:45:34 - cmdstanpy - INFO - Chain [1] done processing\n",
      "[I 2024-01-18 19:45:34,480] Trial 5 finished with value: 243.13411642061268 and parameters: {'changepoint_prior_scale': 0.34307694918234266, 'seasonality_mode': 'additive'}. Best is trial 4 with value: 122.12782299983279.\n",
      "19:45:34 - cmdstanpy - INFO - Chain [1] start processing\n",
      "19:45:34 - cmdstanpy - INFO - Chain [1] done processing\n",
      "[I 2024-01-18 19:45:35,111] Trial 6 finished with value: 240.19187296523074 and parameters: {'changepoint_prior_scale': 0.32236447144749064, 'seasonality_mode': 'additive'}. Best is trial 4 with value: 122.12782299983279.\n",
      "19:45:35 - cmdstanpy - INFO - Chain [1] start processing\n",
      "19:45:35 - cmdstanpy - INFO - Chain [1] done processing\n",
      "[I 2024-01-18 19:45:35,686] Trial 7 finished with value: 251.13954815280832 and parameters: {'changepoint_prior_scale': 0.4344754074117867, 'seasonality_mode': 'additive'}. Best is trial 4 with value: 122.12782299983279.\n",
      "19:45:36 - cmdstanpy - INFO - Chain [1] start processing\n",
      "19:45:36 - cmdstanpy - INFO - Chain [1] done processing\n",
      "[I 2024-01-18 19:45:36,257] Trial 8 finished with value: 245.1052733011191 and parameters: {'changepoint_prior_scale': 0.34698261155579413, 'seasonality_mode': 'additive'}. Best is trial 4 with value: 122.12782299983279.\n",
      "19:45:36 - cmdstanpy - INFO - Chain [1] start processing\n",
      "19:45:36 - cmdstanpy - INFO - Chain [1] done processing\n",
      "[I 2024-01-18 19:45:36,678] Trial 9 finished with value: 122.12090980438198 and parameters: {'changepoint_prior_scale': 0.3003943079572749, 'seasonality_mode': 'multiplicative'}. Best is trial 9 with value: 122.12090980438198.\n",
      "19:45:36 - cmdstanpy - INFO - Chain [1] start processing\n",
      "19:45:36 - cmdstanpy - INFO - Chain [1] done processing\n",
      "[I 2024-01-18 19:45:37,102] Trial 10 finished with value: 121.87092949376994 and parameters: {'changepoint_prior_scale': 0.054113012175714986, 'seasonality_mode': 'multiplicative'}. Best is trial 10 with value: 121.87092949376994.\n",
      "19:45:37 - cmdstanpy - INFO - Chain [1] start processing\n",
      "19:45:37 - cmdstanpy - INFO - Chain [1] done processing\n",
      "[I 2024-01-18 19:45:37,691] Trial 11 finished with value: 121.88018172594626 and parameters: {'changepoint_prior_scale': 0.017295765752311003, 'seasonality_mode': 'multiplicative'}. Best is trial 10 with value: 121.87092949376994.\n",
      "19:45:38 - cmdstanpy - INFO - Chain [1] start processing\n",
      "19:45:38 - cmdstanpy - INFO - Chain [1] done processing\n",
      "[I 2024-01-18 19:45:38,289] Trial 12 finished with value: 121.87411903902291 and parameters: {'changepoint_prior_scale': 0.01532535755321511, 'seasonality_mode': 'multiplicative'}. Best is trial 10 with value: 121.87092949376994.\n",
      "19:45:38 - cmdstanpy - INFO - Chain [1] start processing\n",
      "19:45:38 - cmdstanpy - INFO - Chain [1] done processing\n",
      "[I 2024-01-18 19:45:38,881] Trial 13 finished with value: 121.86993924569185 and parameters: {'changepoint_prior_scale': 0.013082277423618283, 'seasonality_mode': 'multiplicative'}. Best is trial 13 with value: 121.86993924569185.\n",
      "19:45:39 - cmdstanpy - INFO - Chain [1] start processing\n",
      "19:45:39 - cmdstanpy - INFO - Chain [1] done processing\n",
      "[I 2024-01-18 19:45:39,468] Trial 14 finished with value: 121.87755253396153 and parameters: {'changepoint_prior_scale': 0.10715140554712928, 'seasonality_mode': 'multiplicative'}. Best is trial 13 with value: 121.86993924569185.\n",
      "19:45:39 - cmdstanpy - INFO - Chain [1] start processing\n",
      "19:45:39 - cmdstanpy - INFO - Chain [1] done processing\n",
      "[I 2024-01-18 19:45:40,060] Trial 15 finished with value: 121.87229055144036 and parameters: {'changepoint_prior_scale': 0.08825854080339907, 'seasonality_mode': 'multiplicative'}. Best is trial 13 with value: 121.86993924569185.\n",
      "19:45:40 - cmdstanpy - INFO - Chain [1] start processing\n",
      "19:45:40 - cmdstanpy - INFO - Chain [1] done processing\n",
      "[I 2024-01-18 19:45:40,641] Trial 16 finished with value: 121.87109560810705 and parameters: {'changepoint_prior_scale': 0.07520452843412906, 'seasonality_mode': 'multiplicative'}. Best is trial 13 with value: 121.86993924569185.\n",
      "19:45:41 - cmdstanpy - INFO - Chain [1] start processing\n",
      "19:45:41 - cmdstanpy - INFO - Chain [1] done processing\n",
      "[I 2024-01-18 19:45:41,232] Trial 17 finished with value: 122.17164659557537 and parameters: {'changepoint_prior_scale': 0.15372104275710885, 'seasonality_mode': 'multiplicative'}. Best is trial 13 with value: 121.86993924569185.\n",
      "19:45:41 - cmdstanpy - INFO - Chain [1] start processing\n",
      "19:45:41 - cmdstanpy - INFO - Chain [1] done processing\n",
      "[I 2024-01-18 19:45:41,839] Trial 18 finished with value: 122.26159831683196 and parameters: {'changepoint_prior_scale': 0.004241500642425391, 'seasonality_mode': 'multiplicative'}. Best is trial 13 with value: 121.86993924569185.\n",
      "19:45:42 - cmdstanpy - INFO - Chain [1] start processing\n",
      "19:45:42 - cmdstanpy - INFO - Chain [1] done processing\n",
      "[I 2024-01-18 19:45:42,445] Trial 19 finished with value: 122.21569146788174 and parameters: {'changepoint_prior_scale': 0.1715446984078082, 'seasonality_mode': 'multiplicative'}. Best is trial 13 with value: 121.86993924569185.\n",
      "19:45:42 - cmdstanpy - INFO - Chain [1] start processing\n",
      "19:45:42 - cmdstanpy - INFO - Chain [1] done processing\n",
      "[I 2024-01-18 19:45:42,897] Trial 20 finished with value: 121.87262536280738 and parameters: {'changepoint_prior_scale': 0.057145216271867846, 'seasonality_mode': 'multiplicative'}. Best is trial 13 with value: 121.86993924569185.\n",
      "19:45:43 - cmdstanpy - INFO - Chain [1] start processing\n",
      "19:45:43 - cmdstanpy - INFO - Chain [1] done processing\n",
      "[I 2024-01-18 19:45:43,483] Trial 21 finished with value: 121.87077059300891 and parameters: {'changepoint_prior_scale': 0.07132216701674648, 'seasonality_mode': 'multiplicative'}. Best is trial 13 with value: 121.86993924569185.\n",
      "19:45:43 - cmdstanpy - INFO - Chain [1] start processing\n",
      "19:45:43 - cmdstanpy - INFO - Chain [1] done processing\n",
      "[I 2024-01-18 19:45:44,088] Trial 22 finished with value: 121.89260155823101 and parameters: {'changepoint_prior_scale': 0.12723890853240655, 'seasonality_mode': 'multiplicative'}. Best is trial 13 with value: 121.86993924569185.\n",
      "19:45:44 - cmdstanpy - INFO - Chain [1] start processing\n",
      "19:45:44 - cmdstanpy - INFO - Chain [1] done processing\n",
      "[I 2024-01-18 19:45:44,673] Trial 23 finished with value: 121.87041059051508 and parameters: {'changepoint_prior_scale': 0.05199313603916409, 'seasonality_mode': 'multiplicative'}. Best is trial 13 with value: 121.86993924569185.\n"
     ]
    },
    {
     "name": "stderr",
     "output_type": "stream",
     "text": [
      "19:45:45 - cmdstanpy - INFO - Chain [1] start processing\n",
      "19:45:45 - cmdstanpy - INFO - Chain [1] done processing\n",
      "[I 2024-01-18 19:45:45,258] Trial 24 finished with value: 122.20137861100463 and parameters: {'changepoint_prior_scale': 0.19869003963951173, 'seasonality_mode': 'multiplicative'}. Best is trial 13 with value: 121.86993924569185.\n",
      "19:45:45 - cmdstanpy - INFO - Chain [1] start processing\n",
      "19:45:45 - cmdstanpy - INFO - Chain [1] done processing\n",
      "[I 2024-01-18 19:45:45,859] Trial 25 finished with value: 121.87985241376758 and parameters: {'changepoint_prior_scale': 0.04448226684514991, 'seasonality_mode': 'multiplicative'}. Best is trial 13 with value: 121.86993924569185.\n",
      "19:45:46 - cmdstanpy - INFO - Chain [1] start processing\n",
      "19:45:46 - cmdstanpy - INFO - Chain [1] done processing\n",
      "[I 2024-01-18 19:45:46,549] Trial 26 finished with value: 122.01011845026301 and parameters: {'changepoint_prior_scale': 0.1255534326348455, 'seasonality_mode': 'multiplicative'}. Best is trial 13 with value: 121.86993924569185.\n",
      "19:45:47 - cmdstanpy - INFO - Chain [1] start processing\n",
      "19:45:47 - cmdstanpy - INFO - Chain [1] done processing\n",
      "[I 2024-01-18 19:45:47,257] Trial 27 finished with value: 121.87401852266042 and parameters: {'changepoint_prior_scale': 0.0907798975003325, 'seasonality_mode': 'multiplicative'}. Best is trial 13 with value: 121.86993924569185.\n",
      "19:45:47 - cmdstanpy - INFO - Chain [1] start processing\n",
      "19:45:47 - cmdstanpy - INFO - Chain [1] done processing\n",
      "[I 2024-01-18 19:45:47,918] Trial 28 finished with value: 121.87263016325394 and parameters: {'changepoint_prior_scale': 0.03850041250319022, 'seasonality_mode': 'multiplicative'}. Best is trial 13 with value: 121.86993924569185.\n",
      "19:45:48 - cmdstanpy - INFO - Chain [1] start processing\n",
      "19:45:48 - cmdstanpy - INFO - Chain [1] done processing\n",
      "[I 2024-01-18 19:45:48,493] Trial 29 finished with value: 122.18097718799541 and parameters: {'changepoint_prior_scale': 0.19943072289306768, 'seasonality_mode': 'multiplicative'}. Best is trial 13 with value: 121.86993924569185.\n",
      "19:45:48 - cmdstanpy - INFO - Chain [1] start processing\n",
      "19:45:48 - cmdstanpy - INFO - Chain [1] done processing\n",
      "[I 2024-01-18 19:45:49,070] Trial 30 finished with value: 122.0762684593365 and parameters: {'changepoint_prior_scale': 0.13485367272024723, 'seasonality_mode': 'multiplicative'}. Best is trial 13 with value: 121.86993924569185.\n",
      "19:45:49 - cmdstanpy - INFO - Chain [1] start processing\n",
      "19:45:49 - cmdstanpy - INFO - Chain [1] done processing\n",
      "[I 2024-01-18 19:45:49,635] Trial 31 finished with value: 121.87855915347407 and parameters: {'changepoint_prior_scale': 0.06077751179720837, 'seasonality_mode': 'multiplicative'}. Best is trial 13 with value: 121.86993924569185.\n",
      "19:45:50 - cmdstanpy - INFO - Chain [1] start processing\n",
      "19:45:50 - cmdstanpy - INFO - Chain [1] done processing\n",
      "[I 2024-01-18 19:45:50,206] Trial 32 finished with value: 121.91937647711131 and parameters: {'changepoint_prior_scale': 0.024156813510983154, 'seasonality_mode': 'multiplicative'}. Best is trial 13 with value: 121.86993924569185.\n",
      "19:45:50 - cmdstanpy - INFO - Chain [1] start processing\n",
      "19:45:50 - cmdstanpy - INFO - Chain [1] done processing\n",
      "[I 2024-01-18 19:45:50,777] Trial 33 finished with value: 121.87079229462014 and parameters: {'changepoint_prior_scale': 0.06641680229431102, 'seasonality_mode': 'multiplicative'}. Best is trial 13 with value: 121.86993924569185.\n",
      "19:45:51 - cmdstanpy - INFO - Chain [1] start processing\n",
      "19:45:51 - cmdstanpy - INFO - Chain [1] done processing\n",
      "[I 2024-01-18 19:45:51,367] Trial 34 finished with value: 266.7502528807923 and parameters: {'changepoint_prior_scale': 0.10444847399774612, 'seasonality_mode': 'additive'}. Best is trial 13 with value: 121.86993924569185.\n",
      "19:45:51 - cmdstanpy - INFO - Chain [1] start processing\n",
      "19:45:51 - cmdstanpy - INFO - Chain [1] done processing\n",
      "[I 2024-01-18 19:45:51,938] Trial 35 finished with value: 121.87254372318453 and parameters: {'changepoint_prior_scale': 0.07610539094124218, 'seasonality_mode': 'multiplicative'}. Best is trial 13 with value: 121.86993924569185.\n",
      "19:45:52 - cmdstanpy - INFO - Chain [1] start processing\n",
      "19:45:52 - cmdstanpy - INFO - Chain [1] done processing\n",
      "[I 2024-01-18 19:45:52,513] Trial 36 finished with value: 122.17136501127464 and parameters: {'changepoint_prior_scale': 0.2566951715482131, 'seasonality_mode': 'multiplicative'}. Best is trial 13 with value: 121.86993924569185.\n",
      "19:45:52 - cmdstanpy - INFO - Chain [1] start processing\n",
      "19:45:52 - cmdstanpy - INFO - Chain [1] done processing\n",
      "[I 2024-01-18 19:45:52,934] Trial 37 finished with value: 142.8215771953849 and parameters: {'changepoint_prior_scale': 0.03496808966839024, 'seasonality_mode': 'additive'}. Best is trial 13 with value: 121.86993924569185.\n",
      "19:45:53 - cmdstanpy - INFO - Chain [1] start processing\n",
      "19:45:53 - cmdstanpy - INFO - Chain [1] done processing\n",
      "[I 2024-01-18 19:45:53,503] Trial 38 finished with value: 122.10475754043773 and parameters: {'changepoint_prior_scale': 0.15768343482595404, 'seasonality_mode': 'multiplicative'}. Best is trial 13 with value: 121.86993924569185.\n",
      "19:45:53 - cmdstanpy - INFO - Chain [1] start processing\n",
      "19:45:53 - cmdstanpy - INFO - Chain [1] done processing\n",
      "[I 2024-01-18 19:45:54,094] Trial 39 finished with value: 257.083594547685 and parameters: {'changepoint_prior_scale': 0.3826123635948249, 'seasonality_mode': 'additive'}. Best is trial 13 with value: 121.86993924569185.\n",
      "19:45:54 - cmdstanpy - INFO - Chain [1] start processing\n",
      "19:45:54 - cmdstanpy - INFO - Chain [1] done processing\n",
      "[I 2024-01-18 19:45:54,509] Trial 40 finished with value: 122.14636720046293 and parameters: {'changepoint_prior_scale': 0.21890754218143935, 'seasonality_mode': 'multiplicative'}. Best is trial 13 with value: 121.86993924569185.\n",
      "19:45:54 - cmdstanpy - INFO - Chain [1] start processing\n",
      "19:45:54 - cmdstanpy - INFO - Chain [1] done processing\n",
      "[I 2024-01-18 19:45:55,084] Trial 41 finished with value: 122.69836425914615 and parameters: {'changepoint_prior_scale': 0.0028979562514281146, 'seasonality_mode': 'multiplicative'}. Best is trial 13 with value: 121.86993924569185.\n",
      "19:45:55 - cmdstanpy - INFO - Chain [1] start processing\n",
      "19:45:55 - cmdstanpy - INFO - Chain [1] done processing\n",
      "[I 2024-01-18 19:45:55,658] Trial 42 finished with value: 121.87444914785543 and parameters: {'changepoint_prior_scale': 0.059985032437125656, 'seasonality_mode': 'multiplicative'}. Best is trial 13 with value: 121.86993924569185.\n",
      "19:45:56 - cmdstanpy - INFO - Chain [1] start processing\n",
      "19:45:56 - cmdstanpy - INFO - Chain [1] done processing\n",
      "[I 2024-01-18 19:45:56,235] Trial 43 finished with value: 121.87892575320264 and parameters: {'changepoint_prior_scale': 0.10387982491666287, 'seasonality_mode': 'multiplicative'}. Best is trial 13 with value: 121.86993924569185.\n",
      "19:45:56 - cmdstanpy - INFO - Chain [1] start processing\n",
      "19:45:56 - cmdstanpy - INFO - Chain [1] done processing\n",
      "[I 2024-01-18 19:45:56,837] Trial 44 finished with value: 121.87418104744152 and parameters: {'changepoint_prior_scale': 0.0410464234386335, 'seasonality_mode': 'multiplicative'}. Best is trial 13 with value: 121.86993924569185.\n",
      "19:45:57 - cmdstanpy - INFO - Chain [1] start processing\n",
      "19:45:57 - cmdstanpy - INFO - Chain [1] done processing\n",
      "[I 2024-01-18 19:45:57,460] Trial 45 finished with value: 142.53826469051364 and parameters: {'changepoint_prior_scale': 0.06691016215952729, 'seasonality_mode': 'additive'}. Best is trial 13 with value: 121.86993924569185.\n",
      "19:45:57 - cmdstanpy - INFO - Chain [1] start processing\n",
      "19:45:57 - cmdstanpy - INFO - Chain [1] done processing\n",
      "[I 2024-01-18 19:45:58,067] Trial 46 finished with value: 122.11475573830076 and parameters: {'changepoint_prior_scale': 0.28651695086195084, 'seasonality_mode': 'multiplicative'}. Best is trial 13 with value: 121.86993924569185.\n",
      "19:45:58 - cmdstanpy - INFO - Chain [1] start processing\n",
      "19:45:58 - cmdstanpy - INFO - Chain [1] done processing\n",
      "[I 2024-01-18 19:45:58,671] Trial 47 finished with value: 121.92511950253228 and parameters: {'changepoint_prior_scale': 0.024431090964338292, 'seasonality_mode': 'multiplicative'}. Best is trial 13 with value: 121.86993924569185.\n"
     ]
    },
    {
     "name": "stderr",
     "output_type": "stream",
     "text": [
      "19:45:59 - cmdstanpy - INFO - Chain [1] start processing\n",
      "19:45:59 - cmdstanpy - INFO - Chain [1] done processing\n",
      "[I 2024-01-18 19:45:59,268] Trial 48 finished with value: 122.12520922910102 and parameters: {'changepoint_prior_scale': 0.4792746430460457, 'seasonality_mode': 'multiplicative'}. Best is trial 13 with value: 121.86993924569185.\n",
      "19:45:59 - cmdstanpy - INFO - Chain [1] start processing\n",
      "19:45:59 - cmdstanpy - INFO - Chain [1] done processing\n",
      "[I 2024-01-18 19:45:59,858] Trial 49 finished with value: 121.87546846071007 and parameters: {'changepoint_prior_scale': 0.0839322296929113, 'seasonality_mode': 'multiplicative'}. Best is trial 13 with value: 121.86993924569185.\n",
      "19:46:00 - cmdstanpy - INFO - Chain [1] start processing\n",
      "19:46:00 - cmdstanpy - INFO - Chain [1] done processing\n",
      "[I 2024-01-18 19:46:00,444] Trial 50 finished with value: 243.09596205224824 and parameters: {'changepoint_prior_scale': 0.11494227411739746, 'seasonality_mode': 'additive'}. Best is trial 13 with value: 121.86993924569185.\n",
      "19:46:00 - cmdstanpy - INFO - Chain [1] start processing\n",
      "19:46:00 - cmdstanpy - INFO - Chain [1] done processing\n",
      "[I 2024-01-18 19:46:01,030] Trial 51 finished with value: 121.87063974406605 and parameters: {'changepoint_prior_scale': 0.06874953466300965, 'seasonality_mode': 'multiplicative'}. Best is trial 13 with value: 121.86993924569185.\n",
      "19:46:01 - cmdstanpy - INFO - Chain [1] start processing\n",
      "19:46:01 - cmdstanpy - INFO - Chain [1] done processing\n",
      "[I 2024-01-18 19:46:01,641] Trial 52 finished with value: 121.87060049195887 and parameters: {'changepoint_prior_scale': 0.05390786611824441, 'seasonality_mode': 'multiplicative'}. Best is trial 13 with value: 121.86993924569185.\n",
      "19:46:02 - cmdstanpy - INFO - Chain [1] start processing\n",
      "19:46:02 - cmdstanpy - INFO - Chain [1] done processing\n",
      "[I 2024-01-18 19:46:02,229] Trial 53 finished with value: 121.87493695483114 and parameters: {'changepoint_prior_scale': 0.09325744998698218, 'seasonality_mode': 'multiplicative'}. Best is trial 13 with value: 121.86993924569185.\n",
      "19:46:02 - cmdstanpy - INFO - Chain [1] start processing\n",
      "19:46:02 - cmdstanpy - INFO - Chain [1] done processing\n",
      "[I 2024-01-18 19:46:02,835] Trial 54 finished with value: 121.87957604044901 and parameters: {'changepoint_prior_scale': 0.016182307048418457, 'seasonality_mode': 'multiplicative'}. Best is trial 13 with value: 121.86993924569185.\n",
      "19:46:03 - cmdstanpy - INFO - Chain [1] start processing\n",
      "19:46:03 - cmdstanpy - INFO - Chain [1] done processing\n",
      "[I 2024-01-18 19:46:03,462] Trial 55 finished with value: 122.19300936763892 and parameters: {'changepoint_prior_scale': 0.14685409689390977, 'seasonality_mode': 'multiplicative'}. Best is trial 13 with value: 121.86993924569185.\n",
      "19:46:03 - cmdstanpy - INFO - Chain [1] start processing\n",
      "19:46:03 - cmdstanpy - INFO - Chain [1] done processing\n",
      "[I 2024-01-18 19:46:04,170] Trial 56 finished with value: 124.17986403119592 and parameters: {'changepoint_prior_scale': 0.0013116388118977196, 'seasonality_mode': 'multiplicative'}. Best is trial 13 with value: 121.86993924569185.\n",
      "19:46:04 - cmdstanpy - INFO - Chain [1] start processing\n",
      "19:46:04 - cmdstanpy - INFO - Chain [1] done processing\n",
      "[I 2024-01-18 19:46:04,784] Trial 57 finished with value: 121.87099792229618 and parameters: {'changepoint_prior_scale': 0.052506305376761805, 'seasonality_mode': 'multiplicative'}. Best is trial 13 with value: 121.86993924569185.\n",
      "19:46:05 - cmdstanpy - INFO - Chain [1] start processing\n",
      "19:46:05 - cmdstanpy - INFO - Chain [1] done processing\n",
      "[I 2024-01-18 19:46:05,247] Trial 58 finished with value: 121.87154337255382 and parameters: {'changepoint_prior_scale': 0.07568210503067532, 'seasonality_mode': 'multiplicative'}. Best is trial 13 with value: 121.86993924569185.\n",
      "19:46:05 - cmdstanpy - INFO - Chain [1] start processing\n",
      "19:46:05 - cmdstanpy - INFO - Chain [1] done processing\n",
      "[I 2024-01-18 19:46:05,876] Trial 59 finished with value: 121.92663568927595 and parameters: {'changepoint_prior_scale': 0.03172411376135792, 'seasonality_mode': 'multiplicative'}. Best is trial 13 with value: 121.86993924569185.\n",
      "19:46:06 - cmdstanpy - INFO - Chain [1] start processing\n",
      "19:46:06 - cmdstanpy - INFO - Chain [1] done processing\n",
      "[I 2024-01-18 19:46:06,512] Trial 60 finished with value: 121.88077496115419 and parameters: {'changepoint_prior_scale': 0.12075397615103772, 'seasonality_mode': 'multiplicative'}. Best is trial 13 with value: 121.86993924569185.\n",
      "19:46:06 - cmdstanpy - INFO - Chain [1] start processing\n",
      "19:46:06 - cmdstanpy - INFO - Chain [1] done processing\n",
      "[I 2024-01-18 19:46:06,970] Trial 61 finished with value: 121.87251501711229 and parameters: {'changepoint_prior_scale': 0.04723551043904324, 'seasonality_mode': 'multiplicative'}. Best is trial 13 with value: 121.86993924569185.\n",
      "19:46:07 - cmdstanpy - INFO - Chain [1] start processing\n",
      "19:46:07 - cmdstanpy - INFO - Chain [1] done processing\n",
      "[I 2024-01-18 19:46:07,582] Trial 62 finished with value: 121.88403258971705 and parameters: {'changepoint_prior_scale': 0.06814507100982557, 'seasonality_mode': 'multiplicative'}. Best is trial 13 with value: 121.86993924569185.\n",
      "19:46:08 - cmdstanpy - INFO - Chain [1] start processing\n",
      "19:46:08 - cmdstanpy - INFO - Chain [1] done processing\n",
      "[I 2024-01-18 19:46:08,215] Trial 63 finished with value: 121.87733537302049 and parameters: {'changepoint_prior_scale': 0.09579050354702366, 'seasonality_mode': 'multiplicative'}. Best is trial 13 with value: 121.86993924569185.\n",
      "19:46:08 - cmdstanpy - INFO - Chain [1] start processing\n",
      "19:46:08 - cmdstanpy - INFO - Chain [1] done processing\n",
      "[I 2024-01-18 19:46:08,661] Trial 64 finished with value: 121.90257880811137 and parameters: {'changepoint_prior_scale': 0.02161829380375546, 'seasonality_mode': 'multiplicative'}. Best is trial 13 with value: 121.86993924569185.\n",
      "19:46:08 - cmdstanpy - INFO - Chain [1] start processing\n",
      "19:46:08 - cmdstanpy - INFO - Chain [1] done processing\n",
      "[I 2024-01-18 19:46:09,103] Trial 65 finished with value: 121.87101367543755 and parameters: {'changepoint_prior_scale': 0.0479167394538579, 'seasonality_mode': 'multiplicative'}. Best is trial 13 with value: 121.86993924569185.\n",
      "19:46:09 - cmdstanpy - INFO - Chain [1] start processing\n",
      "19:46:09 - cmdstanpy - INFO - Chain [1] done processing\n",
      "[I 2024-01-18 19:46:09,745] Trial 66 finished with value: 121.87651830373132 and parameters: {'changepoint_prior_scale': 0.08137831983353876, 'seasonality_mode': 'multiplicative'}. Best is trial 13 with value: 121.86993924569185.\n",
      "19:46:10 - cmdstanpy - INFO - Chain [1] start processing\n",
      "19:46:10 - cmdstanpy - INFO - Chain [1] done processing\n",
      "[I 2024-01-18 19:46:10,409] Trial 67 finished with value: 122.15369421633254 and parameters: {'changepoint_prior_scale': 0.17771923150976643, 'seasonality_mode': 'multiplicative'}. Best is trial 13 with value: 121.86993924569185.\n",
      "19:46:10 - cmdstanpy - INFO - Chain [1] start processing\n",
      "19:46:10 - cmdstanpy - INFO - Chain [1] done processing\n",
      "[I 2024-01-18 19:46:11,026] Trial 68 finished with value: 121.87187644013369 and parameters: {'changepoint_prior_scale': 0.06172943726425004, 'seasonality_mode': 'multiplicative'}. Best is trial 13 with value: 121.86993924569185.\n",
      "19:46:11 - cmdstanpy - INFO - Chain [1] start processing\n",
      "19:46:11 - cmdstanpy - INFO - Chain [1] done processing\n",
      "[I 2024-01-18 19:46:11,643] Trial 69 finished with value: 264.601604634663 and parameters: {'changepoint_prior_scale': 0.1372173371817931, 'seasonality_mode': 'additive'}. Best is trial 13 with value: 121.86993924569185.\n",
      "19:46:11 - cmdstanpy - INFO - Chain [1] start processing\n",
      "19:46:11 - cmdstanpy - INFO - Chain [1] done processing\n",
      "[I 2024-01-18 19:46:12,097] Trial 70 finished with value: 121.87145821061476 and parameters: {'changepoint_prior_scale': 0.03372936774567063, 'seasonality_mode': 'multiplicative'}. Best is trial 13 with value: 121.86993924569185.\n",
      "19:46:12 - cmdstanpy - INFO - Chain [1] start processing\n",
      "19:46:12 - cmdstanpy - INFO - Chain [1] done processing\n",
      "[I 2024-01-18 19:46:12,720] Trial 71 finished with value: 121.87131573306779 and parameters: {'changepoint_prior_scale': 0.05230794599787705, 'seasonality_mode': 'multiplicative'}. Best is trial 13 with value: 121.86993924569185.\n"
     ]
    },
    {
     "name": "stderr",
     "output_type": "stream",
     "text": [
      "19:46:13 - cmdstanpy - INFO - Chain [1] start processing\n",
      "19:46:13 - cmdstanpy - INFO - Chain [1] done processing\n",
      "[I 2024-01-18 19:46:13,318] Trial 72 finished with value: 121.87966906869322 and parameters: {'changepoint_prior_scale': 0.011379404409839367, 'seasonality_mode': 'multiplicative'}. Best is trial 13 with value: 121.86993924569185.\n",
      "19:46:13 - cmdstanpy - INFO - Chain [1] start processing\n",
      "19:46:13 - cmdstanpy - INFO - Chain [1] done processing\n",
      "[I 2024-01-18 19:46:13,957] Trial 73 finished with value: 121.8786670136284 and parameters: {'changepoint_prior_scale': 0.10702758009989471, 'seasonality_mode': 'multiplicative'}. Best is trial 13 with value: 121.86993924569185.\n",
      "19:46:14 - cmdstanpy - INFO - Chain [1] start processing\n",
      "19:46:14 - cmdstanpy - INFO - Chain [1] done processing\n",
      "[I 2024-01-18 19:46:14,579] Trial 74 finished with value: 121.8714693375162 and parameters: {'changepoint_prior_scale': 0.04813361221625066, 'seasonality_mode': 'multiplicative'}. Best is trial 13 with value: 121.86993924569185.\n",
      "19:46:15 - cmdstanpy - INFO - Chain [1] start processing\n",
      "19:46:15 - cmdstanpy - INFO - Chain [1] done processing\n",
      "[I 2024-01-18 19:46:15,186] Trial 75 finished with value: 121.87376967399474 and parameters: {'changepoint_prior_scale': 0.0801102818024522, 'seasonality_mode': 'multiplicative'}. Best is trial 13 with value: 121.86993924569185.\n",
      "19:46:15 - cmdstanpy - INFO - Chain [1] start processing\n",
      "19:46:15 - cmdstanpy - INFO - Chain [1] done processing\n",
      "[I 2024-01-18 19:46:15,791] Trial 76 finished with value: 121.93606384943959 and parameters: {'changepoint_prior_scale': 0.02519491376275327, 'seasonality_mode': 'multiplicative'}. Best is trial 13 with value: 121.86993924569185.\n",
      "19:46:16 - cmdstanpy - INFO - Chain [1] start processing\n",
      "19:46:16 - cmdstanpy - INFO - Chain [1] done processing\n",
      "[I 2024-01-18 19:46:16,416] Trial 77 finished with value: 121.87180765963107 and parameters: {'changepoint_prior_scale': 0.059720989017471776, 'seasonality_mode': 'multiplicative'}. Best is trial 13 with value: 121.86993924569185.\n",
      "19:46:16 - cmdstanpy - INFO - Chain [1] start processing\n",
      "19:46:16 - cmdstanpy - INFO - Chain [1] done processing\n",
      "[I 2024-01-18 19:46:17,025] Trial 78 finished with value: 121.87633253870054 and parameters: {'changepoint_prior_scale': 0.09251454274534088, 'seasonality_mode': 'multiplicative'}. Best is trial 13 with value: 121.86993924569185.\n",
      "19:46:17 - cmdstanpy - INFO - Chain [1] start processing\n",
      "19:46:17 - cmdstanpy - INFO - Chain [1] done processing\n",
      "[I 2024-01-18 19:46:17,629] Trial 79 finished with value: 121.87471127871515 and parameters: {'changepoint_prior_scale': 0.03863320198409318, 'seasonality_mode': 'multiplicative'}. Best is trial 13 with value: 121.86993924569185.\n",
      "19:46:18 - cmdstanpy - INFO - Chain [1] start processing\n",
      "19:46:18 - cmdstanpy - INFO - Chain [1] done processing\n",
      "[I 2024-01-18 19:46:18,293] Trial 80 finished with value: 248.82191107926528 and parameters: {'changepoint_prior_scale': 0.39710445916098186, 'seasonality_mode': 'additive'}. Best is trial 13 with value: 121.86993924569185.\n",
      "19:46:18 - cmdstanpy - INFO - Chain [1] start processing\n",
      "19:46:18 - cmdstanpy - INFO - Chain [1] done processing\n",
      "[I 2024-01-18 19:46:18,926] Trial 81 finished with value: 121.8762045473964 and parameters: {'changepoint_prior_scale': 0.048767799920057094, 'seasonality_mode': 'multiplicative'}. Best is trial 13 with value: 121.86993924569185.\n",
      "19:46:19 - cmdstanpy - INFO - Chain [1] start processing\n",
      "19:46:19 - cmdstanpy - INFO - Chain [1] done processing\n",
      "[I 2024-01-18 19:46:19,382] Trial 82 finished with value: 121.87275168911657 and parameters: {'changepoint_prior_scale': 0.07158365084965435, 'seasonality_mode': 'multiplicative'}. Best is trial 13 with value: 121.86993924569185.\n",
      "19:46:19 - cmdstanpy - INFO - Chain [1] start processing\n",
      "19:46:19 - cmdstanpy - INFO - Chain [1] done processing\n",
      "[I 2024-01-18 19:46:20,015] Trial 83 finished with value: 121.87467812472615 and parameters: {'changepoint_prior_scale': 0.01579857209752971, 'seasonality_mode': 'multiplicative'}. Best is trial 13 with value: 121.86993924569185.\n",
      "19:46:20 - cmdstanpy - INFO - Chain [1] start processing\n",
      "19:46:20 - cmdstanpy - INFO - Chain [1] done processing\n",
      "[I 2024-01-18 19:46:20,488] Trial 84 finished with value: 122.06965487932496 and parameters: {'changepoint_prior_scale': 0.32332643908589487, 'seasonality_mode': 'multiplicative'}. Best is trial 13 with value: 121.86993924569185.\n",
      "19:46:20 - cmdstanpy - INFO - Chain [1] start processing\n",
      "19:46:20 - cmdstanpy - INFO - Chain [1] done processing\n",
      "[I 2024-01-18 19:46:21,114] Trial 85 finished with value: 121.87037676966827 and parameters: {'changepoint_prior_scale': 0.05163698090499531, 'seasonality_mode': 'multiplicative'}. Best is trial 13 with value: 121.86993924569185.\n",
      "19:46:21 - cmdstanpy - INFO - Chain [1] start processing\n",
      "19:46:21 - cmdstanpy - INFO - Chain [1] done processing\n",
      "[I 2024-01-18 19:46:21,756] Trial 86 finished with value: 121.93368646063213 and parameters: {'changepoint_prior_scale': 0.031244284603973882, 'seasonality_mode': 'multiplicative'}. Best is trial 13 with value: 121.86993924569185.\n",
      "19:46:22 - cmdstanpy - INFO - Chain [1] start processing\n",
      "19:46:22 - cmdstanpy - INFO - Chain [1] done processing\n",
      "[I 2024-01-18 19:46:22,199] Trial 87 finished with value: 121.87139364915879 and parameters: {'changepoint_prior_scale': 0.0656392082976908, 'seasonality_mode': 'multiplicative'}. Best is trial 13 with value: 121.86993924569185.\n",
      "19:46:22 - cmdstanpy - INFO - Chain [1] start processing\n",
      "19:46:22 - cmdstanpy - INFO - Chain [1] done processing\n",
      "[I 2024-01-18 19:46:22,815] Trial 88 finished with value: 121.87830723912154 and parameters: {'changepoint_prior_scale': 0.10775431467620106, 'seasonality_mode': 'multiplicative'}. Best is trial 13 with value: 121.86993924569185.\n",
      "19:46:23 - cmdstanpy - INFO - Chain [1] start processing\n",
      "19:46:23 - cmdstanpy - INFO - Chain [1] done processing\n",
      "[I 2024-01-18 19:46:23,428] Trial 89 finished with value: 121.92919601149798 and parameters: {'changepoint_prior_scale': 0.009060132731630956, 'seasonality_mode': 'multiplicative'}. Best is trial 13 with value: 121.86993924569185.\n",
      "19:46:23 - cmdstanpy - INFO - Chain [1] start processing\n",
      "19:46:23 - cmdstanpy - INFO - Chain [1] done processing\n",
      "[I 2024-01-18 19:46:24,051] Trial 90 finished with value: 121.87234388208631 and parameters: {'changepoint_prior_scale': 0.08572453185398544, 'seasonality_mode': 'multiplicative'}. Best is trial 13 with value: 121.86993924569185.\n",
      "19:46:24 - cmdstanpy - INFO - Chain [1] start processing\n",
      "19:46:24 - cmdstanpy - INFO - Chain [1] done processing\n",
      "[I 2024-01-18 19:46:24,655] Trial 91 finished with value: 121.87519111901447 and parameters: {'changepoint_prior_scale': 0.047156233761452435, 'seasonality_mode': 'multiplicative'}. Best is trial 13 with value: 121.86993924569185.\n",
      "19:46:25 - cmdstanpy - INFO - Chain [1] start processing\n",
      "19:46:25 - cmdstanpy - INFO - Chain [1] done processing\n",
      "[I 2024-01-18 19:46:25,283] Trial 92 finished with value: 121.87155502242251 and parameters: {'changepoint_prior_scale': 0.05566500251413766, 'seasonality_mode': 'multiplicative'}. Best is trial 13 with value: 121.86993924569185.\n",
      "19:46:25 - cmdstanpy - INFO - Chain [1] start processing\n",
      "19:46:25 - cmdstanpy - INFO - Chain [1] done processing\n",
      "[I 2024-01-18 19:46:25,905] Trial 93 finished with value: 121.87090188305626 and parameters: {'changepoint_prior_scale': 0.0385260285925989, 'seasonality_mode': 'multiplicative'}. Best is trial 13 with value: 121.86993924569185.\n",
      "19:46:26 - cmdstanpy - INFO - Chain [1] start processing\n",
      "19:46:26 - cmdstanpy - INFO - Chain [1] done processing\n",
      "[I 2024-01-18 19:46:26,536] Trial 94 finished with value: 121.8731996232656 and parameters: {'changepoint_prior_scale': 0.037424607505670344, 'seasonality_mode': 'multiplicative'}. Best is trial 13 with value: 121.86993924569185.\n",
      "19:46:26 - cmdstanpy - INFO - Chain [1] start processing\n",
      "19:46:27 - cmdstanpy - INFO - Chain [1] done processing\n",
      "[I 2024-01-18 19:46:27,156] Trial 95 finished with value: 122.19286073909163 and parameters: {'changepoint_prior_scale': 0.23316144947543702, 'seasonality_mode': 'multiplicative'}. Best is trial 13 with value: 121.86993924569185.\n"
     ]
    },
    {
     "name": "stderr",
     "output_type": "stream",
     "text": [
      "19:46:27 - cmdstanpy - INFO - Chain [1] start processing\n",
      "19:46:27 - cmdstanpy - INFO - Chain [1] done processing\n",
      "[I 2024-01-18 19:46:27,595] Trial 96 finished with value: 121.87236201736152 and parameters: {'changepoint_prior_scale': 0.07351837390404167, 'seasonality_mode': 'multiplicative'}. Best is trial 13 with value: 121.86993924569185.\n",
      "19:46:28 - cmdstanpy - INFO - Chain [1] start processing\n",
      "19:46:28 - cmdstanpy - INFO - Chain [1] done processing\n",
      "[I 2024-01-18 19:46:28,204] Trial 97 finished with value: 142.40149882940133 and parameters: {'changepoint_prior_scale': 0.024675798144781914, 'seasonality_mode': 'additive'}. Best is trial 13 with value: 121.86993924569185.\n",
      "19:46:28 - cmdstanpy - INFO - Chain [1] start processing\n",
      "19:46:28 - cmdstanpy - INFO - Chain [1] done processing\n",
      "[I 2024-01-18 19:46:28,822] Trial 98 finished with value: 121.87619275317964 and parameters: {'changepoint_prior_scale': 0.09469099628452042, 'seasonality_mode': 'multiplicative'}. Best is trial 13 with value: 121.86993924569185.\n",
      "19:46:29 - cmdstanpy - INFO - Chain [1] start processing\n",
      "19:46:29 - cmdstanpy - INFO - Chain [1] done processing\n",
      "[I 2024-01-18 19:46:29,427] Trial 99 finished with value: 122.57065903935342 and parameters: {'changepoint_prior_scale': 0.0032558365469845807, 'seasonality_mode': 'multiplicative'}. Best is trial 13 with value: 121.86993924569185.\n",
      "19:46:29 - cmdstanpy - INFO - Chain [1] start processing\n",
      "19:46:29 - cmdstanpy - INFO - Chain [1] done processing\n"
     ]
    },
    {
     "name": "stdout",
     "output_type": "stream",
     "text": [
      "RMSE: 121.86993924569185\n",
      "MAE: 86.22897835502127\n"
     ]
    }
   ],
   "source": [
    "# Define the objective function to optimize\n",
    "def objective(trial):\n",
    "    # Create a Prophet model with suggested hyperparameters\n",
    "    model = Prophet(\n",
    "        changepoint_prior_scale=trial.suggest_float(\"changepoint_prior_scale\", 0.001, 0.5),\n",
    "        seasonality_mode=trial.suggest_categorical(\"seasonality_mode\", [\"additive\", \"multiplicative\"]),\n",
    "    )\n",
    "    # Fit the model to the training data\n",
    "    model.fit(train2)\n",
    "\n",
    "    # Make predictions on the validation set\n",
    "    future_dates = model.make_future_dataframe(periods=len(test2), freq='M')\n",
    "    forecast = model.predict(future_dates)\n",
    "    test_predictions = forecast['yhat'][-len(test2):]\n",
    "    \n",
    "    # Calculate evaluation metric (e.g., RMSE)\n",
    "    rmse = np.sqrt(mean_squared_error(test2['y'], test_predictions))\n",
    "\n",
    "    return rmse  # Minimize RMSE\n",
    "\n",
    "# Create an Optuna study\n",
    "study = optuna.create_study(direction=\"minimize\")\n",
    "\n",
    "# Run the optimization\n",
    "study.optimize(objective, n_trials=100)  # Adjust the number of trials as needed\n",
    "\n",
    "# Get the best hyperparameters\n",
    "best_params = study.best_params\n",
    "\n",
    "# Create the best model using the optimal hyperparameters\n",
    "best_model = Prophet(**best_params)\n",
    "# Fit the best model to the entire dataset\n",
    "best_model.fit(train2)\n",
    "\n",
    "# Predicting the values\n",
    "future_dates = best_model.make_future_dataframe(periods=len(test2), freq='M')\n",
    "forecast = best_model.predict(future_dates)\n",
    "test_predictions3 = forecast['yhat'][-len(test2):]\n",
    "metrics(test2['y'], test_predictions3)"
   ]
  },
  {
   "cell_type": "markdown",
   "metadata": {},
   "source": [
    "From the model above and the best parameters chosen by optuna our prophet model has an RMSE of 121.87 and an MAE of 86.22 which is better than the other prophet models. However, it is second to the best ARIMA model. With that, we will choose the ARIMA model as our final model. "
   ]
  },
  {
   "cell_type": "markdown",
   "metadata": {},
   "source": [
    "## Conclusion  \n",
    "From the project we were able to answer all our objectives and had the following conclusion:  \n",
    "\n",
    "1. The best zipcodes to invest in are: \n",
    "    1. 11211 - Brooklyn, New York\n",
    "    2. 11222 - Brooklyn, New York\n",
    "    3. 11216 - Brooklyn, New York\n",
    "    4. 7302 - Jersey City, New Jersey  \n",
    "    5. 11930 - Amagansett, New York.  \n",
    "\n",
    "   The best cities to invest in are:\n",
    "    1. New York\n",
    "    2. Jersey City\n",
    "    3. Amagansett\n",
    "    4. Wainscott\n",
    "    5. Harbeson\n",
    "\n",
    "   The best states to invest in are:  \n",
    "    1. New York\n",
    "    2. New Jersey \n",
    "    3. Delaware  \n",
    "    4. South Dakota \n",
    "    5. California\n",
    "\n",
    "2.  We noted that there is an upward trend with our data, which suggests that the real estate value increases with time. There is no clear way to determine which time period is suitable to invest in Real Estate, since the data contained no seasonality.  \n",
    "\n",
    "3. We created a predictive time series model. This will help in predicting future Real Estate values.\n"
   ]
  },
  {
   "cell_type": "markdown",
   "metadata": {},
   "source": [
    "## Recommendation\n",
    "1. From our finding it is advisable to invest in Real Estate, the data showed an upward trend, indicating appreciating values over the years.\n",
    "\n",
    "2. To potential real estate investors, we recommend investing in the following states, New York, New Jersey, Colorado, Carlifornia and Washington DC, from the analysis these states showed promising Returns on Investment. The best zipcodes were found within the states mentioned, these are, 11211 - Brooklyn, New York, 11222 - Brooklyn, New York, 11216 - Brooklyn, New York, 7302 - Jersey City, New Jersey and 11215 - Brooklyn, New York.  \n",
    "\n",
    "3. As a way to mitigate risk we recommend using the model created to forecast future values of Real Estate. This will help in giving accurate future Real Estate values."
   ]
  },
  {
   "cell_type": "markdown",
   "metadata": {},
   "source": [
    "### Next Steps  \n",
    "\n",
    "1. To collect more data on Real Estate Values - more data will better inform the model and lead to better predictive results.\n",
    "\n",
    "2. Continuous model training to improve accuracy of the model."
   ]
  },
  {
   "cell_type": "markdown",
   "metadata": {},
   "source": [
    "## Saving the model"
   ]
  },
  {
   "cell_type": "code",
   "execution_count": 61,
   "metadata": {},
   "outputs": [],
   "source": [
    "# Save the model using joblib\n",
    "with open('arima_model.pkl', 'wb') as f:\n",
    "    joblib.dump(final_ARIMA_model, f)"
   ]
  },
  {
   "cell_type": "markdown",
   "metadata": {},
   "source": [
    "## Model deployment using streamlit."
   ]
  },
  {
   "cell_type": "code",
   "execution_count": 62,
   "metadata": {},
   "outputs": [
    {
     "name": "stdout",
     "output_type": "stream",
     "text": [
      "Overwriting model_app.py\n"
     ]
    }
   ],
   "source": [
    "%%writefile model_app.py\n",
    "import streamlit as st\n",
    "import pandas as pd\n",
    "from statsmodels.tsa.arima.model import ARIMA\n",
    "import joblib\n",
    "# Load the saved model\n",
    "model = joblib.load(\"arima_model.pkl\")\n",
    "\n",
    "# Load your time-series data\n",
    "df = pd.read_csv(\"zillow_data.csv\")\n",
    "\n",
    "def melt_data(df):\n",
    "    \"\"\"\n",
    "    Takes the zillow_data dataset in wide form or a subset of the zillow_dataset.  \n",
    "    Returns a long-form datetime dataframe \n",
    "    with the datetime column names as the index and the values as the 'values' column.\n",
    "\n",
    "    If more than one row is passes in the wide-form dataset, the values column\n",
    "    will be the mean of the values from the datetime columns in all of the rows.\n",
    "    \"\"\"\n",
    "    \n",
    "    #Melt the DataFrame\n",
    "    melted = pd.melt(df, id_vars=['RegionName', 'RegionID', 'SizeRank', 'City', 'State', 'Metro', 'CountyName'], var_name='Date')\n",
    "    \n",
    "    #Convert the 'Date' column to datatime format\n",
    "    melted['Date'] = pd.to_datetime(melted['Date'], infer_datetime_format=True)\n",
    "    \n",
    "    #Drop rows with missing 'value' entries\n",
    "    melted = melted.dropna(subset=['value'])\n",
    "\n",
    "    #Group by 'Date' and calculate the mean of the 'value' column\n",
    "    return melted.groupby('Date').aggregate({'value':'mean'})\n",
    "\n",
    "data = melt_data(df)\n",
    "data_diff = data.diff(periods=1).dropna()\n",
    "data_diff2 = data_diff.diff(periods=1).dropna()\n",
    "\n",
    "model.fit(data_diff2)\n",
    "\n",
    "# Define a function to make predictions\n",
    "# Function to make predictions\n",
    "def predict_future(n_periods):\n",
    "    forecast = model.predict(n_periods=n_periods)\n",
    "    return forecast\n",
    "\n",
    "# Create the Streamlit app\n",
    "st.title(\"ARIMA Forecast App\")\n",
    "\n",
    "# Enable user input for prediction horizon\n",
    "n_periods = st.number_input(\"Enter number of periods to forecast:\", min_value=1)\n",
    "\n",
    "# Generate predictions based on user input\n",
    "forecast_data = predict_future(n_periods)\n",
    "\n",
    "# Display forecast data\n",
    "st.subheader(\"Forecast\")\n",
    "st.write(forecast_data)\n",
    "\n",
    "# Visualize the forecast (optional)\n",
    "st.line_chart(forecast_data)"
   ]
  }
 ],
 "metadata": {
  "kernelspec": {
   "display_name": "Python (learn-env)",
   "language": "python",
   "name": "learn-env"
  },
  "language_info": {
   "codemirror_mode": {
    "name": "ipython",
    "version": 3
   },
   "file_extension": ".py",
   "mimetype": "text/x-python",
   "name": "python",
   "nbconvert_exporter": "python",
   "pygments_lexer": "ipython3",
   "version": "3.8.5"
  }
 },
 "nbformat": 4,
 "nbformat_minor": 2
}
